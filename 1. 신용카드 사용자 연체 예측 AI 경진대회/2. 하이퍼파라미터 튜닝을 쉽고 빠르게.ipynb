{
 "cells": [
  {
   "cell_type": "markdown",
   "source": [
    "# 2. 하이퍼파라미터 튜닝을 쉽고 빠르게 하는 방법\r\n",
    "코드공유에서 가장 좋아요 많이 받은 글\r\n",
    "https://dacon.io/competitions/official/235713/codeshare/2704?page=1&dtype=vote"
   ],
   "metadata": {}
  },
  {
   "cell_type": "markdown",
   "source": [
    "## 순서 글로 정리\r\n",
    "Optuna 실험해보기  \r\n",
    "처음보는 내용이기 때문에 바로 필사"
   ],
   "metadata": {}
  },
  {
   "cell_type": "code",
   "execution_count": 2,
   "source": [
    "import numpy as np\r\n",
    "import pandas as pd\r\n",
    "import optuna\r\n",
    "from lightgbm import LGBMClassifier\r\n",
    "from optuna import Trial\r\n",
    "from optuna.samplers import TPESampler\r\n",
    "from sklearn.metrics import log_loss\r\n",
    "from sklearn.model_selection import train_test_split"
   ],
   "outputs": [],
   "metadata": {}
  },
  {
   "cell_type": "code",
   "execution_count": 7,
   "source": [
    "train = pd.read_csv('./data/train.csv')\r\n",
    "test = pd.read_csv('./data/test.csv')\r\n",
    "\r\n",
    "train = train.drop(['index'], axis=1)\r\n",
    "train.fillna('NAN', inplace=True)\r\n",
    "test = test.drop(['index'], axis=1)\r\n",
    "test.fillna('NAN', inplace=True)\r\n",
    "\r\n",
    "# index 열 떼고 NaN 값들을 캐릭터 \"NAN\" 으로 대입"
   ],
   "outputs": [],
   "metadata": {}
  },
  {
   "cell_type": "code",
   "execution_count": 10,
   "source": [
    "train"
   ],
   "outputs": [
    {
     "output_type": "execute_result",
     "data": {
      "text/plain": [
       "      gender car reality  child_num  income_total           income_type  \\\n",
       "0          F   N       N          0      202500.0  Commercial associate   \n",
       "1          F   N       Y          1      247500.0  Commercial associate   \n",
       "2          M   Y       Y          0      450000.0               Working   \n",
       "3          F   N       Y          0      202500.0  Commercial associate   \n",
       "4          F   Y       Y          0      157500.0         State servant   \n",
       "...      ...  ..     ...        ...           ...                   ...   \n",
       "26452      F   N       N          2      225000.0         State servant   \n",
       "26453      F   N       Y          1      180000.0               Working   \n",
       "26454      F   Y       N          0      292500.0               Working   \n",
       "26455      M   N       Y          0      171000.0               Working   \n",
       "26456      F   N       N          0       81000.0               Working   \n",
       "\n",
       "                            edu_type           family_type  \\\n",
       "0                   Higher education               Married   \n",
       "1      Secondary / secondary special        Civil marriage   \n",
       "2                   Higher education               Married   \n",
       "3      Secondary / secondary special               Married   \n",
       "4                   Higher education               Married   \n",
       "...                              ...                   ...   \n",
       "26452  Secondary / secondary special               Married   \n",
       "26453               Higher education             Separated   \n",
       "26454  Secondary / secondary special        Civil marriage   \n",
       "26455              Incomplete higher  Single / not married   \n",
       "26456  Secondary / secondary special        Civil marriage   \n",
       "\n",
       "                house_type  DAYS_BIRTH  DAYS_EMPLOYED  FLAG_MOBIL  work_phone  \\\n",
       "0      Municipal apartment      -13899          -4709           1           0   \n",
       "1        House / apartment      -11380          -1540           1           0   \n",
       "2        House / apartment      -19087          -4434           1           0   \n",
       "3        House / apartment      -15088          -2092           1           0   \n",
       "4        House / apartment      -15037          -2105           1           0   \n",
       "...                    ...         ...            ...         ...         ...   \n",
       "26452    House / apartment      -12079          -1984           1           0   \n",
       "26453    House / apartment      -15291          -2475           1           0   \n",
       "26454         With parents      -10082          -2015           1           0   \n",
       "26455    House / apartment      -10145           -107           1           0   \n",
       "26456    House / apartment      -19569          -1013           1           0   \n",
       "\n",
       "       phone  email      occyp_type  family_size  begin_month  credit  \n",
       "0          0      0             NAN          2.0         -6.0     1.0  \n",
       "1          0      1        Laborers          3.0         -5.0     1.0  \n",
       "2          1      0        Managers          2.0        -22.0     2.0  \n",
       "3          1      0     Sales staff          2.0        -37.0     0.0  \n",
       "4          0      0        Managers          2.0        -26.0     2.0  \n",
       "...      ...    ...             ...          ...          ...     ...  \n",
       "26452      0      0      Core staff          4.0         -2.0     1.0  \n",
       "26453      0      0             NAN          2.0        -47.0     2.0  \n",
       "26454      0      0      Core staff          2.0        -25.0     2.0  \n",
       "26455      0      0        Laborers          1.0        -59.0     2.0  \n",
       "26456      0      0  Security staff          2.0         -9.0     2.0  \n",
       "\n",
       "[26457 rows x 19 columns]"
      ],
      "text/html": [
       "<div>\n",
       "<style scoped>\n",
       "    .dataframe tbody tr th:only-of-type {\n",
       "        vertical-align: middle;\n",
       "    }\n",
       "\n",
       "    .dataframe tbody tr th {\n",
       "        vertical-align: top;\n",
       "    }\n",
       "\n",
       "    .dataframe thead th {\n",
       "        text-align: right;\n",
       "    }\n",
       "</style>\n",
       "<table border=\"1\" class=\"dataframe\">\n",
       "  <thead>\n",
       "    <tr style=\"text-align: right;\">\n",
       "      <th></th>\n",
       "      <th>gender</th>\n",
       "      <th>car</th>\n",
       "      <th>reality</th>\n",
       "      <th>child_num</th>\n",
       "      <th>income_total</th>\n",
       "      <th>income_type</th>\n",
       "      <th>edu_type</th>\n",
       "      <th>family_type</th>\n",
       "      <th>house_type</th>\n",
       "      <th>DAYS_BIRTH</th>\n",
       "      <th>DAYS_EMPLOYED</th>\n",
       "      <th>FLAG_MOBIL</th>\n",
       "      <th>work_phone</th>\n",
       "      <th>phone</th>\n",
       "      <th>email</th>\n",
       "      <th>occyp_type</th>\n",
       "      <th>family_size</th>\n",
       "      <th>begin_month</th>\n",
       "      <th>credit</th>\n",
       "    </tr>\n",
       "  </thead>\n",
       "  <tbody>\n",
       "    <tr>\n",
       "      <th>0</th>\n",
       "      <td>F</td>\n",
       "      <td>N</td>\n",
       "      <td>N</td>\n",
       "      <td>0</td>\n",
       "      <td>202500.0</td>\n",
       "      <td>Commercial associate</td>\n",
       "      <td>Higher education</td>\n",
       "      <td>Married</td>\n",
       "      <td>Municipal apartment</td>\n",
       "      <td>-13899</td>\n",
       "      <td>-4709</td>\n",
       "      <td>1</td>\n",
       "      <td>0</td>\n",
       "      <td>0</td>\n",
       "      <td>0</td>\n",
       "      <td>NAN</td>\n",
       "      <td>2.0</td>\n",
       "      <td>-6.0</td>\n",
       "      <td>1.0</td>\n",
       "    </tr>\n",
       "    <tr>\n",
       "      <th>1</th>\n",
       "      <td>F</td>\n",
       "      <td>N</td>\n",
       "      <td>Y</td>\n",
       "      <td>1</td>\n",
       "      <td>247500.0</td>\n",
       "      <td>Commercial associate</td>\n",
       "      <td>Secondary / secondary special</td>\n",
       "      <td>Civil marriage</td>\n",
       "      <td>House / apartment</td>\n",
       "      <td>-11380</td>\n",
       "      <td>-1540</td>\n",
       "      <td>1</td>\n",
       "      <td>0</td>\n",
       "      <td>0</td>\n",
       "      <td>1</td>\n",
       "      <td>Laborers</td>\n",
       "      <td>3.0</td>\n",
       "      <td>-5.0</td>\n",
       "      <td>1.0</td>\n",
       "    </tr>\n",
       "    <tr>\n",
       "      <th>2</th>\n",
       "      <td>M</td>\n",
       "      <td>Y</td>\n",
       "      <td>Y</td>\n",
       "      <td>0</td>\n",
       "      <td>450000.0</td>\n",
       "      <td>Working</td>\n",
       "      <td>Higher education</td>\n",
       "      <td>Married</td>\n",
       "      <td>House / apartment</td>\n",
       "      <td>-19087</td>\n",
       "      <td>-4434</td>\n",
       "      <td>1</td>\n",
       "      <td>0</td>\n",
       "      <td>1</td>\n",
       "      <td>0</td>\n",
       "      <td>Managers</td>\n",
       "      <td>2.0</td>\n",
       "      <td>-22.0</td>\n",
       "      <td>2.0</td>\n",
       "    </tr>\n",
       "    <tr>\n",
       "      <th>3</th>\n",
       "      <td>F</td>\n",
       "      <td>N</td>\n",
       "      <td>Y</td>\n",
       "      <td>0</td>\n",
       "      <td>202500.0</td>\n",
       "      <td>Commercial associate</td>\n",
       "      <td>Secondary / secondary special</td>\n",
       "      <td>Married</td>\n",
       "      <td>House / apartment</td>\n",
       "      <td>-15088</td>\n",
       "      <td>-2092</td>\n",
       "      <td>1</td>\n",
       "      <td>0</td>\n",
       "      <td>1</td>\n",
       "      <td>0</td>\n",
       "      <td>Sales staff</td>\n",
       "      <td>2.0</td>\n",
       "      <td>-37.0</td>\n",
       "      <td>0.0</td>\n",
       "    </tr>\n",
       "    <tr>\n",
       "      <th>4</th>\n",
       "      <td>F</td>\n",
       "      <td>Y</td>\n",
       "      <td>Y</td>\n",
       "      <td>0</td>\n",
       "      <td>157500.0</td>\n",
       "      <td>State servant</td>\n",
       "      <td>Higher education</td>\n",
       "      <td>Married</td>\n",
       "      <td>House / apartment</td>\n",
       "      <td>-15037</td>\n",
       "      <td>-2105</td>\n",
       "      <td>1</td>\n",
       "      <td>0</td>\n",
       "      <td>0</td>\n",
       "      <td>0</td>\n",
       "      <td>Managers</td>\n",
       "      <td>2.0</td>\n",
       "      <td>-26.0</td>\n",
       "      <td>2.0</td>\n",
       "    </tr>\n",
       "    <tr>\n",
       "      <th>...</th>\n",
       "      <td>...</td>\n",
       "      <td>...</td>\n",
       "      <td>...</td>\n",
       "      <td>...</td>\n",
       "      <td>...</td>\n",
       "      <td>...</td>\n",
       "      <td>...</td>\n",
       "      <td>...</td>\n",
       "      <td>...</td>\n",
       "      <td>...</td>\n",
       "      <td>...</td>\n",
       "      <td>...</td>\n",
       "      <td>...</td>\n",
       "      <td>...</td>\n",
       "      <td>...</td>\n",
       "      <td>...</td>\n",
       "      <td>...</td>\n",
       "      <td>...</td>\n",
       "      <td>...</td>\n",
       "    </tr>\n",
       "    <tr>\n",
       "      <th>26452</th>\n",
       "      <td>F</td>\n",
       "      <td>N</td>\n",
       "      <td>N</td>\n",
       "      <td>2</td>\n",
       "      <td>225000.0</td>\n",
       "      <td>State servant</td>\n",
       "      <td>Secondary / secondary special</td>\n",
       "      <td>Married</td>\n",
       "      <td>House / apartment</td>\n",
       "      <td>-12079</td>\n",
       "      <td>-1984</td>\n",
       "      <td>1</td>\n",
       "      <td>0</td>\n",
       "      <td>0</td>\n",
       "      <td>0</td>\n",
       "      <td>Core staff</td>\n",
       "      <td>4.0</td>\n",
       "      <td>-2.0</td>\n",
       "      <td>1.0</td>\n",
       "    </tr>\n",
       "    <tr>\n",
       "      <th>26453</th>\n",
       "      <td>F</td>\n",
       "      <td>N</td>\n",
       "      <td>Y</td>\n",
       "      <td>1</td>\n",
       "      <td>180000.0</td>\n",
       "      <td>Working</td>\n",
       "      <td>Higher education</td>\n",
       "      <td>Separated</td>\n",
       "      <td>House / apartment</td>\n",
       "      <td>-15291</td>\n",
       "      <td>-2475</td>\n",
       "      <td>1</td>\n",
       "      <td>0</td>\n",
       "      <td>0</td>\n",
       "      <td>0</td>\n",
       "      <td>NAN</td>\n",
       "      <td>2.0</td>\n",
       "      <td>-47.0</td>\n",
       "      <td>2.0</td>\n",
       "    </tr>\n",
       "    <tr>\n",
       "      <th>26454</th>\n",
       "      <td>F</td>\n",
       "      <td>Y</td>\n",
       "      <td>N</td>\n",
       "      <td>0</td>\n",
       "      <td>292500.0</td>\n",
       "      <td>Working</td>\n",
       "      <td>Secondary / secondary special</td>\n",
       "      <td>Civil marriage</td>\n",
       "      <td>With parents</td>\n",
       "      <td>-10082</td>\n",
       "      <td>-2015</td>\n",
       "      <td>1</td>\n",
       "      <td>0</td>\n",
       "      <td>0</td>\n",
       "      <td>0</td>\n",
       "      <td>Core staff</td>\n",
       "      <td>2.0</td>\n",
       "      <td>-25.0</td>\n",
       "      <td>2.0</td>\n",
       "    </tr>\n",
       "    <tr>\n",
       "      <th>26455</th>\n",
       "      <td>M</td>\n",
       "      <td>N</td>\n",
       "      <td>Y</td>\n",
       "      <td>0</td>\n",
       "      <td>171000.0</td>\n",
       "      <td>Working</td>\n",
       "      <td>Incomplete higher</td>\n",
       "      <td>Single / not married</td>\n",
       "      <td>House / apartment</td>\n",
       "      <td>-10145</td>\n",
       "      <td>-107</td>\n",
       "      <td>1</td>\n",
       "      <td>0</td>\n",
       "      <td>0</td>\n",
       "      <td>0</td>\n",
       "      <td>Laborers</td>\n",
       "      <td>1.0</td>\n",
       "      <td>-59.0</td>\n",
       "      <td>2.0</td>\n",
       "    </tr>\n",
       "    <tr>\n",
       "      <th>26456</th>\n",
       "      <td>F</td>\n",
       "      <td>N</td>\n",
       "      <td>N</td>\n",
       "      <td>0</td>\n",
       "      <td>81000.0</td>\n",
       "      <td>Working</td>\n",
       "      <td>Secondary / secondary special</td>\n",
       "      <td>Civil marriage</td>\n",
       "      <td>House / apartment</td>\n",
       "      <td>-19569</td>\n",
       "      <td>-1013</td>\n",
       "      <td>1</td>\n",
       "      <td>0</td>\n",
       "      <td>0</td>\n",
       "      <td>0</td>\n",
       "      <td>Security staff</td>\n",
       "      <td>2.0</td>\n",
       "      <td>-9.0</td>\n",
       "      <td>2.0</td>\n",
       "    </tr>\n",
       "  </tbody>\n",
       "</table>\n",
       "<p>26457 rows × 19 columns</p>\n",
       "</div>"
      ]
     },
     "metadata": {},
     "execution_count": 10
    }
   ],
   "metadata": {}
  },
  {
   "cell_type": "code",
   "execution_count": 13,
   "source": [
    "train_ohe = pd.get_dummies(train)\r\n",
    "test_ohe = pd.get_dummies(test)"
   ],
   "outputs": [],
   "metadata": {}
  },
  {
   "cell_type": "code",
   "execution_count": 14,
   "source": [
    "X = train_ohe.drop(['credit'], axis=1)\r\n",
    "y = train['credit']\r\n",
    "X_test = test_ohe.copy()"
   ],
   "outputs": [],
   "metadata": {}
  },
  {
   "cell_type": "markdown",
   "source": [
    "- Optuna는 objective 하이퍼 파라미터의 성능을 평가하고 향후 시험에서 샘플링 할 위치를 결정하기 위해 숫자 값을 반환 하는 함수가 필요하다는 것을 의미하는 블랙 박스 최적화 프로그램\r\n",
    "- Optuna의 특정 인수를 object에 전달됩니다.\r\n",
    "- trial은 조정해야하는 하이퍼 파라미터를 지정하기 위해 objective 함수에 전달됩니다.\r\n",
    "- 이것은 logloss 성능에 대한 피드백으로 Optuna에서 사용하는 모델에서 반환합니다.\r\n",
    "\r\n",
    "..?? 뭔솔...???!!"
   ],
   "metadata": {}
  },
  {
   "cell_type": "code",
   "execution_count": 15,
   "source": [
    "def objective(trial: Trial) -> float:\r\n",
    "    params_lgb = {\r\n",
    "        \"random_state\": 42,\r\n",
    "        \"verbosity\": -1,\r\n",
    "        \"learning_rate\": 0.05,\r\n",
    "        \"n_estimators\": 10000,\r\n",
    "        \"objective\": \"multiclass\",\r\n",
    "        \"metric\": \"multi_logloss\",\r\n",
    "        \"reg_alpha\": trial.suggest_float(\"reg_alpha\", 1e-8, 3e-5),\r\n",
    "        \"reg_lambda\": trial.suggest_float(\"reg_lambda\", 1e-8, 9e-2),\r\n",
    "        \"max_depth\": trial.suggest_int(\"max_depth\", 1, 20),\r\n",
    "        \"num_leaves\": trial.suggest_int(\"num_leaves\", 2, 256),\r\n",
    "        \"colsample_bytree\": trial.suggest_float(\"colsample_bytree\", 0.4, 1.0),\r\n",
    "        \"subsample\": trial.suggest_float(\"subsample\", 0.3, 1.0),\r\n",
    "        \"subsample_freq\": trial.suggest_int(\"subsample_freq\", 1, 10),\r\n",
    "        \"min_child_samples\": trial.suggest_int(\"min_child_samples\", 5, 100),\r\n",
    "        \"max_bin\": trial.suggest_int(\"max_bin\", 200, 500),\r\n",
    "    }\r\n",
    "    \r\n",
    "    X_train, X_valid, y_train, y_valid = train_test_split(X, y, test_size=0.2)\r\n",
    "\r\n",
    "    model = LGBMClassifier(**params_lgb)\r\n",
    "    model.fit(\r\n",
    "        X_train,\r\n",
    "        y_train,\r\n",
    "        eval_set=[(X_train, y_train), (X_valid, y_valid)],\r\n",
    "        early_stopping_rounds=100,\r\n",
    "        verbose=False,\r\n",
    "    )\r\n",
    "\r\n",
    "    lgb_pred = model.predict_proba(X_valid)\r\n",
    "    log_score = log_loss(y_valid, lgb_pred)\r\n",
    "    \r\n",
    "    return log_score"
   ],
   "outputs": [],
   "metadata": {}
  },
  {
   "cell_type": "code",
   "execution_count": 16,
   "source": [
    "sampler = TPESampler(seed=42)\r\n",
    "study = optuna.create_study(\r\n",
    "    study_name=\"lgbm_parameter_opt\",\r\n",
    "    direction=\"minimize\",\r\n",
    "    sampler=sampler,\r\n",
    ")\r\n",
    "study.optimize(objective, n_trials=10)\r\n",
    "print(\"Best Score:\", study.best_value)\r\n",
    "print(\"Best trial:\", study.best_trial.params)"
   ],
   "outputs": [
    {
     "output_type": "stream",
     "name": "stderr",
     "text": [
      "\u001b[32m[I 2021-07-30 19:41:46,529]\u001b[0m A new study created in memory with name: lgbm_parameter_opt\u001b[0m\n",
      "\u001b[32m[I 2021-07-30 19:41:50,787]\u001b[0m Trial 0 finished with value: 0.7432538731074472 and parameters: {'reg_alpha': 1.12424581642324e-05, 'reg_lambda': 0.08556428806974939, 'max_depth': 15, 'num_leaves': 154, 'colsample_bytree': 0.4936111842654619, 'subsample': 0.40919616423534183, 'subsample_freq': 1, 'min_child_samples': 88, 'max_bin': 380}. Best is trial 0 with value: 0.7432538731074472.\u001b[0m\n",
      "\u001b[32m[I 2021-07-30 19:41:57,048]\u001b[0m Trial 1 finished with value: 0.738817257708709 and parameters: {'reg_alpha': 2.1245096608103405e-05, 'reg_lambda': 0.0018526142807772773, 'max_depth': 20, 'num_leaves': 214, 'colsample_bytree': 0.5274034664069657, 'subsample': 0.42727747704497043, 'subsample_freq': 2, 'min_child_samples': 34, 'max_bin': 357}. Best is trial 1 with value: 0.738817257708709.\u001b[0m\n",
      "\u001b[32m[I 2021-07-30 19:42:02,333]\u001b[0m Trial 2 finished with value: 0.7413939006072351 and parameters: {'reg_alpha': 1.2964031109077052e-05, 'reg_lambda': 0.02621062970553237, 'max_depth': 13, 'num_leaves': 37, 'colsample_bytree': 0.5752867891211308, 'subsample': 0.5564532903055841, 'subsample_freq': 5, 'min_child_samples': 80, 'max_bin': 260}. Best is trial 1 with value: 0.738817257708709.\u001b[0m\n",
      "\u001b[32m[I 2021-07-30 19:42:03,001]\u001b[0m Trial 3 finished with value: 0.8218518136984446 and parameters: {'reg_alpha': 1.5431890808024213e-05, 'reg_lambda': 0.05331731527343814, 'max_depth': 1, 'num_leaves': 156, 'colsample_bytree': 0.502314474212375, 'subsample': 0.3455361150896956, 'subsample_freq': 10, 'min_child_samples': 97, 'max_bin': 443}. Best is trial 1 with value: 0.738817257708709.\u001b[0m\n",
      "\u001b[32m[I 2021-07-30 19:42:09,412]\u001b[0m Trial 4 finished with value: 0.7207942901383018 and parameters: {'reg_alpha': 9.145366937509386e-06, 'reg_lambda': 0.008790499283853408, 'max_depth': 14, 'num_leaves': 114, 'colsample_bytree': 0.47322294090686734, 'subsample': 0.6466238370778892, 'subsample_freq': 1, 'min_child_samples': 92, 'max_bin': 277}. Best is trial 4 with value: 0.7207942901383018.\u001b[0m\n",
      "\u001b[32m[I 2021-07-30 19:42:15,273]\u001b[0m Trial 5 finished with value: 0.7441534908376499 and parameters: {'reg_alpha': 1.987904330777592e-05, 'reg_lambda': 0.028054003730936226, 'max_depth': 11, 'num_leaves': 141, 'colsample_bytree': 0.5109126733153162, 'subsample': 0.9787092394351908, 'subsample_freq': 8, 'min_child_samples': 95, 'max_bin': 469}. Best is trial 4 with value: 0.7207942901383018.\u001b[0m\n",
      "\u001b[32m[I 2021-07-30 19:42:19,874]\u001b[0m Trial 6 finished with value: 0.7906575120139706 and parameters: {'reg_alpha': 1.7941020364544445e-05, 'reg_lambda': 0.08296868193333816, 'max_depth': 2, 'num_leaves': 51, 'colsample_bytree': 0.4271363733463229, 'subsample': 0.527731231534285, 'subsample_freq': 4, 'min_child_samples': 31, 'max_bin': 449}. Best is trial 4 with value: 0.7207942901383018.\u001b[0m\n",
      "\u001b[32m[I 2021-07-30 19:42:24,754]\u001b[0m Trial 7 finished with value: 0.760395401057648 and parameters: {'reg_alpha': 1.0709032267540741e-05, 'reg_lambda': 0.025284113062519174, 'max_depth': 11, 'num_leaves': 37, 'colsample_bytree': 0.8813181884524238, 'subsample': 0.35218545057583955, 'subsample_freq': 10, 'min_child_samples': 79, 'max_bin': 259}. Best is trial 4 with value: 0.7207942901383018.\u001b[0m\n",
      "\u001b[32m[I 2021-07-30 19:42:29,799]\u001b[0m Trial 8 finished with value: 0.7329162281678697 and parameters: {'reg_alpha': 1.7560829253683595e-07, 'reg_lambda': 0.07339153040632079, 'max_depth': 15, 'num_leaves': 187, 'colsample_bytree': 0.8627622080115674, 'subsample': 0.35183125621386324, 'subsample_freq': 4, 'min_child_samples': 16, 'max_bin': 459}. Best is trial 4 with value: 0.7207942901383018.\u001b[0m\n",
      "\u001b[32m[I 2021-07-30 19:42:34,402]\u001b[0m Trial 9 finished with value: 0.8018789923699052 and parameters: {'reg_alpha': 1.8702710823558463e-05, 'reg_lambda': 0.02978082892775818, 'max_depth': 2, 'num_leaves': 81, 'colsample_bytree': 0.5951099932160482, 'subsample': 0.8107243248366449, 'subsample_freq': 7, 'min_child_samples': 90, 'max_bin': 342}. Best is trial 4 with value: 0.7207942901383018.\u001b[0m\n"
     ]
    },
    {
     "output_type": "stream",
     "name": "stdout",
     "text": [
      "Best Score: 0.7207942901383018\n",
      "Best trial: {'reg_alpha': 9.145366937509386e-06, 'reg_lambda': 0.008790499283853408, 'max_depth': 14, 'num_leaves': 114, 'colsample_bytree': 0.47322294090686734, 'subsample': 0.6466238370778892, 'subsample_freq': 1, 'min_child_samples': 92, 'max_bin': 277}\n"
     ]
    }
   ],
   "metadata": {}
  },
  {
   "cell_type": "code",
   "execution_count": 17,
   "source": [
    "# 시각화\r\n",
    "optuna.visualization.plot_optimization_history(study)"
   ],
   "outputs": [
    {
     "output_type": "display_data",
     "data": {
      "application/vnd.plotly.v1+json": {
       "config": {
        "plotlyServerURL": "https://plot.ly"
       },
       "data": [
        {
         "mode": "markers",
         "name": "Objective Value",
         "type": "scatter",
         "x": [
          0,
          1,
          2,
          3,
          4,
          5,
          6,
          7,
          8,
          9
         ],
         "y": [
          0.7432538731074472,
          0.738817257708709,
          0.7413939006072351,
          0.8218518136984446,
          0.7207942901383018,
          0.7441534908376499,
          0.7906575120139706,
          0.760395401057648,
          0.7329162281678697,
          0.8018789923699052
         ]
        },
        {
         "name": "Best Value",
         "type": "scatter",
         "x": [
          0,
          1,
          2,
          3,
          4,
          5,
          6,
          7,
          8,
          9
         ],
         "y": [
          0.7432538731074472,
          0.738817257708709,
          0.738817257708709,
          0.738817257708709,
          0.7207942901383018,
          0.7207942901383018,
          0.7207942901383018,
          0.7207942901383018,
          0.7207942901383018,
          0.7207942901383018
         ]
        }
       ],
       "layout": {
        "template": {
         "data": {
          "bar": [
           {
            "error_x": {
             "color": "#2a3f5f"
            },
            "error_y": {
             "color": "#2a3f5f"
            },
            "marker": {
             "line": {
              "color": "#E5ECF6",
              "width": 0.5
             },
             "pattern": {
              "fillmode": "overlay",
              "size": 10,
              "solidity": 0.2
             }
            },
            "type": "bar"
           }
          ],
          "barpolar": [
           {
            "marker": {
             "line": {
              "color": "#E5ECF6",
              "width": 0.5
             },
             "pattern": {
              "fillmode": "overlay",
              "size": 10,
              "solidity": 0.2
             }
            },
            "type": "barpolar"
           }
          ],
          "carpet": [
           {
            "aaxis": {
             "endlinecolor": "#2a3f5f",
             "gridcolor": "white",
             "linecolor": "white",
             "minorgridcolor": "white",
             "startlinecolor": "#2a3f5f"
            },
            "baxis": {
             "endlinecolor": "#2a3f5f",
             "gridcolor": "white",
             "linecolor": "white",
             "minorgridcolor": "white",
             "startlinecolor": "#2a3f5f"
            },
            "type": "carpet"
           }
          ],
          "choropleth": [
           {
            "colorbar": {
             "outlinewidth": 0,
             "ticks": ""
            },
            "type": "choropleth"
           }
          ],
          "contour": [
           {
            "colorbar": {
             "outlinewidth": 0,
             "ticks": ""
            },
            "colorscale": [
             [
              0,
              "#0d0887"
             ],
             [
              0.1111111111111111,
              "#46039f"
             ],
             [
              0.2222222222222222,
              "#7201a8"
             ],
             [
              0.3333333333333333,
              "#9c179e"
             ],
             [
              0.4444444444444444,
              "#bd3786"
             ],
             [
              0.5555555555555556,
              "#d8576b"
             ],
             [
              0.6666666666666666,
              "#ed7953"
             ],
             [
              0.7777777777777778,
              "#fb9f3a"
             ],
             [
              0.8888888888888888,
              "#fdca26"
             ],
             [
              1,
              "#f0f921"
             ]
            ],
            "type": "contour"
           }
          ],
          "contourcarpet": [
           {
            "colorbar": {
             "outlinewidth": 0,
             "ticks": ""
            },
            "type": "contourcarpet"
           }
          ],
          "heatmap": [
           {
            "colorbar": {
             "outlinewidth": 0,
             "ticks": ""
            },
            "colorscale": [
             [
              0,
              "#0d0887"
             ],
             [
              0.1111111111111111,
              "#46039f"
             ],
             [
              0.2222222222222222,
              "#7201a8"
             ],
             [
              0.3333333333333333,
              "#9c179e"
             ],
             [
              0.4444444444444444,
              "#bd3786"
             ],
             [
              0.5555555555555556,
              "#d8576b"
             ],
             [
              0.6666666666666666,
              "#ed7953"
             ],
             [
              0.7777777777777778,
              "#fb9f3a"
             ],
             [
              0.8888888888888888,
              "#fdca26"
             ],
             [
              1,
              "#f0f921"
             ]
            ],
            "type": "heatmap"
           }
          ],
          "heatmapgl": [
           {
            "colorbar": {
             "outlinewidth": 0,
             "ticks": ""
            },
            "colorscale": [
             [
              0,
              "#0d0887"
             ],
             [
              0.1111111111111111,
              "#46039f"
             ],
             [
              0.2222222222222222,
              "#7201a8"
             ],
             [
              0.3333333333333333,
              "#9c179e"
             ],
             [
              0.4444444444444444,
              "#bd3786"
             ],
             [
              0.5555555555555556,
              "#d8576b"
             ],
             [
              0.6666666666666666,
              "#ed7953"
             ],
             [
              0.7777777777777778,
              "#fb9f3a"
             ],
             [
              0.8888888888888888,
              "#fdca26"
             ],
             [
              1,
              "#f0f921"
             ]
            ],
            "type": "heatmapgl"
           }
          ],
          "histogram": [
           {
            "marker": {
             "pattern": {
              "fillmode": "overlay",
              "size": 10,
              "solidity": 0.2
             }
            },
            "type": "histogram"
           }
          ],
          "histogram2d": [
           {
            "colorbar": {
             "outlinewidth": 0,
             "ticks": ""
            },
            "colorscale": [
             [
              0,
              "#0d0887"
             ],
             [
              0.1111111111111111,
              "#46039f"
             ],
             [
              0.2222222222222222,
              "#7201a8"
             ],
             [
              0.3333333333333333,
              "#9c179e"
             ],
             [
              0.4444444444444444,
              "#bd3786"
             ],
             [
              0.5555555555555556,
              "#d8576b"
             ],
             [
              0.6666666666666666,
              "#ed7953"
             ],
             [
              0.7777777777777778,
              "#fb9f3a"
             ],
             [
              0.8888888888888888,
              "#fdca26"
             ],
             [
              1,
              "#f0f921"
             ]
            ],
            "type": "histogram2d"
           }
          ],
          "histogram2dcontour": [
           {
            "colorbar": {
             "outlinewidth": 0,
             "ticks": ""
            },
            "colorscale": [
             [
              0,
              "#0d0887"
             ],
             [
              0.1111111111111111,
              "#46039f"
             ],
             [
              0.2222222222222222,
              "#7201a8"
             ],
             [
              0.3333333333333333,
              "#9c179e"
             ],
             [
              0.4444444444444444,
              "#bd3786"
             ],
             [
              0.5555555555555556,
              "#d8576b"
             ],
             [
              0.6666666666666666,
              "#ed7953"
             ],
             [
              0.7777777777777778,
              "#fb9f3a"
             ],
             [
              0.8888888888888888,
              "#fdca26"
             ],
             [
              1,
              "#f0f921"
             ]
            ],
            "type": "histogram2dcontour"
           }
          ],
          "mesh3d": [
           {
            "colorbar": {
             "outlinewidth": 0,
             "ticks": ""
            },
            "type": "mesh3d"
           }
          ],
          "parcoords": [
           {
            "line": {
             "colorbar": {
              "outlinewidth": 0,
              "ticks": ""
             }
            },
            "type": "parcoords"
           }
          ],
          "pie": [
           {
            "automargin": true,
            "type": "pie"
           }
          ],
          "scatter": [
           {
            "marker": {
             "colorbar": {
              "outlinewidth": 0,
              "ticks": ""
             }
            },
            "type": "scatter"
           }
          ],
          "scatter3d": [
           {
            "line": {
             "colorbar": {
              "outlinewidth": 0,
              "ticks": ""
             }
            },
            "marker": {
             "colorbar": {
              "outlinewidth": 0,
              "ticks": ""
             }
            },
            "type": "scatter3d"
           }
          ],
          "scattercarpet": [
           {
            "marker": {
             "colorbar": {
              "outlinewidth": 0,
              "ticks": ""
             }
            },
            "type": "scattercarpet"
           }
          ],
          "scattergeo": [
           {
            "marker": {
             "colorbar": {
              "outlinewidth": 0,
              "ticks": ""
             }
            },
            "type": "scattergeo"
           }
          ],
          "scattergl": [
           {
            "marker": {
             "colorbar": {
              "outlinewidth": 0,
              "ticks": ""
             }
            },
            "type": "scattergl"
           }
          ],
          "scattermapbox": [
           {
            "marker": {
             "colorbar": {
              "outlinewidth": 0,
              "ticks": ""
             }
            },
            "type": "scattermapbox"
           }
          ],
          "scatterpolar": [
           {
            "marker": {
             "colorbar": {
              "outlinewidth": 0,
              "ticks": ""
             }
            },
            "type": "scatterpolar"
           }
          ],
          "scatterpolargl": [
           {
            "marker": {
             "colorbar": {
              "outlinewidth": 0,
              "ticks": ""
             }
            },
            "type": "scatterpolargl"
           }
          ],
          "scatterternary": [
           {
            "marker": {
             "colorbar": {
              "outlinewidth": 0,
              "ticks": ""
             }
            },
            "type": "scatterternary"
           }
          ],
          "surface": [
           {
            "colorbar": {
             "outlinewidth": 0,
             "ticks": ""
            },
            "colorscale": [
             [
              0,
              "#0d0887"
             ],
             [
              0.1111111111111111,
              "#46039f"
             ],
             [
              0.2222222222222222,
              "#7201a8"
             ],
             [
              0.3333333333333333,
              "#9c179e"
             ],
             [
              0.4444444444444444,
              "#bd3786"
             ],
             [
              0.5555555555555556,
              "#d8576b"
             ],
             [
              0.6666666666666666,
              "#ed7953"
             ],
             [
              0.7777777777777778,
              "#fb9f3a"
             ],
             [
              0.8888888888888888,
              "#fdca26"
             ],
             [
              1,
              "#f0f921"
             ]
            ],
            "type": "surface"
           }
          ],
          "table": [
           {
            "cells": {
             "fill": {
              "color": "#EBF0F8"
             },
             "line": {
              "color": "white"
             }
            },
            "header": {
             "fill": {
              "color": "#C8D4E3"
             },
             "line": {
              "color": "white"
             }
            },
            "type": "table"
           }
          ]
         },
         "layout": {
          "annotationdefaults": {
           "arrowcolor": "#2a3f5f",
           "arrowhead": 0,
           "arrowwidth": 1
          },
          "autotypenumbers": "strict",
          "coloraxis": {
           "colorbar": {
            "outlinewidth": 0,
            "ticks": ""
           }
          },
          "colorscale": {
           "diverging": [
            [
             0,
             "#8e0152"
            ],
            [
             0.1,
             "#c51b7d"
            ],
            [
             0.2,
             "#de77ae"
            ],
            [
             0.3,
             "#f1b6da"
            ],
            [
             0.4,
             "#fde0ef"
            ],
            [
             0.5,
             "#f7f7f7"
            ],
            [
             0.6,
             "#e6f5d0"
            ],
            [
             0.7,
             "#b8e186"
            ],
            [
             0.8,
             "#7fbc41"
            ],
            [
             0.9,
             "#4d9221"
            ],
            [
             1,
             "#276419"
            ]
           ],
           "sequential": [
            [
             0,
             "#0d0887"
            ],
            [
             0.1111111111111111,
             "#46039f"
            ],
            [
             0.2222222222222222,
             "#7201a8"
            ],
            [
             0.3333333333333333,
             "#9c179e"
            ],
            [
             0.4444444444444444,
             "#bd3786"
            ],
            [
             0.5555555555555556,
             "#d8576b"
            ],
            [
             0.6666666666666666,
             "#ed7953"
            ],
            [
             0.7777777777777778,
             "#fb9f3a"
            ],
            [
             0.8888888888888888,
             "#fdca26"
            ],
            [
             1,
             "#f0f921"
            ]
           ],
           "sequentialminus": [
            [
             0,
             "#0d0887"
            ],
            [
             0.1111111111111111,
             "#46039f"
            ],
            [
             0.2222222222222222,
             "#7201a8"
            ],
            [
             0.3333333333333333,
             "#9c179e"
            ],
            [
             0.4444444444444444,
             "#bd3786"
            ],
            [
             0.5555555555555556,
             "#d8576b"
            ],
            [
             0.6666666666666666,
             "#ed7953"
            ],
            [
             0.7777777777777778,
             "#fb9f3a"
            ],
            [
             0.8888888888888888,
             "#fdca26"
            ],
            [
             1,
             "#f0f921"
            ]
           ]
          },
          "colorway": [
           "#636efa",
           "#EF553B",
           "#00cc96",
           "#ab63fa",
           "#FFA15A",
           "#19d3f3",
           "#FF6692",
           "#B6E880",
           "#FF97FF",
           "#FECB52"
          ],
          "font": {
           "color": "#2a3f5f"
          },
          "geo": {
           "bgcolor": "white",
           "lakecolor": "white",
           "landcolor": "#E5ECF6",
           "showlakes": true,
           "showland": true,
           "subunitcolor": "white"
          },
          "hoverlabel": {
           "align": "left"
          },
          "hovermode": "closest",
          "mapbox": {
           "style": "light"
          },
          "paper_bgcolor": "white",
          "plot_bgcolor": "#E5ECF6",
          "polar": {
           "angularaxis": {
            "gridcolor": "white",
            "linecolor": "white",
            "ticks": ""
           },
           "bgcolor": "#E5ECF6",
           "radialaxis": {
            "gridcolor": "white",
            "linecolor": "white",
            "ticks": ""
           }
          },
          "scene": {
           "xaxis": {
            "backgroundcolor": "#E5ECF6",
            "gridcolor": "white",
            "gridwidth": 2,
            "linecolor": "white",
            "showbackground": true,
            "ticks": "",
            "zerolinecolor": "white"
           },
           "yaxis": {
            "backgroundcolor": "#E5ECF6",
            "gridcolor": "white",
            "gridwidth": 2,
            "linecolor": "white",
            "showbackground": true,
            "ticks": "",
            "zerolinecolor": "white"
           },
           "zaxis": {
            "backgroundcolor": "#E5ECF6",
            "gridcolor": "white",
            "gridwidth": 2,
            "linecolor": "white",
            "showbackground": true,
            "ticks": "",
            "zerolinecolor": "white"
           }
          },
          "shapedefaults": {
           "line": {
            "color": "#2a3f5f"
           }
          },
          "ternary": {
           "aaxis": {
            "gridcolor": "white",
            "linecolor": "white",
            "ticks": ""
           },
           "baxis": {
            "gridcolor": "white",
            "linecolor": "white",
            "ticks": ""
           },
           "bgcolor": "#E5ECF6",
           "caxis": {
            "gridcolor": "white",
            "linecolor": "white",
            "ticks": ""
           }
          },
          "title": {
           "x": 0.05
          },
          "xaxis": {
           "automargin": true,
           "gridcolor": "white",
           "linecolor": "white",
           "ticks": "",
           "title": {
            "standoff": 15
           },
           "zerolinecolor": "white",
           "zerolinewidth": 2
          },
          "yaxis": {
           "automargin": true,
           "gridcolor": "white",
           "linecolor": "white",
           "ticks": "",
           "title": {
            "standoff": 15
           },
           "zerolinecolor": "white",
           "zerolinewidth": 2
          }
         }
        },
        "title": {
         "text": "Optimization History Plot"
        },
        "xaxis": {
         "title": {
          "text": "#Trials"
         }
        },
        "yaxis": {
         "title": {
          "text": "Objective Value"
         }
        }
       }
      }
     },
     "metadata": {}
    }
   ],
   "metadata": {}
  },
  {
   "cell_type": "code",
   "execution_count": 18,
   "source": [
    "optuna.visualization.plot_parallel_coordinate(study)"
   ],
   "outputs": [
    {
     "output_type": "display_data",
     "data": {
      "application/vnd.plotly.v1+json": {
       "config": {
        "plotlyServerURL": "https://plot.ly"
       },
       "data": [
        {
         "dimensions": [
          {
           "label": "Objective Value",
           "range": [
            0.7207942901383018,
            0.8218518136984446
           ],
           "values": [
            0.7432538731074472,
            0.738817257708709,
            0.7413939006072351,
            0.8218518136984446,
            0.7207942901383018,
            0.7441534908376499,
            0.7906575120139706,
            0.760395401057648,
            0.7329162281678697,
            0.8018789923699052
           ]
          },
          {
           "label": "colsample_bytree",
           "range": [
            0.4271363733463229,
            0.8813181884524238
           ],
           "values": [
            0.4936111842654619,
            0.5274034664069657,
            0.5752867891211308,
            0.502314474212375,
            0.47322294090686734,
            0.5109126733153162,
            0.4271363733463229,
            0.8813181884524238,
            0.8627622080115674,
            0.5951099932160482
           ]
          },
          {
           "label": "max_bin",
           "range": [
            259,
            469
           ],
           "values": [
            380,
            357,
            260,
            443,
            277,
            469,
            449,
            259,
            459,
            342
           ]
          },
          {
           "label": "max_depth",
           "range": [
            1,
            20
           ],
           "values": [
            15,
            20,
            13,
            1,
            14,
            11,
            2,
            11,
            15,
            2
           ]
          },
          {
           "label": "min_child_samples",
           "range": [
            16,
            97
           ],
           "values": [
            88,
            34,
            80,
            97,
            92,
            95,
            31,
            79,
            16,
            90
           ]
          },
          {
           "label": "num_leaves",
           "range": [
            37,
            214
           ],
           "values": [
            154,
            214,
            37,
            156,
            114,
            141,
            51,
            37,
            187,
            81
           ]
          },
          {
           "label": "reg_alpha",
           "range": [
            1.7560829253683595e-7,
            0.000021245096608103405
           ],
           "values": [
            0.0000112424581642324,
            0.000021245096608103405,
            0.000012964031109077052,
            0.000015431890808024213,
            0.000009145366937509386,
            0.00001987904330777592,
            0.000017941020364544445,
            0.000010709032267540741,
            1.7560829253683595e-7,
            0.000018702710823558463
           ]
          },
          {
           "label": "reg_lambda",
           "range": [
            0.0018526142807772773,
            0.08556428806974939
           ],
           "values": [
            0.08556428806974939,
            0.0018526142807772773,
            0.02621062970553237,
            0.05331731527343814,
            0.008790499283853408,
            0.028054003730936226,
            0.08296868193333816,
            0.025284113062519174,
            0.07339153040632079,
            0.02978082892775818
           ]
          },
          {
           "label": "subsample",
           "range": [
            0.3455361150896956,
            0.9787092394351908
           ],
           "values": [
            0.40919616423534183,
            0.42727747704497043,
            0.5564532903055841,
            0.3455361150896956,
            0.6466238370778892,
            0.9787092394351908,
            0.527731231534285,
            0.35218545057583955,
            0.35183125621386324,
            0.8107243248366449
           ]
          },
          {
           "label": "subsample_freq",
           "range": [
            1,
            10
           ],
           "values": [
            1,
            2,
            5,
            10,
            1,
            8,
            4,
            10,
            4,
            7
           ]
          }
         ],
         "labelangle": 30,
         "labelside": "bottom",
         "line": {
          "color": [
           0.7432538731074472,
           0.738817257708709,
           0.7413939006072351,
           0.8218518136984446,
           0.7207942901383018,
           0.7441534908376499,
           0.7906575120139706,
           0.760395401057648,
           0.7329162281678697,
           0.8018789923699052
          ],
          "colorbar": {
           "title": {
            "text": "Objective Value"
           }
          },
          "colorscale": [
           [
            0,
            "rgb(247,251,255)"
           ],
           [
            0.125,
            "rgb(222,235,247)"
           ],
           [
            0.25,
            "rgb(198,219,239)"
           ],
           [
            0.375,
            "rgb(158,202,225)"
           ],
           [
            0.5,
            "rgb(107,174,214)"
           ],
           [
            0.625,
            "rgb(66,146,198)"
           ],
           [
            0.75,
            "rgb(33,113,181)"
           ],
           [
            0.875,
            "rgb(8,81,156)"
           ],
           [
            1,
            "rgb(8,48,107)"
           ]
          ],
          "reversescale": true,
          "showscale": true
         },
         "type": "parcoords"
        }
       ],
       "layout": {
        "template": {
         "data": {
          "bar": [
           {
            "error_x": {
             "color": "#2a3f5f"
            },
            "error_y": {
             "color": "#2a3f5f"
            },
            "marker": {
             "line": {
              "color": "#E5ECF6",
              "width": 0.5
             },
             "pattern": {
              "fillmode": "overlay",
              "size": 10,
              "solidity": 0.2
             }
            },
            "type": "bar"
           }
          ],
          "barpolar": [
           {
            "marker": {
             "line": {
              "color": "#E5ECF6",
              "width": 0.5
             },
             "pattern": {
              "fillmode": "overlay",
              "size": 10,
              "solidity": 0.2
             }
            },
            "type": "barpolar"
           }
          ],
          "carpet": [
           {
            "aaxis": {
             "endlinecolor": "#2a3f5f",
             "gridcolor": "white",
             "linecolor": "white",
             "minorgridcolor": "white",
             "startlinecolor": "#2a3f5f"
            },
            "baxis": {
             "endlinecolor": "#2a3f5f",
             "gridcolor": "white",
             "linecolor": "white",
             "minorgridcolor": "white",
             "startlinecolor": "#2a3f5f"
            },
            "type": "carpet"
           }
          ],
          "choropleth": [
           {
            "colorbar": {
             "outlinewidth": 0,
             "ticks": ""
            },
            "type": "choropleth"
           }
          ],
          "contour": [
           {
            "colorbar": {
             "outlinewidth": 0,
             "ticks": ""
            },
            "colorscale": [
             [
              0,
              "#0d0887"
             ],
             [
              0.1111111111111111,
              "#46039f"
             ],
             [
              0.2222222222222222,
              "#7201a8"
             ],
             [
              0.3333333333333333,
              "#9c179e"
             ],
             [
              0.4444444444444444,
              "#bd3786"
             ],
             [
              0.5555555555555556,
              "#d8576b"
             ],
             [
              0.6666666666666666,
              "#ed7953"
             ],
             [
              0.7777777777777778,
              "#fb9f3a"
             ],
             [
              0.8888888888888888,
              "#fdca26"
             ],
             [
              1,
              "#f0f921"
             ]
            ],
            "type": "contour"
           }
          ],
          "contourcarpet": [
           {
            "colorbar": {
             "outlinewidth": 0,
             "ticks": ""
            },
            "type": "contourcarpet"
           }
          ],
          "heatmap": [
           {
            "colorbar": {
             "outlinewidth": 0,
             "ticks": ""
            },
            "colorscale": [
             [
              0,
              "#0d0887"
             ],
             [
              0.1111111111111111,
              "#46039f"
             ],
             [
              0.2222222222222222,
              "#7201a8"
             ],
             [
              0.3333333333333333,
              "#9c179e"
             ],
             [
              0.4444444444444444,
              "#bd3786"
             ],
             [
              0.5555555555555556,
              "#d8576b"
             ],
             [
              0.6666666666666666,
              "#ed7953"
             ],
             [
              0.7777777777777778,
              "#fb9f3a"
             ],
             [
              0.8888888888888888,
              "#fdca26"
             ],
             [
              1,
              "#f0f921"
             ]
            ],
            "type": "heatmap"
           }
          ],
          "heatmapgl": [
           {
            "colorbar": {
             "outlinewidth": 0,
             "ticks": ""
            },
            "colorscale": [
             [
              0,
              "#0d0887"
             ],
             [
              0.1111111111111111,
              "#46039f"
             ],
             [
              0.2222222222222222,
              "#7201a8"
             ],
             [
              0.3333333333333333,
              "#9c179e"
             ],
             [
              0.4444444444444444,
              "#bd3786"
             ],
             [
              0.5555555555555556,
              "#d8576b"
             ],
             [
              0.6666666666666666,
              "#ed7953"
             ],
             [
              0.7777777777777778,
              "#fb9f3a"
             ],
             [
              0.8888888888888888,
              "#fdca26"
             ],
             [
              1,
              "#f0f921"
             ]
            ],
            "type": "heatmapgl"
           }
          ],
          "histogram": [
           {
            "marker": {
             "pattern": {
              "fillmode": "overlay",
              "size": 10,
              "solidity": 0.2
             }
            },
            "type": "histogram"
           }
          ],
          "histogram2d": [
           {
            "colorbar": {
             "outlinewidth": 0,
             "ticks": ""
            },
            "colorscale": [
             [
              0,
              "#0d0887"
             ],
             [
              0.1111111111111111,
              "#46039f"
             ],
             [
              0.2222222222222222,
              "#7201a8"
             ],
             [
              0.3333333333333333,
              "#9c179e"
             ],
             [
              0.4444444444444444,
              "#bd3786"
             ],
             [
              0.5555555555555556,
              "#d8576b"
             ],
             [
              0.6666666666666666,
              "#ed7953"
             ],
             [
              0.7777777777777778,
              "#fb9f3a"
             ],
             [
              0.8888888888888888,
              "#fdca26"
             ],
             [
              1,
              "#f0f921"
             ]
            ],
            "type": "histogram2d"
           }
          ],
          "histogram2dcontour": [
           {
            "colorbar": {
             "outlinewidth": 0,
             "ticks": ""
            },
            "colorscale": [
             [
              0,
              "#0d0887"
             ],
             [
              0.1111111111111111,
              "#46039f"
             ],
             [
              0.2222222222222222,
              "#7201a8"
             ],
             [
              0.3333333333333333,
              "#9c179e"
             ],
             [
              0.4444444444444444,
              "#bd3786"
             ],
             [
              0.5555555555555556,
              "#d8576b"
             ],
             [
              0.6666666666666666,
              "#ed7953"
             ],
             [
              0.7777777777777778,
              "#fb9f3a"
             ],
             [
              0.8888888888888888,
              "#fdca26"
             ],
             [
              1,
              "#f0f921"
             ]
            ],
            "type": "histogram2dcontour"
           }
          ],
          "mesh3d": [
           {
            "colorbar": {
             "outlinewidth": 0,
             "ticks": ""
            },
            "type": "mesh3d"
           }
          ],
          "parcoords": [
           {
            "line": {
             "colorbar": {
              "outlinewidth": 0,
              "ticks": ""
             }
            },
            "type": "parcoords"
           }
          ],
          "pie": [
           {
            "automargin": true,
            "type": "pie"
           }
          ],
          "scatter": [
           {
            "marker": {
             "colorbar": {
              "outlinewidth": 0,
              "ticks": ""
             }
            },
            "type": "scatter"
           }
          ],
          "scatter3d": [
           {
            "line": {
             "colorbar": {
              "outlinewidth": 0,
              "ticks": ""
             }
            },
            "marker": {
             "colorbar": {
              "outlinewidth": 0,
              "ticks": ""
             }
            },
            "type": "scatter3d"
           }
          ],
          "scattercarpet": [
           {
            "marker": {
             "colorbar": {
              "outlinewidth": 0,
              "ticks": ""
             }
            },
            "type": "scattercarpet"
           }
          ],
          "scattergeo": [
           {
            "marker": {
             "colorbar": {
              "outlinewidth": 0,
              "ticks": ""
             }
            },
            "type": "scattergeo"
           }
          ],
          "scattergl": [
           {
            "marker": {
             "colorbar": {
              "outlinewidth": 0,
              "ticks": ""
             }
            },
            "type": "scattergl"
           }
          ],
          "scattermapbox": [
           {
            "marker": {
             "colorbar": {
              "outlinewidth": 0,
              "ticks": ""
             }
            },
            "type": "scattermapbox"
           }
          ],
          "scatterpolar": [
           {
            "marker": {
             "colorbar": {
              "outlinewidth": 0,
              "ticks": ""
             }
            },
            "type": "scatterpolar"
           }
          ],
          "scatterpolargl": [
           {
            "marker": {
             "colorbar": {
              "outlinewidth": 0,
              "ticks": ""
             }
            },
            "type": "scatterpolargl"
           }
          ],
          "scatterternary": [
           {
            "marker": {
             "colorbar": {
              "outlinewidth": 0,
              "ticks": ""
             }
            },
            "type": "scatterternary"
           }
          ],
          "surface": [
           {
            "colorbar": {
             "outlinewidth": 0,
             "ticks": ""
            },
            "colorscale": [
             [
              0,
              "#0d0887"
             ],
             [
              0.1111111111111111,
              "#46039f"
             ],
             [
              0.2222222222222222,
              "#7201a8"
             ],
             [
              0.3333333333333333,
              "#9c179e"
             ],
             [
              0.4444444444444444,
              "#bd3786"
             ],
             [
              0.5555555555555556,
              "#d8576b"
             ],
             [
              0.6666666666666666,
              "#ed7953"
             ],
             [
              0.7777777777777778,
              "#fb9f3a"
             ],
             [
              0.8888888888888888,
              "#fdca26"
             ],
             [
              1,
              "#f0f921"
             ]
            ],
            "type": "surface"
           }
          ],
          "table": [
           {
            "cells": {
             "fill": {
              "color": "#EBF0F8"
             },
             "line": {
              "color": "white"
             }
            },
            "header": {
             "fill": {
              "color": "#C8D4E3"
             },
             "line": {
              "color": "white"
             }
            },
            "type": "table"
           }
          ]
         },
         "layout": {
          "annotationdefaults": {
           "arrowcolor": "#2a3f5f",
           "arrowhead": 0,
           "arrowwidth": 1
          },
          "autotypenumbers": "strict",
          "coloraxis": {
           "colorbar": {
            "outlinewidth": 0,
            "ticks": ""
           }
          },
          "colorscale": {
           "diverging": [
            [
             0,
             "#8e0152"
            ],
            [
             0.1,
             "#c51b7d"
            ],
            [
             0.2,
             "#de77ae"
            ],
            [
             0.3,
             "#f1b6da"
            ],
            [
             0.4,
             "#fde0ef"
            ],
            [
             0.5,
             "#f7f7f7"
            ],
            [
             0.6,
             "#e6f5d0"
            ],
            [
             0.7,
             "#b8e186"
            ],
            [
             0.8,
             "#7fbc41"
            ],
            [
             0.9,
             "#4d9221"
            ],
            [
             1,
             "#276419"
            ]
           ],
           "sequential": [
            [
             0,
             "#0d0887"
            ],
            [
             0.1111111111111111,
             "#46039f"
            ],
            [
             0.2222222222222222,
             "#7201a8"
            ],
            [
             0.3333333333333333,
             "#9c179e"
            ],
            [
             0.4444444444444444,
             "#bd3786"
            ],
            [
             0.5555555555555556,
             "#d8576b"
            ],
            [
             0.6666666666666666,
             "#ed7953"
            ],
            [
             0.7777777777777778,
             "#fb9f3a"
            ],
            [
             0.8888888888888888,
             "#fdca26"
            ],
            [
             1,
             "#f0f921"
            ]
           ],
           "sequentialminus": [
            [
             0,
             "#0d0887"
            ],
            [
             0.1111111111111111,
             "#46039f"
            ],
            [
             0.2222222222222222,
             "#7201a8"
            ],
            [
             0.3333333333333333,
             "#9c179e"
            ],
            [
             0.4444444444444444,
             "#bd3786"
            ],
            [
             0.5555555555555556,
             "#d8576b"
            ],
            [
             0.6666666666666666,
             "#ed7953"
            ],
            [
             0.7777777777777778,
             "#fb9f3a"
            ],
            [
             0.8888888888888888,
             "#fdca26"
            ],
            [
             1,
             "#f0f921"
            ]
           ]
          },
          "colorway": [
           "#636efa",
           "#EF553B",
           "#00cc96",
           "#ab63fa",
           "#FFA15A",
           "#19d3f3",
           "#FF6692",
           "#B6E880",
           "#FF97FF",
           "#FECB52"
          ],
          "font": {
           "color": "#2a3f5f"
          },
          "geo": {
           "bgcolor": "white",
           "lakecolor": "white",
           "landcolor": "#E5ECF6",
           "showlakes": true,
           "showland": true,
           "subunitcolor": "white"
          },
          "hoverlabel": {
           "align": "left"
          },
          "hovermode": "closest",
          "mapbox": {
           "style": "light"
          },
          "paper_bgcolor": "white",
          "plot_bgcolor": "#E5ECF6",
          "polar": {
           "angularaxis": {
            "gridcolor": "white",
            "linecolor": "white",
            "ticks": ""
           },
           "bgcolor": "#E5ECF6",
           "radialaxis": {
            "gridcolor": "white",
            "linecolor": "white",
            "ticks": ""
           }
          },
          "scene": {
           "xaxis": {
            "backgroundcolor": "#E5ECF6",
            "gridcolor": "white",
            "gridwidth": 2,
            "linecolor": "white",
            "showbackground": true,
            "ticks": "",
            "zerolinecolor": "white"
           },
           "yaxis": {
            "backgroundcolor": "#E5ECF6",
            "gridcolor": "white",
            "gridwidth": 2,
            "linecolor": "white",
            "showbackground": true,
            "ticks": "",
            "zerolinecolor": "white"
           },
           "zaxis": {
            "backgroundcolor": "#E5ECF6",
            "gridcolor": "white",
            "gridwidth": 2,
            "linecolor": "white",
            "showbackground": true,
            "ticks": "",
            "zerolinecolor": "white"
           }
          },
          "shapedefaults": {
           "line": {
            "color": "#2a3f5f"
           }
          },
          "ternary": {
           "aaxis": {
            "gridcolor": "white",
            "linecolor": "white",
            "ticks": ""
           },
           "baxis": {
            "gridcolor": "white",
            "linecolor": "white",
            "ticks": ""
           },
           "bgcolor": "#E5ECF6",
           "caxis": {
            "gridcolor": "white",
            "linecolor": "white",
            "ticks": ""
           }
          },
          "title": {
           "x": 0.05
          },
          "xaxis": {
           "automargin": true,
           "gridcolor": "white",
           "linecolor": "white",
           "ticks": "",
           "title": {
            "standoff": 15
           },
           "zerolinecolor": "white",
           "zerolinewidth": 2
          },
          "yaxis": {
           "automargin": true,
           "gridcolor": "white",
           "linecolor": "white",
           "ticks": "",
           "title": {
            "standoff": 15
           },
           "zerolinecolor": "white",
           "zerolinewidth": 2
          }
         }
        },
        "title": {
         "text": "Parallel Coordinate Plot"
        }
       }
      }
     },
     "metadata": {}
    }
   ],
   "metadata": {}
  },
  {
   "cell_type": "code",
   "execution_count": 19,
   "source": [
    "# 각 파라미터들의 상관관계\r\n",
    "optuna.visualization.plot_contour(\r\n",
    "    study,\r\n",
    "    params=[\r\n",
    "        \"max_depth\",\r\n",
    "        \"num_leaves\",\r\n",
    "        \"colsample_bytree\",\r\n",
    "        \"subsample\",\r\n",
    "        \"subsample_freq\",\r\n",
    "        \"min_child_samples\",\r\n",
    "        \"max_bin\",\r\n",
    "    ],\r\n",
    ")"
   ],
   "outputs": [
    {
     "output_type": "display_data",
     "data": {
      "application/vnd.plotly.v1+json": {
       "config": {
        "plotlyServerURL": "https://plot.ly"
       },
       "data": [
        {
         "type": "scatter",
         "xaxis": "x",
         "yaxis": "y"
        },
        {
         "colorbar": {
          "title": {
           "text": "Objective Value"
          }
         },
         "colorscale": [
          [
           0,
           "rgb(5,10,172)"
          ],
          [
           0.35,
           "rgb(40,60,190)"
          ],
          [
           0.5,
           "rgb(70,100,245)"
          ],
          [
           0.6,
           "rgb(90,120,245)"
          ],
          [
           0.7,
           "rgb(106,137,247)"
          ],
          [
           1,
           "rgb(220,220,220)"
          ]
         ],
         "connectgaps": true,
         "contours": {
          "coloring": "heatmap"
         },
         "hoverinfo": "none",
         "line": {
          "smoothing": 1.3
         },
         "reversescale": true,
         "showscale": true,
         "type": "contour",
         "x": [
          0.40442728259101784,
          0.4271363733463229,
          0.47322294090686734,
          0.4936111842654619,
          0.502314474212375,
          0.5109126733153162,
          0.5274034664069657,
          0.5752867891211308,
          0.5951099932160482,
          0.8627622080115674,
          0.8813181884524238,
          0.9040272792077289
         ],
         "xaxis": "x8",
         "y": [
          248.5,
          259,
          260,
          277,
          342,
          357,
          380,
          443,
          449,
          459,
          469,
          479.5
         ],
         "yaxis": "y8",
         "z": [
          [
           null,
           null,
           null,
           null,
           null,
           null,
           null,
           null,
           null,
           null,
           null,
           null
          ],
          [
           null,
           null,
           null,
           null,
           null,
           null,
           null,
           null,
           null,
           null,
           0.760395401057648,
           null
          ],
          [
           null,
           null,
           null,
           null,
           null,
           null,
           null,
           0.7413939006072351,
           null,
           null,
           null,
           null
          ],
          [
           null,
           null,
           0.7207942901383018,
           null,
           null,
           null,
           null,
           null,
           null,
           null,
           null,
           null
          ],
          [
           null,
           null,
           null,
           null,
           null,
           null,
           null,
           null,
           0.8018789923699052,
           null,
           null,
           null
          ],
          [
           null,
           null,
           null,
           null,
           null,
           null,
           0.738817257708709,
           null,
           null,
           null,
           null,
           null
          ],
          [
           null,
           null,
           null,
           0.7432538731074472,
           null,
           null,
           null,
           null,
           null,
           null,
           null,
           null
          ],
          [
           null,
           null,
           null,
           null,
           0.8218518136984446,
           null,
           null,
           null,
           null,
           null,
           null,
           null
          ],
          [
           null,
           0.7906575120139706,
           null,
           null,
           null,
           null,
           null,
           null,
           null,
           null,
           null,
           null
          ],
          [
           null,
           null,
           null,
           null,
           null,
           null,
           null,
           null,
           null,
           0.7329162281678697,
           null,
           null
          ],
          [
           null,
           null,
           null,
           null,
           null,
           0.7441534908376499,
           null,
           null,
           null,
           null,
           null,
           null
          ],
          [
           null,
           null,
           null,
           null,
           null,
           null,
           null,
           null,
           null,
           null,
           null,
           null
          ]
         ]
        },
        {
         "marker": {
          "color": "black",
          "line": {
           "color": "Grey",
           "width": 0.5
          }
         },
         "mode": "markers",
         "showlegend": false,
         "type": "scatter",
         "x": [
          0.4936111842654619,
          0.5274034664069657,
          0.5752867891211308,
          0.502314474212375,
          0.47322294090686734,
          0.5109126733153162,
          0.4271363733463229,
          0.8813181884524238,
          0.8627622080115674,
          0.5951099932160482
         ],
         "xaxis": "x8",
         "y": [
          380,
          357,
          260,
          443,
          277,
          469,
          449,
          259,
          459,
          342
         ],
         "yaxis": "y8"
        },
        {
         "colorbar": {
          "title": {
           "text": "Objective Value"
          }
         },
         "colorscale": [
          [
           0,
           "rgb(5,10,172)"
          ],
          [
           0.35,
           "rgb(40,60,190)"
          ],
          [
           0.5,
           "rgb(70,100,245)"
          ],
          [
           0.6,
           "rgb(90,120,245)"
          ],
          [
           0.7,
           "rgb(106,137,247)"
          ],
          [
           1,
           "rgb(220,220,220)"
          ]
         ],
         "connectgaps": true,
         "contours": {
          "coloring": "heatmap"
         },
         "hoverinfo": "none",
         "line": {
          "smoothing": 1.3
         },
         "reversescale": true,
         "showscale": false,
         "type": "contour",
         "x": [
          0.40442728259101784,
          0.4271363733463229,
          0.47322294090686734,
          0.4936111842654619,
          0.502314474212375,
          0.5109126733153162,
          0.5274034664069657,
          0.5752867891211308,
          0.5951099932160482,
          0.8627622080115674,
          0.8813181884524238,
          0.9040272792077289
         ],
         "xaxis": "x15",
         "y": [
          0.04999999999999993,
          1,
          2,
          11,
          13,
          14,
          15,
          20,
          20.95
         ],
         "yaxis": "y15",
         "z": [
          [
           null,
           null,
           null,
           null,
           null,
           null,
           null,
           null,
           null,
           null,
           null,
           null
          ],
          [
           null,
           null,
           null,
           null,
           0.8218518136984446,
           null,
           null,
           null,
           null,
           null,
           null,
           null
          ],
          [
           null,
           0.7906575120139706,
           null,
           null,
           null,
           null,
           null,
           null,
           0.8018789923699052,
           null,
           null,
           null
          ],
          [
           null,
           null,
           null,
           null,
           null,
           0.7441534908376499,
           null,
           null,
           null,
           null,
           0.760395401057648,
           null
          ],
          [
           null,
           null,
           null,
           null,
           null,
           null,
           null,
           0.7413939006072351,
           null,
           null,
           null,
           null
          ],
          [
           null,
           null,
           0.7207942901383018,
           null,
           null,
           null,
           null,
           null,
           null,
           null,
           null,
           null
          ],
          [
           null,
           null,
           null,
           0.7432538731074472,
           null,
           null,
           null,
           null,
           null,
           0.7329162281678697,
           null,
           null
          ],
          [
           null,
           null,
           null,
           null,
           null,
           null,
           0.738817257708709,
           null,
           null,
           null,
           null,
           null
          ],
          [
           null,
           null,
           null,
           null,
           null,
           null,
           null,
           null,
           null,
           null,
           null,
           null
          ]
         ]
        },
        {
         "marker": {
          "color": "black",
          "line": {
           "color": "Grey",
           "width": 0.5
          }
         },
         "mode": "markers",
         "showlegend": false,
         "type": "scatter",
         "x": [
          0.4936111842654619,
          0.5274034664069657,
          0.5752867891211308,
          0.502314474212375,
          0.47322294090686734,
          0.5109126733153162,
          0.4271363733463229,
          0.8813181884524238,
          0.8627622080115674,
          0.5951099932160482
         ],
         "xaxis": "x15",
         "y": [
          15,
          20,
          13,
          1,
          14,
          11,
          2,
          11,
          15,
          2
         ],
         "yaxis": "y15"
        },
        {
         "colorbar": {
          "title": {
           "text": "Objective Value"
          }
         },
         "colorscale": [
          [
           0,
           "rgb(5,10,172)"
          ],
          [
           0.35,
           "rgb(40,60,190)"
          ],
          [
           0.5,
           "rgb(70,100,245)"
          ],
          [
           0.6,
           "rgb(90,120,245)"
          ],
          [
           0.7,
           "rgb(106,137,247)"
          ],
          [
           1,
           "rgb(220,220,220)"
          ]
         ],
         "connectgaps": true,
         "contours": {
          "coloring": "heatmap"
         },
         "hoverinfo": "none",
         "line": {
          "smoothing": 1.3
         },
         "reversescale": true,
         "showscale": false,
         "type": "contour",
         "x": [
          0.40442728259101784,
          0.4271363733463229,
          0.47322294090686734,
          0.4936111842654619,
          0.502314474212375,
          0.5109126733153162,
          0.5274034664069657,
          0.5752867891211308,
          0.5951099932160482,
          0.8627622080115674,
          0.8813181884524238,
          0.9040272792077289
         ],
         "xaxis": "x22",
         "y": [
          11.95,
          16,
          31,
          34,
          79,
          80,
          88,
          90,
          92,
          95,
          97,
          101.05
         ],
         "yaxis": "y22",
         "z": [
          [
           null,
           null,
           null,
           null,
           null,
           null,
           null,
           null,
           null,
           null,
           null,
           null
          ],
          [
           null,
           null,
           null,
           null,
           null,
           null,
           null,
           null,
           null,
           0.7329162281678697,
           null,
           null
          ],
          [
           null,
           0.7906575120139706,
           null,
           null,
           null,
           null,
           null,
           null,
           null,
           null,
           null,
           null
          ],
          [
           null,
           null,
           null,
           null,
           null,
           null,
           0.738817257708709,
           null,
           null,
           null,
           null,
           null
          ],
          [
           null,
           null,
           null,
           null,
           null,
           null,
           null,
           null,
           null,
           null,
           0.760395401057648,
           null
          ],
          [
           null,
           null,
           null,
           null,
           null,
           null,
           null,
           0.7413939006072351,
           null,
           null,
           null,
           null
          ],
          [
           null,
           null,
           null,
           0.7432538731074472,
           null,
           null,
           null,
           null,
           null,
           null,
           null,
           null
          ],
          [
           null,
           null,
           null,
           null,
           null,
           null,
           null,
           null,
           0.8018789923699052,
           null,
           null,
           null
          ],
          [
           null,
           null,
           0.7207942901383018,
           null,
           null,
           null,
           null,
           null,
           null,
           null,
           null,
           null
          ],
          [
           null,
           null,
           null,
           null,
           null,
           0.7441534908376499,
           null,
           null,
           null,
           null,
           null,
           null
          ],
          [
           null,
           null,
           null,
           null,
           0.8218518136984446,
           null,
           null,
           null,
           null,
           null,
           null,
           null
          ],
          [
           null,
           null,
           null,
           null,
           null,
           null,
           null,
           null,
           null,
           null,
           null,
           null
          ]
         ]
        },
        {
         "marker": {
          "color": "black",
          "line": {
           "color": "Grey",
           "width": 0.5
          }
         },
         "mode": "markers",
         "showlegend": false,
         "type": "scatter",
         "x": [
          0.4936111842654619,
          0.5274034664069657,
          0.5752867891211308,
          0.502314474212375,
          0.47322294090686734,
          0.5109126733153162,
          0.4271363733463229,
          0.8813181884524238,
          0.8627622080115674,
          0.5951099932160482
         ],
         "xaxis": "x22",
         "y": [
          88,
          34,
          80,
          97,
          92,
          95,
          31,
          79,
          16,
          90
         ],
         "yaxis": "y22"
        },
        {
         "colorbar": {
          "title": {
           "text": "Objective Value"
          }
         },
         "colorscale": [
          [
           0,
           "rgb(5,10,172)"
          ],
          [
           0.35,
           "rgb(40,60,190)"
          ],
          [
           0.5,
           "rgb(70,100,245)"
          ],
          [
           0.6,
           "rgb(90,120,245)"
          ],
          [
           0.7,
           "rgb(106,137,247)"
          ],
          [
           1,
           "rgb(220,220,220)"
          ]
         ],
         "connectgaps": true,
         "contours": {
          "coloring": "heatmap"
         },
         "hoverinfo": "none",
         "line": {
          "smoothing": 1.3
         },
         "reversescale": true,
         "showscale": false,
         "type": "contour",
         "x": [
          0.40442728259101784,
          0.4271363733463229,
          0.47322294090686734,
          0.4936111842654619,
          0.502314474212375,
          0.5109126733153162,
          0.5274034664069657,
          0.5752867891211308,
          0.5951099932160482,
          0.8627622080115674,
          0.8813181884524238,
          0.9040272792077289
         ],
         "xaxis": "x29",
         "y": [
          28.15,
          37,
          51,
          81,
          114,
          141,
          154,
          156,
          187,
          214,
          222.85
         ],
         "yaxis": "y29",
         "z": [
          [
           null,
           null,
           null,
           null,
           null,
           null,
           null,
           null,
           null,
           null,
           null,
           null
          ],
          [
           null,
           null,
           null,
           null,
           null,
           null,
           null,
           0.7413939006072351,
           null,
           null,
           0.760395401057648,
           null
          ],
          [
           null,
           0.7906575120139706,
           null,
           null,
           null,
           null,
           null,
           null,
           null,
           null,
           null,
           null
          ],
          [
           null,
           null,
           null,
           null,
           null,
           null,
           null,
           null,
           0.8018789923699052,
           null,
           null,
           null
          ],
          [
           null,
           null,
           0.7207942901383018,
           null,
           null,
           null,
           null,
           null,
           null,
           null,
           null,
           null
          ],
          [
           null,
           null,
           null,
           null,
           null,
           0.7441534908376499,
           null,
           null,
           null,
           null,
           null,
           null
          ],
          [
           null,
           null,
           null,
           0.7432538731074472,
           null,
           null,
           null,
           null,
           null,
           null,
           null,
           null
          ],
          [
           null,
           null,
           null,
           null,
           0.8218518136984446,
           null,
           null,
           null,
           null,
           null,
           null,
           null
          ],
          [
           null,
           null,
           null,
           null,
           null,
           null,
           null,
           null,
           null,
           0.7329162281678697,
           null,
           null
          ],
          [
           null,
           null,
           null,
           null,
           null,
           null,
           0.738817257708709,
           null,
           null,
           null,
           null,
           null
          ],
          [
           null,
           null,
           null,
           null,
           null,
           null,
           null,
           null,
           null,
           null,
           null,
           null
          ]
         ]
        },
        {
         "marker": {
          "color": "black",
          "line": {
           "color": "Grey",
           "width": 0.5
          }
         },
         "mode": "markers",
         "showlegend": false,
         "type": "scatter",
         "x": [
          0.4936111842654619,
          0.5274034664069657,
          0.5752867891211308,
          0.502314474212375,
          0.47322294090686734,
          0.5109126733153162,
          0.4271363733463229,
          0.8813181884524238,
          0.8627622080115674,
          0.5951099932160482
         ],
         "xaxis": "x29",
         "y": [
          154,
          214,
          37,
          156,
          114,
          141,
          51,
          37,
          187,
          81
         ],
         "yaxis": "y29"
        },
        {
         "colorbar": {
          "title": {
           "text": "Objective Value"
          }
         },
         "colorscale": [
          [
           0,
           "rgb(5,10,172)"
          ],
          [
           0.35,
           "rgb(40,60,190)"
          ],
          [
           0.5,
           "rgb(70,100,245)"
          ],
          [
           0.6,
           "rgb(90,120,245)"
          ],
          [
           0.7,
           "rgb(106,137,247)"
          ],
          [
           1,
           "rgb(220,220,220)"
          ]
         ],
         "connectgaps": true,
         "contours": {
          "coloring": "heatmap"
         },
         "hoverinfo": "none",
         "line": {
          "smoothing": 1.3
         },
         "reversescale": true,
         "showscale": false,
         "type": "contour",
         "x": [
          0.40442728259101784,
          0.4271363733463229,
          0.47322294090686734,
          0.4936111842654619,
          0.502314474212375,
          0.5109126733153162,
          0.5274034664069657,
          0.5752867891211308,
          0.5951099932160482,
          0.8627622080115674,
          0.8813181884524238,
          0.9040272792077289
         ],
         "xaxis": "x36",
         "y": [
          0.31387745887242086,
          0.3455361150896956,
          0.35183125621386324,
          0.35218545057583955,
          0.40919616423534183,
          0.42727747704497043,
          0.527731231534285,
          0.5564532903055841,
          0.6466238370778892,
          0.8107243248366449,
          0.9787092394351908,
          1.0103678956524655
         ],
         "yaxis": "y36",
         "z": [
          [
           null,
           null,
           null,
           null,
           null,
           null,
           null,
           null,
           null,
           null,
           null,
           null
          ],
          [
           null,
           null,
           null,
           null,
           0.8218518136984446,
           null,
           null,
           null,
           null,
           null,
           null,
           null
          ],
          [
           null,
           null,
           null,
           null,
           null,
           null,
           null,
           null,
           null,
           0.7329162281678697,
           null,
           null
          ],
          [
           null,
           null,
           null,
           null,
           null,
           null,
           null,
           null,
           null,
           null,
           0.760395401057648,
           null
          ],
          [
           null,
           null,
           null,
           0.7432538731074472,
           null,
           null,
           null,
           null,
           null,
           null,
           null,
           null
          ],
          [
           null,
           null,
           null,
           null,
           null,
           null,
           0.738817257708709,
           null,
           null,
           null,
           null,
           null
          ],
          [
           null,
           0.7906575120139706,
           null,
           null,
           null,
           null,
           null,
           null,
           null,
           null,
           null,
           null
          ],
          [
           null,
           null,
           null,
           null,
           null,
           null,
           null,
           0.7413939006072351,
           null,
           null,
           null,
           null
          ],
          [
           null,
           null,
           0.7207942901383018,
           null,
           null,
           null,
           null,
           null,
           null,
           null,
           null,
           null
          ],
          [
           null,
           null,
           null,
           null,
           null,
           null,
           null,
           null,
           0.8018789923699052,
           null,
           null,
           null
          ],
          [
           null,
           null,
           null,
           null,
           null,
           0.7441534908376499,
           null,
           null,
           null,
           null,
           null,
           null
          ],
          [
           null,
           null,
           null,
           null,
           null,
           null,
           null,
           null,
           null,
           null,
           null,
           null
          ]
         ]
        },
        {
         "marker": {
          "color": "black",
          "line": {
           "color": "Grey",
           "width": 0.5
          }
         },
         "mode": "markers",
         "showlegend": false,
         "type": "scatter",
         "x": [
          0.4936111842654619,
          0.5274034664069657,
          0.5752867891211308,
          0.502314474212375,
          0.47322294090686734,
          0.5109126733153162,
          0.4271363733463229,
          0.8813181884524238,
          0.8627622080115674,
          0.5951099932160482
         ],
         "xaxis": "x36",
         "y": [
          0.40919616423534183,
          0.42727747704497043,
          0.5564532903055841,
          0.3455361150896956,
          0.6466238370778892,
          0.9787092394351908,
          0.527731231534285,
          0.35218545057583955,
          0.35183125621386324,
          0.8107243248366449
         ],
         "yaxis": "y36"
        },
        {
         "colorbar": {
          "title": {
           "text": "Objective Value"
          }
         },
         "colorscale": [
          [
           0,
           "rgb(5,10,172)"
          ],
          [
           0.35,
           "rgb(40,60,190)"
          ],
          [
           0.5,
           "rgb(70,100,245)"
          ],
          [
           0.6,
           "rgb(90,120,245)"
          ],
          [
           0.7,
           "rgb(106,137,247)"
          ],
          [
           1,
           "rgb(220,220,220)"
          ]
         ],
         "connectgaps": true,
         "contours": {
          "coloring": "heatmap"
         },
         "hoverinfo": "none",
         "line": {
          "smoothing": 1.3
         },
         "reversescale": true,
         "showscale": false,
         "type": "contour",
         "x": [
          0.40442728259101784,
          0.4271363733463229,
          0.47322294090686734,
          0.4936111842654619,
          0.502314474212375,
          0.5109126733153162,
          0.5274034664069657,
          0.5752867891211308,
          0.5951099932160482,
          0.8627622080115674,
          0.8813181884524238,
          0.9040272792077289
         ],
         "xaxis": "x43",
         "y": [
          0.55,
          1,
          2,
          4,
          5,
          7,
          8,
          10,
          10.45
         ],
         "yaxis": "y43",
         "z": [
          [
           null,
           null,
           null,
           null,
           null,
           null,
           null,
           null,
           null,
           null,
           null,
           null
          ],
          [
           null,
           null,
           0.7207942901383018,
           0.7432538731074472,
           null,
           null,
           null,
           null,
           null,
           null,
           null,
           null
          ],
          [
           null,
           null,
           null,
           null,
           null,
           null,
           0.738817257708709,
           null,
           null,
           null,
           null,
           null
          ],
          [
           null,
           0.7906575120139706,
           null,
           null,
           null,
           null,
           null,
           null,
           null,
           0.7329162281678697,
           null,
           null
          ],
          [
           null,
           null,
           null,
           null,
           null,
           null,
           null,
           0.7413939006072351,
           null,
           null,
           null,
           null
          ],
          [
           null,
           null,
           null,
           null,
           null,
           null,
           null,
           null,
           0.8018789923699052,
           null,
           null,
           null
          ],
          [
           null,
           null,
           null,
           null,
           null,
           0.7441534908376499,
           null,
           null,
           null,
           null,
           null,
           null
          ],
          [
           null,
           null,
           null,
           null,
           0.8218518136984446,
           null,
           null,
           null,
           null,
           null,
           0.760395401057648,
           null
          ],
          [
           null,
           null,
           null,
           null,
           null,
           null,
           null,
           null,
           null,
           null,
           null,
           null
          ]
         ]
        },
        {
         "marker": {
          "color": "black",
          "line": {
           "color": "Grey",
           "width": 0.5
          }
         },
         "mode": "markers",
         "showlegend": false,
         "type": "scatter",
         "x": [
          0.4936111842654619,
          0.5274034664069657,
          0.5752867891211308,
          0.502314474212375,
          0.47322294090686734,
          0.5109126733153162,
          0.4271363733463229,
          0.8813181884524238,
          0.8627622080115674,
          0.5951099932160482
         ],
         "xaxis": "x43",
         "y": [
          1,
          2,
          5,
          10,
          1,
          8,
          4,
          10,
          4,
          7
         ],
         "yaxis": "y43"
        },
        {
         "colorbar": {
          "title": {
           "text": "Objective Value"
          }
         },
         "colorscale": [
          [
           0,
           "rgb(5,10,172)"
          ],
          [
           0.35,
           "rgb(40,60,190)"
          ],
          [
           0.5,
           "rgb(70,100,245)"
          ],
          [
           0.6,
           "rgb(90,120,245)"
          ],
          [
           0.7,
           "rgb(106,137,247)"
          ],
          [
           1,
           "rgb(220,220,220)"
          ]
         ],
         "connectgaps": true,
         "contours": {
          "coloring": "heatmap"
         },
         "hoverinfo": "none",
         "line": {
          "smoothing": 1.3
         },
         "reversescale": true,
         "showscale": false,
         "type": "contour",
         "x": [
          248.5,
          259,
          260,
          277,
          342,
          357,
          380,
          443,
          449,
          459,
          469,
          479.5
         ],
         "xaxis": "x2",
         "y": [
          0.40442728259101784,
          0.4271363733463229,
          0.47322294090686734,
          0.4936111842654619,
          0.502314474212375,
          0.5109126733153162,
          0.5274034664069657,
          0.5752867891211308,
          0.5951099932160482,
          0.8627622080115674,
          0.8813181884524238,
          0.9040272792077289
         ],
         "yaxis": "y2",
         "z": [
          [
           null,
           null,
           null,
           null,
           null,
           null,
           null,
           null,
           null,
           null,
           null,
           null
          ],
          [
           null,
           null,
           null,
           null,
           null,
           null,
           null,
           null,
           0.7906575120139706,
           null,
           null,
           null
          ],
          [
           null,
           null,
           null,
           0.7207942901383018,
           null,
           null,
           null,
           null,
           null,
           null,
           null,
           null
          ],
          [
           null,
           null,
           null,
           null,
           null,
           null,
           0.7432538731074472,
           null,
           null,
           null,
           null,
           null
          ],
          [
           null,
           null,
           null,
           null,
           null,
           null,
           null,
           0.8218518136984446,
           null,
           null,
           null,
           null
          ],
          [
           null,
           null,
           null,
           null,
           null,
           null,
           null,
           null,
           null,
           null,
           0.7441534908376499,
           null
          ],
          [
           null,
           null,
           null,
           null,
           null,
           0.738817257708709,
           null,
           null,
           null,
           null,
           null,
           null
          ],
          [
           null,
           null,
           0.7413939006072351,
           null,
           null,
           null,
           null,
           null,
           null,
           null,
           null,
           null
          ],
          [
           null,
           null,
           null,
           null,
           0.8018789923699052,
           null,
           null,
           null,
           null,
           null,
           null,
           null
          ],
          [
           null,
           null,
           null,
           null,
           null,
           null,
           null,
           null,
           null,
           0.7329162281678697,
           null,
           null
          ],
          [
           null,
           0.760395401057648,
           null,
           null,
           null,
           null,
           null,
           null,
           null,
           null,
           null,
           null
          ],
          [
           null,
           null,
           null,
           null,
           null,
           null,
           null,
           null,
           null,
           null,
           null,
           null
          ]
         ]
        },
        {
         "marker": {
          "color": "black",
          "line": {
           "color": "Grey",
           "width": 0.5
          }
         },
         "mode": "markers",
         "showlegend": false,
         "type": "scatter",
         "x": [
          380,
          357,
          260,
          443,
          277,
          469,
          449,
          259,
          459,
          342
         ],
         "xaxis": "x2",
         "y": [
          0.4936111842654619,
          0.5274034664069657,
          0.5752867891211308,
          0.502314474212375,
          0.47322294090686734,
          0.5109126733153162,
          0.4271363733463229,
          0.8813181884524238,
          0.8627622080115674,
          0.5951099932160482
         ],
         "yaxis": "y2"
        },
        {
         "type": "scatter",
         "xaxis": "x9",
         "yaxis": "y9"
        },
        {
         "colorbar": {
          "title": {
           "text": "Objective Value"
          }
         },
         "colorscale": [
          [
           0,
           "rgb(5,10,172)"
          ],
          [
           0.35,
           "rgb(40,60,190)"
          ],
          [
           0.5,
           "rgb(70,100,245)"
          ],
          [
           0.6,
           "rgb(90,120,245)"
          ],
          [
           0.7,
           "rgb(106,137,247)"
          ],
          [
           1,
           "rgb(220,220,220)"
          ]
         ],
         "connectgaps": true,
         "contours": {
          "coloring": "heatmap"
         },
         "hoverinfo": "none",
         "line": {
          "smoothing": 1.3
         },
         "reversescale": true,
         "showscale": false,
         "type": "contour",
         "x": [
          248.5,
          259,
          260,
          277,
          342,
          357,
          380,
          443,
          449,
          459,
          469,
          479.5
         ],
         "xaxis": "x16",
         "y": [
          0.04999999999999993,
          1,
          2,
          11,
          13,
          14,
          15,
          20,
          20.95
         ],
         "yaxis": "y16",
         "z": [
          [
           null,
           null,
           null,
           null,
           null,
           null,
           null,
           null,
           null,
           null,
           null,
           null
          ],
          [
           null,
           null,
           null,
           null,
           null,
           null,
           null,
           0.8218518136984446,
           null,
           null,
           null,
           null
          ],
          [
           null,
           null,
           null,
           null,
           0.8018789923699052,
           null,
           null,
           null,
           0.7906575120139706,
           null,
           null,
           null
          ],
          [
           null,
           0.760395401057648,
           null,
           null,
           null,
           null,
           null,
           null,
           null,
           null,
           0.7441534908376499,
           null
          ],
          [
           null,
           null,
           0.7413939006072351,
           null,
           null,
           null,
           null,
           null,
           null,
           null,
           null,
           null
          ],
          [
           null,
           null,
           null,
           0.7207942901383018,
           null,
           null,
           null,
           null,
           null,
           null,
           null,
           null
          ],
          [
           null,
           null,
           null,
           null,
           null,
           null,
           0.7432538731074472,
           null,
           null,
           0.7329162281678697,
           null,
           null
          ],
          [
           null,
           null,
           null,
           null,
           null,
           0.738817257708709,
           null,
           null,
           null,
           null,
           null,
           null
          ],
          [
           null,
           null,
           null,
           null,
           null,
           null,
           null,
           null,
           null,
           null,
           null,
           null
          ]
         ]
        },
        {
         "marker": {
          "color": "black",
          "line": {
           "color": "Grey",
           "width": 0.5
          }
         },
         "mode": "markers",
         "showlegend": false,
         "type": "scatter",
         "x": [
          380,
          357,
          260,
          443,
          277,
          469,
          449,
          259,
          459,
          342
         ],
         "xaxis": "x16",
         "y": [
          15,
          20,
          13,
          1,
          14,
          11,
          2,
          11,
          15,
          2
         ],
         "yaxis": "y16"
        },
        {
         "colorbar": {
          "title": {
           "text": "Objective Value"
          }
         },
         "colorscale": [
          [
           0,
           "rgb(5,10,172)"
          ],
          [
           0.35,
           "rgb(40,60,190)"
          ],
          [
           0.5,
           "rgb(70,100,245)"
          ],
          [
           0.6,
           "rgb(90,120,245)"
          ],
          [
           0.7,
           "rgb(106,137,247)"
          ],
          [
           1,
           "rgb(220,220,220)"
          ]
         ],
         "connectgaps": true,
         "contours": {
          "coloring": "heatmap"
         },
         "hoverinfo": "none",
         "line": {
          "smoothing": 1.3
         },
         "reversescale": true,
         "showscale": false,
         "type": "contour",
         "x": [
          248.5,
          259,
          260,
          277,
          342,
          357,
          380,
          443,
          449,
          459,
          469,
          479.5
         ],
         "xaxis": "x23",
         "y": [
          11.95,
          16,
          31,
          34,
          79,
          80,
          88,
          90,
          92,
          95,
          97,
          101.05
         ],
         "yaxis": "y23",
         "z": [
          [
           null,
           null,
           null,
           null,
           null,
           null,
           null,
           null,
           null,
           null,
           null,
           null
          ],
          [
           null,
           null,
           null,
           null,
           null,
           null,
           null,
           null,
           null,
           0.7329162281678697,
           null,
           null
          ],
          [
           null,
           null,
           null,
           null,
           null,
           null,
           null,
           null,
           0.7906575120139706,
           null,
           null,
           null
          ],
          [
           null,
           null,
           null,
           null,
           null,
           0.738817257708709,
           null,
           null,
           null,
           null,
           null,
           null
          ],
          [
           null,
           0.760395401057648,
           null,
           null,
           null,
           null,
           null,
           null,
           null,
           null,
           null,
           null
          ],
          [
           null,
           null,
           0.7413939006072351,
           null,
           null,
           null,
           null,
           null,
           null,
           null,
           null,
           null
          ],
          [
           null,
           null,
           null,
           null,
           null,
           null,
           0.7432538731074472,
           null,
           null,
           null,
           null,
           null
          ],
          [
           null,
           null,
           null,
           null,
           0.8018789923699052,
           null,
           null,
           null,
           null,
           null,
           null,
           null
          ],
          [
           null,
           null,
           null,
           0.7207942901383018,
           null,
           null,
           null,
           null,
           null,
           null,
           null,
           null
          ],
          [
           null,
           null,
           null,
           null,
           null,
           null,
           null,
           null,
           null,
           null,
           0.7441534908376499,
           null
          ],
          [
           null,
           null,
           null,
           null,
           null,
           null,
           null,
           0.8218518136984446,
           null,
           null,
           null,
           null
          ],
          [
           null,
           null,
           null,
           null,
           null,
           null,
           null,
           null,
           null,
           null,
           null,
           null
          ]
         ]
        },
        {
         "marker": {
          "color": "black",
          "line": {
           "color": "Grey",
           "width": 0.5
          }
         },
         "mode": "markers",
         "showlegend": false,
         "type": "scatter",
         "x": [
          380,
          357,
          260,
          443,
          277,
          469,
          449,
          259,
          459,
          342
         ],
         "xaxis": "x23",
         "y": [
          88,
          34,
          80,
          97,
          92,
          95,
          31,
          79,
          16,
          90
         ],
         "yaxis": "y23"
        },
        {
         "colorbar": {
          "title": {
           "text": "Objective Value"
          }
         },
         "colorscale": [
          [
           0,
           "rgb(5,10,172)"
          ],
          [
           0.35,
           "rgb(40,60,190)"
          ],
          [
           0.5,
           "rgb(70,100,245)"
          ],
          [
           0.6,
           "rgb(90,120,245)"
          ],
          [
           0.7,
           "rgb(106,137,247)"
          ],
          [
           1,
           "rgb(220,220,220)"
          ]
         ],
         "connectgaps": true,
         "contours": {
          "coloring": "heatmap"
         },
         "hoverinfo": "none",
         "line": {
          "smoothing": 1.3
         },
         "reversescale": true,
         "showscale": false,
         "type": "contour",
         "x": [
          248.5,
          259,
          260,
          277,
          342,
          357,
          380,
          443,
          449,
          459,
          469,
          479.5
         ],
         "xaxis": "x30",
         "y": [
          28.15,
          37,
          51,
          81,
          114,
          141,
          154,
          156,
          187,
          214,
          222.85
         ],
         "yaxis": "y30",
         "z": [
          [
           null,
           null,
           null,
           null,
           null,
           null,
           null,
           null,
           null,
           null,
           null,
           null
          ],
          [
           null,
           0.760395401057648,
           0.7413939006072351,
           null,
           null,
           null,
           null,
           null,
           null,
           null,
           null,
           null
          ],
          [
           null,
           null,
           null,
           null,
           null,
           null,
           null,
           null,
           0.7906575120139706,
           null,
           null,
           null
          ],
          [
           null,
           null,
           null,
           null,
           0.8018789923699052,
           null,
           null,
           null,
           null,
           null,
           null,
           null
          ],
          [
           null,
           null,
           null,
           0.7207942901383018,
           null,
           null,
           null,
           null,
           null,
           null,
           null,
           null
          ],
          [
           null,
           null,
           null,
           null,
           null,
           null,
           null,
           null,
           null,
           null,
           0.7441534908376499,
           null
          ],
          [
           null,
           null,
           null,
           null,
           null,
           null,
           0.7432538731074472,
           null,
           null,
           null,
           null,
           null
          ],
          [
           null,
           null,
           null,
           null,
           null,
           null,
           null,
           0.8218518136984446,
           null,
           null,
           null,
           null
          ],
          [
           null,
           null,
           null,
           null,
           null,
           null,
           null,
           null,
           null,
           0.7329162281678697,
           null,
           null
          ],
          [
           null,
           null,
           null,
           null,
           null,
           0.738817257708709,
           null,
           null,
           null,
           null,
           null,
           null
          ],
          [
           null,
           null,
           null,
           null,
           null,
           null,
           null,
           null,
           null,
           null,
           null,
           null
          ]
         ]
        },
        {
         "marker": {
          "color": "black",
          "line": {
           "color": "Grey",
           "width": 0.5
          }
         },
         "mode": "markers",
         "showlegend": false,
         "type": "scatter",
         "x": [
          380,
          357,
          260,
          443,
          277,
          469,
          449,
          259,
          459,
          342
         ],
         "xaxis": "x30",
         "y": [
          154,
          214,
          37,
          156,
          114,
          141,
          51,
          37,
          187,
          81
         ],
         "yaxis": "y30"
        },
        {
         "colorbar": {
          "title": {
           "text": "Objective Value"
          }
         },
         "colorscale": [
          [
           0,
           "rgb(5,10,172)"
          ],
          [
           0.35,
           "rgb(40,60,190)"
          ],
          [
           0.5,
           "rgb(70,100,245)"
          ],
          [
           0.6,
           "rgb(90,120,245)"
          ],
          [
           0.7,
           "rgb(106,137,247)"
          ],
          [
           1,
           "rgb(220,220,220)"
          ]
         ],
         "connectgaps": true,
         "contours": {
          "coloring": "heatmap"
         },
         "hoverinfo": "none",
         "line": {
          "smoothing": 1.3
         },
         "reversescale": true,
         "showscale": false,
         "type": "contour",
         "x": [
          248.5,
          259,
          260,
          277,
          342,
          357,
          380,
          443,
          449,
          459,
          469,
          479.5
         ],
         "xaxis": "x37",
         "y": [
          0.31387745887242086,
          0.3455361150896956,
          0.35183125621386324,
          0.35218545057583955,
          0.40919616423534183,
          0.42727747704497043,
          0.527731231534285,
          0.5564532903055841,
          0.6466238370778892,
          0.8107243248366449,
          0.9787092394351908,
          1.0103678956524655
         ],
         "yaxis": "y37",
         "z": [
          [
           null,
           null,
           null,
           null,
           null,
           null,
           null,
           null,
           null,
           null,
           null,
           null
          ],
          [
           null,
           null,
           null,
           null,
           null,
           null,
           null,
           0.8218518136984446,
           null,
           null,
           null,
           null
          ],
          [
           null,
           null,
           null,
           null,
           null,
           null,
           null,
           null,
           null,
           0.7329162281678697,
           null,
           null
          ],
          [
           null,
           0.760395401057648,
           null,
           null,
           null,
           null,
           null,
           null,
           null,
           null,
           null,
           null
          ],
          [
           null,
           null,
           null,
           null,
           null,
           null,
           0.7432538731074472,
           null,
           null,
           null,
           null,
           null
          ],
          [
           null,
           null,
           null,
           null,
           null,
           0.738817257708709,
           null,
           null,
           null,
           null,
           null,
           null
          ],
          [
           null,
           null,
           null,
           null,
           null,
           null,
           null,
           null,
           0.7906575120139706,
           null,
           null,
           null
          ],
          [
           null,
           null,
           0.7413939006072351,
           null,
           null,
           null,
           null,
           null,
           null,
           null,
           null,
           null
          ],
          [
           null,
           null,
           null,
           0.7207942901383018,
           null,
           null,
           null,
           null,
           null,
           null,
           null,
           null
          ],
          [
           null,
           null,
           null,
           null,
           0.8018789923699052,
           null,
           null,
           null,
           null,
           null,
           null,
           null
          ],
          [
           null,
           null,
           null,
           null,
           null,
           null,
           null,
           null,
           null,
           null,
           0.7441534908376499,
           null
          ],
          [
           null,
           null,
           null,
           null,
           null,
           null,
           null,
           null,
           null,
           null,
           null,
           null
          ]
         ]
        },
        {
         "marker": {
          "color": "black",
          "line": {
           "color": "Grey",
           "width": 0.5
          }
         },
         "mode": "markers",
         "showlegend": false,
         "type": "scatter",
         "x": [
          380,
          357,
          260,
          443,
          277,
          469,
          449,
          259,
          459,
          342
         ],
         "xaxis": "x37",
         "y": [
          0.40919616423534183,
          0.42727747704497043,
          0.5564532903055841,
          0.3455361150896956,
          0.6466238370778892,
          0.9787092394351908,
          0.527731231534285,
          0.35218545057583955,
          0.35183125621386324,
          0.8107243248366449
         ],
         "yaxis": "y37"
        },
        {
         "colorbar": {
          "title": {
           "text": "Objective Value"
          }
         },
         "colorscale": [
          [
           0,
           "rgb(5,10,172)"
          ],
          [
           0.35,
           "rgb(40,60,190)"
          ],
          [
           0.5,
           "rgb(70,100,245)"
          ],
          [
           0.6,
           "rgb(90,120,245)"
          ],
          [
           0.7,
           "rgb(106,137,247)"
          ],
          [
           1,
           "rgb(220,220,220)"
          ]
         ],
         "connectgaps": true,
         "contours": {
          "coloring": "heatmap"
         },
         "hoverinfo": "none",
         "line": {
          "smoothing": 1.3
         },
         "reversescale": true,
         "showscale": false,
         "type": "contour",
         "x": [
          248.5,
          259,
          260,
          277,
          342,
          357,
          380,
          443,
          449,
          459,
          469,
          479.5
         ],
         "xaxis": "x44",
         "y": [
          0.55,
          1,
          2,
          4,
          5,
          7,
          8,
          10,
          10.45
         ],
         "yaxis": "y44",
         "z": [
          [
           null,
           null,
           null,
           null,
           null,
           null,
           null,
           null,
           null,
           null,
           null,
           null
          ],
          [
           null,
           null,
           null,
           0.7207942901383018,
           null,
           null,
           0.7432538731074472,
           null,
           null,
           null,
           null,
           null
          ],
          [
           null,
           null,
           null,
           null,
           null,
           0.738817257708709,
           null,
           null,
           null,
           null,
           null,
           null
          ],
          [
           null,
           null,
           null,
           null,
           null,
           null,
           null,
           null,
           0.7906575120139706,
           0.7329162281678697,
           null,
           null
          ],
          [
           null,
           null,
           0.7413939006072351,
           null,
           null,
           null,
           null,
           null,
           null,
           null,
           null,
           null
          ],
          [
           null,
           null,
           null,
           null,
           0.8018789923699052,
           null,
           null,
           null,
           null,
           null,
           null,
           null
          ],
          [
           null,
           null,
           null,
           null,
           null,
           null,
           null,
           null,
           null,
           null,
           0.7441534908376499,
           null
          ],
          [
           null,
           0.760395401057648,
           null,
           null,
           null,
           null,
           null,
           0.8218518136984446,
           null,
           null,
           null,
           null
          ],
          [
           null,
           null,
           null,
           null,
           null,
           null,
           null,
           null,
           null,
           null,
           null,
           null
          ]
         ]
        },
        {
         "marker": {
          "color": "black",
          "line": {
           "color": "Grey",
           "width": 0.5
          }
         },
         "mode": "markers",
         "showlegend": false,
         "type": "scatter",
         "x": [
          380,
          357,
          260,
          443,
          277,
          469,
          449,
          259,
          459,
          342
         ],
         "xaxis": "x44",
         "y": [
          1,
          2,
          5,
          10,
          1,
          8,
          4,
          10,
          4,
          7
         ],
         "yaxis": "y44"
        },
        {
         "colorbar": {
          "title": {
           "text": "Objective Value"
          }
         },
         "colorscale": [
          [
           0,
           "rgb(5,10,172)"
          ],
          [
           0.35,
           "rgb(40,60,190)"
          ],
          [
           0.5,
           "rgb(70,100,245)"
          ],
          [
           0.6,
           "rgb(90,120,245)"
          ],
          [
           0.7,
           "rgb(106,137,247)"
          ],
          [
           1,
           "rgb(220,220,220)"
          ]
         ],
         "connectgaps": true,
         "contours": {
          "coloring": "heatmap"
         },
         "hoverinfo": "none",
         "line": {
          "smoothing": 1.3
         },
         "reversescale": true,
         "showscale": false,
         "type": "contour",
         "x": [
          0.04999999999999993,
          1,
          2,
          11,
          13,
          14,
          15,
          20,
          20.95
         ],
         "xaxis": "x3",
         "y": [
          0.40442728259101784,
          0.4271363733463229,
          0.47322294090686734,
          0.4936111842654619,
          0.502314474212375,
          0.5109126733153162,
          0.5274034664069657,
          0.5752867891211308,
          0.5951099932160482,
          0.8627622080115674,
          0.8813181884524238,
          0.9040272792077289
         ],
         "yaxis": "y3",
         "z": [
          [
           null,
           null,
           null,
           null,
           null,
           null,
           null,
           null,
           null
          ],
          [
           null,
           null,
           0.7906575120139706,
           null,
           null,
           null,
           null,
           null,
           null
          ],
          [
           null,
           null,
           null,
           null,
           null,
           0.7207942901383018,
           null,
           null,
           null
          ],
          [
           null,
           null,
           null,
           null,
           null,
           null,
           0.7432538731074472,
           null,
           null
          ],
          [
           null,
           0.8218518136984446,
           null,
           null,
           null,
           null,
           null,
           null,
           null
          ],
          [
           null,
           null,
           null,
           0.7441534908376499,
           null,
           null,
           null,
           null,
           null
          ],
          [
           null,
           null,
           null,
           null,
           null,
           null,
           null,
           0.738817257708709,
           null
          ],
          [
           null,
           null,
           null,
           null,
           0.7413939006072351,
           null,
           null,
           null,
           null
          ],
          [
           null,
           null,
           0.8018789923699052,
           null,
           null,
           null,
           null,
           null,
           null
          ],
          [
           null,
           null,
           null,
           null,
           null,
           null,
           0.7329162281678697,
           null,
           null
          ],
          [
           null,
           null,
           null,
           0.760395401057648,
           null,
           null,
           null,
           null,
           null
          ],
          [
           null,
           null,
           null,
           null,
           null,
           null,
           null,
           null,
           null
          ]
         ]
        },
        {
         "marker": {
          "color": "black",
          "line": {
           "color": "Grey",
           "width": 0.5
          }
         },
         "mode": "markers",
         "showlegend": false,
         "type": "scatter",
         "x": [
          15,
          20,
          13,
          1,
          14,
          11,
          2,
          11,
          15,
          2
         ],
         "xaxis": "x3",
         "y": [
          0.4936111842654619,
          0.5274034664069657,
          0.5752867891211308,
          0.502314474212375,
          0.47322294090686734,
          0.5109126733153162,
          0.4271363733463229,
          0.8813181884524238,
          0.8627622080115674,
          0.5951099932160482
         ],
         "yaxis": "y3"
        },
        {
         "colorbar": {
          "title": {
           "text": "Objective Value"
          }
         },
         "colorscale": [
          [
           0,
           "rgb(5,10,172)"
          ],
          [
           0.35,
           "rgb(40,60,190)"
          ],
          [
           0.5,
           "rgb(70,100,245)"
          ],
          [
           0.6,
           "rgb(90,120,245)"
          ],
          [
           0.7,
           "rgb(106,137,247)"
          ],
          [
           1,
           "rgb(220,220,220)"
          ]
         ],
         "connectgaps": true,
         "contours": {
          "coloring": "heatmap"
         },
         "hoverinfo": "none",
         "line": {
          "smoothing": 1.3
         },
         "reversescale": true,
         "showscale": false,
         "type": "contour",
         "x": [
          0.04999999999999993,
          1,
          2,
          11,
          13,
          14,
          15,
          20,
          20.95
         ],
         "xaxis": "x10",
         "y": [
          248.5,
          259,
          260,
          277,
          342,
          357,
          380,
          443,
          449,
          459,
          469,
          479.5
         ],
         "yaxis": "y10",
         "z": [
          [
           null,
           null,
           null,
           null,
           null,
           null,
           null,
           null,
           null
          ],
          [
           null,
           null,
           null,
           0.760395401057648,
           null,
           null,
           null,
           null,
           null
          ],
          [
           null,
           null,
           null,
           null,
           0.7413939006072351,
           null,
           null,
           null,
           null
          ],
          [
           null,
           null,
           null,
           null,
           null,
           0.7207942901383018,
           null,
           null,
           null
          ],
          [
           null,
           null,
           0.8018789923699052,
           null,
           null,
           null,
           null,
           null,
           null
          ],
          [
           null,
           null,
           null,
           null,
           null,
           null,
           null,
           0.738817257708709,
           null
          ],
          [
           null,
           null,
           null,
           null,
           null,
           null,
           0.7432538731074472,
           null,
           null
          ],
          [
           null,
           0.8218518136984446,
           null,
           null,
           null,
           null,
           null,
           null,
           null
          ],
          [
           null,
           null,
           0.7906575120139706,
           null,
           null,
           null,
           null,
           null,
           null
          ],
          [
           null,
           null,
           null,
           null,
           null,
           null,
           0.7329162281678697,
           null,
           null
          ],
          [
           null,
           null,
           null,
           0.7441534908376499,
           null,
           null,
           null,
           null,
           null
          ],
          [
           null,
           null,
           null,
           null,
           null,
           null,
           null,
           null,
           null
          ]
         ]
        },
        {
         "marker": {
          "color": "black",
          "line": {
           "color": "Grey",
           "width": 0.5
          }
         },
         "mode": "markers",
         "showlegend": false,
         "type": "scatter",
         "x": [
          15,
          20,
          13,
          1,
          14,
          11,
          2,
          11,
          15,
          2
         ],
         "xaxis": "x10",
         "y": [
          380,
          357,
          260,
          443,
          277,
          469,
          449,
          259,
          459,
          342
         ],
         "yaxis": "y10"
        },
        {
         "type": "scatter",
         "xaxis": "x17",
         "yaxis": "y17"
        },
        {
         "colorbar": {
          "title": {
           "text": "Objective Value"
          }
         },
         "colorscale": [
          [
           0,
           "rgb(5,10,172)"
          ],
          [
           0.35,
           "rgb(40,60,190)"
          ],
          [
           0.5,
           "rgb(70,100,245)"
          ],
          [
           0.6,
           "rgb(90,120,245)"
          ],
          [
           0.7,
           "rgb(106,137,247)"
          ],
          [
           1,
           "rgb(220,220,220)"
          ]
         ],
         "connectgaps": true,
         "contours": {
          "coloring": "heatmap"
         },
         "hoverinfo": "none",
         "line": {
          "smoothing": 1.3
         },
         "reversescale": true,
         "showscale": false,
         "type": "contour",
         "x": [
          0.04999999999999993,
          1,
          2,
          11,
          13,
          14,
          15,
          20,
          20.95
         ],
         "xaxis": "x24",
         "y": [
          11.95,
          16,
          31,
          34,
          79,
          80,
          88,
          90,
          92,
          95,
          97,
          101.05
         ],
         "yaxis": "y24",
         "z": [
          [
           null,
           null,
           null,
           null,
           null,
           null,
           null,
           null,
           null
          ],
          [
           null,
           null,
           null,
           null,
           null,
           null,
           0.7329162281678697,
           null,
           null
          ],
          [
           null,
           null,
           0.7906575120139706,
           null,
           null,
           null,
           null,
           null,
           null
          ],
          [
           null,
           null,
           null,
           null,
           null,
           null,
           null,
           0.738817257708709,
           null
          ],
          [
           null,
           null,
           null,
           0.760395401057648,
           null,
           null,
           null,
           null,
           null
          ],
          [
           null,
           null,
           null,
           null,
           0.7413939006072351,
           null,
           null,
           null,
           null
          ],
          [
           null,
           null,
           null,
           null,
           null,
           null,
           0.7432538731074472,
           null,
           null
          ],
          [
           null,
           null,
           0.8018789923699052,
           null,
           null,
           null,
           null,
           null,
           null
          ],
          [
           null,
           null,
           null,
           null,
           null,
           0.7207942901383018,
           null,
           null,
           null
          ],
          [
           null,
           null,
           null,
           0.7441534908376499,
           null,
           null,
           null,
           null,
           null
          ],
          [
           null,
           0.8218518136984446,
           null,
           null,
           null,
           null,
           null,
           null,
           null
          ],
          [
           null,
           null,
           null,
           null,
           null,
           null,
           null,
           null,
           null
          ]
         ]
        },
        {
         "marker": {
          "color": "black",
          "line": {
           "color": "Grey",
           "width": 0.5
          }
         },
         "mode": "markers",
         "showlegend": false,
         "type": "scatter",
         "x": [
          15,
          20,
          13,
          1,
          14,
          11,
          2,
          11,
          15,
          2
         ],
         "xaxis": "x24",
         "y": [
          88,
          34,
          80,
          97,
          92,
          95,
          31,
          79,
          16,
          90
         ],
         "yaxis": "y24"
        },
        {
         "colorbar": {
          "title": {
           "text": "Objective Value"
          }
         },
         "colorscale": [
          [
           0,
           "rgb(5,10,172)"
          ],
          [
           0.35,
           "rgb(40,60,190)"
          ],
          [
           0.5,
           "rgb(70,100,245)"
          ],
          [
           0.6,
           "rgb(90,120,245)"
          ],
          [
           0.7,
           "rgb(106,137,247)"
          ],
          [
           1,
           "rgb(220,220,220)"
          ]
         ],
         "connectgaps": true,
         "contours": {
          "coloring": "heatmap"
         },
         "hoverinfo": "none",
         "line": {
          "smoothing": 1.3
         },
         "reversescale": true,
         "showscale": false,
         "type": "contour",
         "x": [
          0.04999999999999993,
          1,
          2,
          11,
          13,
          14,
          15,
          20,
          20.95
         ],
         "xaxis": "x31",
         "y": [
          28.15,
          37,
          51,
          81,
          114,
          141,
          154,
          156,
          187,
          214,
          222.85
         ],
         "yaxis": "y31",
         "z": [
          [
           null,
           null,
           null,
           null,
           null,
           null,
           null,
           null,
           null
          ],
          [
           null,
           null,
           null,
           0.760395401057648,
           0.7413939006072351,
           null,
           null,
           null,
           null
          ],
          [
           null,
           null,
           0.7906575120139706,
           null,
           null,
           null,
           null,
           null,
           null
          ],
          [
           null,
           null,
           0.8018789923699052,
           null,
           null,
           null,
           null,
           null,
           null
          ],
          [
           null,
           null,
           null,
           null,
           null,
           0.7207942901383018,
           null,
           null,
           null
          ],
          [
           null,
           null,
           null,
           0.7441534908376499,
           null,
           null,
           null,
           null,
           null
          ],
          [
           null,
           null,
           null,
           null,
           null,
           null,
           0.7432538731074472,
           null,
           null
          ],
          [
           null,
           0.8218518136984446,
           null,
           null,
           null,
           null,
           null,
           null,
           null
          ],
          [
           null,
           null,
           null,
           null,
           null,
           null,
           0.7329162281678697,
           null,
           null
          ],
          [
           null,
           null,
           null,
           null,
           null,
           null,
           null,
           0.738817257708709,
           null
          ],
          [
           null,
           null,
           null,
           null,
           null,
           null,
           null,
           null,
           null
          ]
         ]
        },
        {
         "marker": {
          "color": "black",
          "line": {
           "color": "Grey",
           "width": 0.5
          }
         },
         "mode": "markers",
         "showlegend": false,
         "type": "scatter",
         "x": [
          15,
          20,
          13,
          1,
          14,
          11,
          2,
          11,
          15,
          2
         ],
         "xaxis": "x31",
         "y": [
          154,
          214,
          37,
          156,
          114,
          141,
          51,
          37,
          187,
          81
         ],
         "yaxis": "y31"
        },
        {
         "colorbar": {
          "title": {
           "text": "Objective Value"
          }
         },
         "colorscale": [
          [
           0,
           "rgb(5,10,172)"
          ],
          [
           0.35,
           "rgb(40,60,190)"
          ],
          [
           0.5,
           "rgb(70,100,245)"
          ],
          [
           0.6,
           "rgb(90,120,245)"
          ],
          [
           0.7,
           "rgb(106,137,247)"
          ],
          [
           1,
           "rgb(220,220,220)"
          ]
         ],
         "connectgaps": true,
         "contours": {
          "coloring": "heatmap"
         },
         "hoverinfo": "none",
         "line": {
          "smoothing": 1.3
         },
         "reversescale": true,
         "showscale": false,
         "type": "contour",
         "x": [
          0.04999999999999993,
          1,
          2,
          11,
          13,
          14,
          15,
          20,
          20.95
         ],
         "xaxis": "x38",
         "y": [
          0.31387745887242086,
          0.3455361150896956,
          0.35183125621386324,
          0.35218545057583955,
          0.40919616423534183,
          0.42727747704497043,
          0.527731231534285,
          0.5564532903055841,
          0.6466238370778892,
          0.8107243248366449,
          0.9787092394351908,
          1.0103678956524655
         ],
         "yaxis": "y38",
         "z": [
          [
           null,
           null,
           null,
           null,
           null,
           null,
           null,
           null,
           null
          ],
          [
           null,
           0.8218518136984446,
           null,
           null,
           null,
           null,
           null,
           null,
           null
          ],
          [
           null,
           null,
           null,
           null,
           null,
           null,
           0.7329162281678697,
           null,
           null
          ],
          [
           null,
           null,
           null,
           0.760395401057648,
           null,
           null,
           null,
           null,
           null
          ],
          [
           null,
           null,
           null,
           null,
           null,
           null,
           0.7432538731074472,
           null,
           null
          ],
          [
           null,
           null,
           null,
           null,
           null,
           null,
           null,
           0.738817257708709,
           null
          ],
          [
           null,
           null,
           0.7906575120139706,
           null,
           null,
           null,
           null,
           null,
           null
          ],
          [
           null,
           null,
           null,
           null,
           0.7413939006072351,
           null,
           null,
           null,
           null
          ],
          [
           null,
           null,
           null,
           null,
           null,
           0.7207942901383018,
           null,
           null,
           null
          ],
          [
           null,
           null,
           0.8018789923699052,
           null,
           null,
           null,
           null,
           null,
           null
          ],
          [
           null,
           null,
           null,
           0.7441534908376499,
           null,
           null,
           null,
           null,
           null
          ],
          [
           null,
           null,
           null,
           null,
           null,
           null,
           null,
           null,
           null
          ]
         ]
        },
        {
         "marker": {
          "color": "black",
          "line": {
           "color": "Grey",
           "width": 0.5
          }
         },
         "mode": "markers",
         "showlegend": false,
         "type": "scatter",
         "x": [
          15,
          20,
          13,
          1,
          14,
          11,
          2,
          11,
          15,
          2
         ],
         "xaxis": "x38",
         "y": [
          0.40919616423534183,
          0.42727747704497043,
          0.5564532903055841,
          0.3455361150896956,
          0.6466238370778892,
          0.9787092394351908,
          0.527731231534285,
          0.35218545057583955,
          0.35183125621386324,
          0.8107243248366449
         ],
         "yaxis": "y38"
        },
        {
         "colorbar": {
          "title": {
           "text": "Objective Value"
          }
         },
         "colorscale": [
          [
           0,
           "rgb(5,10,172)"
          ],
          [
           0.35,
           "rgb(40,60,190)"
          ],
          [
           0.5,
           "rgb(70,100,245)"
          ],
          [
           0.6,
           "rgb(90,120,245)"
          ],
          [
           0.7,
           "rgb(106,137,247)"
          ],
          [
           1,
           "rgb(220,220,220)"
          ]
         ],
         "connectgaps": true,
         "contours": {
          "coloring": "heatmap"
         },
         "hoverinfo": "none",
         "line": {
          "smoothing": 1.3
         },
         "reversescale": true,
         "showscale": false,
         "type": "contour",
         "x": [
          0.04999999999999993,
          1,
          2,
          11,
          13,
          14,
          15,
          20,
          20.95
         ],
         "xaxis": "x45",
         "y": [
          0.55,
          1,
          2,
          4,
          5,
          7,
          8,
          10,
          10.45
         ],
         "yaxis": "y45",
         "z": [
          [
           null,
           null,
           null,
           null,
           null,
           null,
           null,
           null,
           null
          ],
          [
           null,
           null,
           null,
           null,
           null,
           0.7207942901383018,
           0.7432538731074472,
           null,
           null
          ],
          [
           null,
           null,
           null,
           null,
           null,
           null,
           null,
           0.738817257708709,
           null
          ],
          [
           null,
           null,
           0.7906575120139706,
           null,
           null,
           null,
           0.7329162281678697,
           null,
           null
          ],
          [
           null,
           null,
           null,
           null,
           0.7413939006072351,
           null,
           null,
           null,
           null
          ],
          [
           null,
           null,
           0.8018789923699052,
           null,
           null,
           null,
           null,
           null,
           null
          ],
          [
           null,
           null,
           null,
           0.7441534908376499,
           null,
           null,
           null,
           null,
           null
          ],
          [
           null,
           0.8218518136984446,
           null,
           0.760395401057648,
           null,
           null,
           null,
           null,
           null
          ],
          [
           null,
           null,
           null,
           null,
           null,
           null,
           null,
           null,
           null
          ]
         ]
        },
        {
         "marker": {
          "color": "black",
          "line": {
           "color": "Grey",
           "width": 0.5
          }
         },
         "mode": "markers",
         "showlegend": false,
         "type": "scatter",
         "x": [
          15,
          20,
          13,
          1,
          14,
          11,
          2,
          11,
          15,
          2
         ],
         "xaxis": "x45",
         "y": [
          1,
          2,
          5,
          10,
          1,
          8,
          4,
          10,
          4,
          7
         ],
         "yaxis": "y45"
        },
        {
         "colorbar": {
          "title": {
           "text": "Objective Value"
          }
         },
         "colorscale": [
          [
           0,
           "rgb(5,10,172)"
          ],
          [
           0.35,
           "rgb(40,60,190)"
          ],
          [
           0.5,
           "rgb(70,100,245)"
          ],
          [
           0.6,
           "rgb(90,120,245)"
          ],
          [
           0.7,
           "rgb(106,137,247)"
          ],
          [
           1,
           "rgb(220,220,220)"
          ]
         ],
         "connectgaps": true,
         "contours": {
          "coloring": "heatmap"
         },
         "hoverinfo": "none",
         "line": {
          "smoothing": 1.3
         },
         "reversescale": true,
         "showscale": false,
         "type": "contour",
         "x": [
          11.95,
          16,
          31,
          34,
          79,
          80,
          88,
          90,
          92,
          95,
          97,
          101.05
         ],
         "xaxis": "x4",
         "y": [
          0.40442728259101784,
          0.4271363733463229,
          0.47322294090686734,
          0.4936111842654619,
          0.502314474212375,
          0.5109126733153162,
          0.5274034664069657,
          0.5752867891211308,
          0.5951099932160482,
          0.8627622080115674,
          0.8813181884524238,
          0.9040272792077289
         ],
         "yaxis": "y4",
         "z": [
          [
           null,
           null,
           null,
           null,
           null,
           null,
           null,
           null,
           null,
           null,
           null,
           null
          ],
          [
           null,
           null,
           0.7906575120139706,
           null,
           null,
           null,
           null,
           null,
           null,
           null,
           null,
           null
          ],
          [
           null,
           null,
           null,
           null,
           null,
           null,
           null,
           null,
           0.7207942901383018,
           null,
           null,
           null
          ],
          [
           null,
           null,
           null,
           null,
           null,
           null,
           0.7432538731074472,
           null,
           null,
           null,
           null,
           null
          ],
          [
           null,
           null,
           null,
           null,
           null,
           null,
           null,
           null,
           null,
           null,
           0.8218518136984446,
           null
          ],
          [
           null,
           null,
           null,
           null,
           null,
           null,
           null,
           null,
           null,
           0.7441534908376499,
           null,
           null
          ],
          [
           null,
           null,
           null,
           0.738817257708709,
           null,
           null,
           null,
           null,
           null,
           null,
           null,
           null
          ],
          [
           null,
           null,
           null,
           null,
           null,
           0.7413939006072351,
           null,
           null,
           null,
           null,
           null,
           null
          ],
          [
           null,
           null,
           null,
           null,
           null,
           null,
           null,
           0.8018789923699052,
           null,
           null,
           null,
           null
          ],
          [
           null,
           0.7329162281678697,
           null,
           null,
           null,
           null,
           null,
           null,
           null,
           null,
           null,
           null
          ],
          [
           null,
           null,
           null,
           null,
           0.760395401057648,
           null,
           null,
           null,
           null,
           null,
           null,
           null
          ],
          [
           null,
           null,
           null,
           null,
           null,
           null,
           null,
           null,
           null,
           null,
           null,
           null
          ]
         ]
        },
        {
         "marker": {
          "color": "black",
          "line": {
           "color": "Grey",
           "width": 0.5
          }
         },
         "mode": "markers",
         "showlegend": false,
         "type": "scatter",
         "x": [
          88,
          34,
          80,
          97,
          92,
          95,
          31,
          79,
          16,
          90
         ],
         "xaxis": "x4",
         "y": [
          0.4936111842654619,
          0.5274034664069657,
          0.5752867891211308,
          0.502314474212375,
          0.47322294090686734,
          0.5109126733153162,
          0.4271363733463229,
          0.8813181884524238,
          0.8627622080115674,
          0.5951099932160482
         ],
         "yaxis": "y4"
        },
        {
         "colorbar": {
          "title": {
           "text": "Objective Value"
          }
         },
         "colorscale": [
          [
           0,
           "rgb(5,10,172)"
          ],
          [
           0.35,
           "rgb(40,60,190)"
          ],
          [
           0.5,
           "rgb(70,100,245)"
          ],
          [
           0.6,
           "rgb(90,120,245)"
          ],
          [
           0.7,
           "rgb(106,137,247)"
          ],
          [
           1,
           "rgb(220,220,220)"
          ]
         ],
         "connectgaps": true,
         "contours": {
          "coloring": "heatmap"
         },
         "hoverinfo": "none",
         "line": {
          "smoothing": 1.3
         },
         "reversescale": true,
         "showscale": false,
         "type": "contour",
         "x": [
          11.95,
          16,
          31,
          34,
          79,
          80,
          88,
          90,
          92,
          95,
          97,
          101.05
         ],
         "xaxis": "x11",
         "y": [
          248.5,
          259,
          260,
          277,
          342,
          357,
          380,
          443,
          449,
          459,
          469,
          479.5
         ],
         "yaxis": "y11",
         "z": [
          [
           null,
           null,
           null,
           null,
           null,
           null,
           null,
           null,
           null,
           null,
           null,
           null
          ],
          [
           null,
           null,
           null,
           null,
           0.760395401057648,
           null,
           null,
           null,
           null,
           null,
           null,
           null
          ],
          [
           null,
           null,
           null,
           null,
           null,
           0.7413939006072351,
           null,
           null,
           null,
           null,
           null,
           null
          ],
          [
           null,
           null,
           null,
           null,
           null,
           null,
           null,
           null,
           0.7207942901383018,
           null,
           null,
           null
          ],
          [
           null,
           null,
           null,
           null,
           null,
           null,
           null,
           0.8018789923699052,
           null,
           null,
           null,
           null
          ],
          [
           null,
           null,
           null,
           0.738817257708709,
           null,
           null,
           null,
           null,
           null,
           null,
           null,
           null
          ],
          [
           null,
           null,
           null,
           null,
           null,
           null,
           0.7432538731074472,
           null,
           null,
           null,
           null,
           null
          ],
          [
           null,
           null,
           null,
           null,
           null,
           null,
           null,
           null,
           null,
           null,
           0.8218518136984446,
           null
          ],
          [
           null,
           null,
           0.7906575120139706,
           null,
           null,
           null,
           null,
           null,
           null,
           null,
           null,
           null
          ],
          [
           null,
           0.7329162281678697,
           null,
           null,
           null,
           null,
           null,
           null,
           null,
           null,
           null,
           null
          ],
          [
           null,
           null,
           null,
           null,
           null,
           null,
           null,
           null,
           null,
           0.7441534908376499,
           null,
           null
          ],
          [
           null,
           null,
           null,
           null,
           null,
           null,
           null,
           null,
           null,
           null,
           null,
           null
          ]
         ]
        },
        {
         "marker": {
          "color": "black",
          "line": {
           "color": "Grey",
           "width": 0.5
          }
         },
         "mode": "markers",
         "showlegend": false,
         "type": "scatter",
         "x": [
          88,
          34,
          80,
          97,
          92,
          95,
          31,
          79,
          16,
          90
         ],
         "xaxis": "x11",
         "y": [
          380,
          357,
          260,
          443,
          277,
          469,
          449,
          259,
          459,
          342
         ],
         "yaxis": "y11"
        },
        {
         "colorbar": {
          "title": {
           "text": "Objective Value"
          }
         },
         "colorscale": [
          [
           0,
           "rgb(5,10,172)"
          ],
          [
           0.35,
           "rgb(40,60,190)"
          ],
          [
           0.5,
           "rgb(70,100,245)"
          ],
          [
           0.6,
           "rgb(90,120,245)"
          ],
          [
           0.7,
           "rgb(106,137,247)"
          ],
          [
           1,
           "rgb(220,220,220)"
          ]
         ],
         "connectgaps": true,
         "contours": {
          "coloring": "heatmap"
         },
         "hoverinfo": "none",
         "line": {
          "smoothing": 1.3
         },
         "reversescale": true,
         "showscale": false,
         "type": "contour",
         "x": [
          11.95,
          16,
          31,
          34,
          79,
          80,
          88,
          90,
          92,
          95,
          97,
          101.05
         ],
         "xaxis": "x18",
         "y": [
          0.04999999999999993,
          1,
          2,
          11,
          13,
          14,
          15,
          20,
          20.95
         ],
         "yaxis": "y18",
         "z": [
          [
           null,
           null,
           null,
           null,
           null,
           null,
           null,
           null,
           null,
           null,
           null,
           null
          ],
          [
           null,
           null,
           null,
           null,
           null,
           null,
           null,
           null,
           null,
           null,
           0.8218518136984446,
           null
          ],
          [
           null,
           null,
           0.7906575120139706,
           null,
           null,
           null,
           null,
           0.8018789923699052,
           null,
           null,
           null,
           null
          ],
          [
           null,
           null,
           null,
           null,
           0.760395401057648,
           null,
           null,
           null,
           null,
           0.7441534908376499,
           null,
           null
          ],
          [
           null,
           null,
           null,
           null,
           null,
           0.7413939006072351,
           null,
           null,
           null,
           null,
           null,
           null
          ],
          [
           null,
           null,
           null,
           null,
           null,
           null,
           null,
           null,
           0.7207942901383018,
           null,
           null,
           null
          ],
          [
           null,
           0.7329162281678697,
           null,
           null,
           null,
           null,
           0.7432538731074472,
           null,
           null,
           null,
           null,
           null
          ],
          [
           null,
           null,
           null,
           0.738817257708709,
           null,
           null,
           null,
           null,
           null,
           null,
           null,
           null
          ],
          [
           null,
           null,
           null,
           null,
           null,
           null,
           null,
           null,
           null,
           null,
           null,
           null
          ]
         ]
        },
        {
         "marker": {
          "color": "black",
          "line": {
           "color": "Grey",
           "width": 0.5
          }
         },
         "mode": "markers",
         "showlegend": false,
         "type": "scatter",
         "x": [
          88,
          34,
          80,
          97,
          92,
          95,
          31,
          79,
          16,
          90
         ],
         "xaxis": "x18",
         "y": [
          15,
          20,
          13,
          1,
          14,
          11,
          2,
          11,
          15,
          2
         ],
         "yaxis": "y18"
        },
        {
         "type": "scatter",
         "xaxis": "x25",
         "yaxis": "y25"
        },
        {
         "colorbar": {
          "title": {
           "text": "Objective Value"
          }
         },
         "colorscale": [
          [
           0,
           "rgb(5,10,172)"
          ],
          [
           0.35,
           "rgb(40,60,190)"
          ],
          [
           0.5,
           "rgb(70,100,245)"
          ],
          [
           0.6,
           "rgb(90,120,245)"
          ],
          [
           0.7,
           "rgb(106,137,247)"
          ],
          [
           1,
           "rgb(220,220,220)"
          ]
         ],
         "connectgaps": true,
         "contours": {
          "coloring": "heatmap"
         },
         "hoverinfo": "none",
         "line": {
          "smoothing": 1.3
         },
         "reversescale": true,
         "showscale": false,
         "type": "contour",
         "x": [
          11.95,
          16,
          31,
          34,
          79,
          80,
          88,
          90,
          92,
          95,
          97,
          101.05
         ],
         "xaxis": "x32",
         "y": [
          28.15,
          37,
          51,
          81,
          114,
          141,
          154,
          156,
          187,
          214,
          222.85
         ],
         "yaxis": "y32",
         "z": [
          [
           null,
           null,
           null,
           null,
           null,
           null,
           null,
           null,
           null,
           null,
           null,
           null
          ],
          [
           null,
           null,
           null,
           null,
           0.760395401057648,
           0.7413939006072351,
           null,
           null,
           null,
           null,
           null,
           null
          ],
          [
           null,
           null,
           0.7906575120139706,
           null,
           null,
           null,
           null,
           null,
           null,
           null,
           null,
           null
          ],
          [
           null,
           null,
           null,
           null,
           null,
           null,
           null,
           0.8018789923699052,
           null,
           null,
           null,
           null
          ],
          [
           null,
           null,
           null,
           null,
           null,
           null,
           null,
           null,
           0.7207942901383018,
           null,
           null,
           null
          ],
          [
           null,
           null,
           null,
           null,
           null,
           null,
           null,
           null,
           null,
           0.7441534908376499,
           null,
           null
          ],
          [
           null,
           null,
           null,
           null,
           null,
           null,
           0.7432538731074472,
           null,
           null,
           null,
           null,
           null
          ],
          [
           null,
           null,
           null,
           null,
           null,
           null,
           null,
           null,
           null,
           null,
           0.8218518136984446,
           null
          ],
          [
           null,
           0.7329162281678697,
           null,
           null,
           null,
           null,
           null,
           null,
           null,
           null,
           null,
           null
          ],
          [
           null,
           null,
           null,
           0.738817257708709,
           null,
           null,
           null,
           null,
           null,
           null,
           null,
           null
          ],
          [
           null,
           null,
           null,
           null,
           null,
           null,
           null,
           null,
           null,
           null,
           null,
           null
          ]
         ]
        },
        {
         "marker": {
          "color": "black",
          "line": {
           "color": "Grey",
           "width": 0.5
          }
         },
         "mode": "markers",
         "showlegend": false,
         "type": "scatter",
         "x": [
          88,
          34,
          80,
          97,
          92,
          95,
          31,
          79,
          16,
          90
         ],
         "xaxis": "x32",
         "y": [
          154,
          214,
          37,
          156,
          114,
          141,
          51,
          37,
          187,
          81
         ],
         "yaxis": "y32"
        },
        {
         "colorbar": {
          "title": {
           "text": "Objective Value"
          }
         },
         "colorscale": [
          [
           0,
           "rgb(5,10,172)"
          ],
          [
           0.35,
           "rgb(40,60,190)"
          ],
          [
           0.5,
           "rgb(70,100,245)"
          ],
          [
           0.6,
           "rgb(90,120,245)"
          ],
          [
           0.7,
           "rgb(106,137,247)"
          ],
          [
           1,
           "rgb(220,220,220)"
          ]
         ],
         "connectgaps": true,
         "contours": {
          "coloring": "heatmap"
         },
         "hoverinfo": "none",
         "line": {
          "smoothing": 1.3
         },
         "reversescale": true,
         "showscale": false,
         "type": "contour",
         "x": [
          11.95,
          16,
          31,
          34,
          79,
          80,
          88,
          90,
          92,
          95,
          97,
          101.05
         ],
         "xaxis": "x39",
         "y": [
          0.31387745887242086,
          0.3455361150896956,
          0.35183125621386324,
          0.35218545057583955,
          0.40919616423534183,
          0.42727747704497043,
          0.527731231534285,
          0.5564532903055841,
          0.6466238370778892,
          0.8107243248366449,
          0.9787092394351908,
          1.0103678956524655
         ],
         "yaxis": "y39",
         "z": [
          [
           null,
           null,
           null,
           null,
           null,
           null,
           null,
           null,
           null,
           null,
           null,
           null
          ],
          [
           null,
           null,
           null,
           null,
           null,
           null,
           null,
           null,
           null,
           null,
           0.8218518136984446,
           null
          ],
          [
           null,
           0.7329162281678697,
           null,
           null,
           null,
           null,
           null,
           null,
           null,
           null,
           null,
           null
          ],
          [
           null,
           null,
           null,
           null,
           0.760395401057648,
           null,
           null,
           null,
           null,
           null,
           null,
           null
          ],
          [
           null,
           null,
           null,
           null,
           null,
           null,
           0.7432538731074472,
           null,
           null,
           null,
           null,
           null
          ],
          [
           null,
           null,
           null,
           0.738817257708709,
           null,
           null,
           null,
           null,
           null,
           null,
           null,
           null
          ],
          [
           null,
           null,
           0.7906575120139706,
           null,
           null,
           null,
           null,
           null,
           null,
           null,
           null,
           null
          ],
          [
           null,
           null,
           null,
           null,
           null,
           0.7413939006072351,
           null,
           null,
           null,
           null,
           null,
           null
          ],
          [
           null,
           null,
           null,
           null,
           null,
           null,
           null,
           null,
           0.7207942901383018,
           null,
           null,
           null
          ],
          [
           null,
           null,
           null,
           null,
           null,
           null,
           null,
           0.8018789923699052,
           null,
           null,
           null,
           null
          ],
          [
           null,
           null,
           null,
           null,
           null,
           null,
           null,
           null,
           null,
           0.7441534908376499,
           null,
           null
          ],
          [
           null,
           null,
           null,
           null,
           null,
           null,
           null,
           null,
           null,
           null,
           null,
           null
          ]
         ]
        },
        {
         "marker": {
          "color": "black",
          "line": {
           "color": "Grey",
           "width": 0.5
          }
         },
         "mode": "markers",
         "showlegend": false,
         "type": "scatter",
         "x": [
          88,
          34,
          80,
          97,
          92,
          95,
          31,
          79,
          16,
          90
         ],
         "xaxis": "x39",
         "y": [
          0.40919616423534183,
          0.42727747704497043,
          0.5564532903055841,
          0.3455361150896956,
          0.6466238370778892,
          0.9787092394351908,
          0.527731231534285,
          0.35218545057583955,
          0.35183125621386324,
          0.8107243248366449
         ],
         "yaxis": "y39"
        },
        {
         "colorbar": {
          "title": {
           "text": "Objective Value"
          }
         },
         "colorscale": [
          [
           0,
           "rgb(5,10,172)"
          ],
          [
           0.35,
           "rgb(40,60,190)"
          ],
          [
           0.5,
           "rgb(70,100,245)"
          ],
          [
           0.6,
           "rgb(90,120,245)"
          ],
          [
           0.7,
           "rgb(106,137,247)"
          ],
          [
           1,
           "rgb(220,220,220)"
          ]
         ],
         "connectgaps": true,
         "contours": {
          "coloring": "heatmap"
         },
         "hoverinfo": "none",
         "line": {
          "smoothing": 1.3
         },
         "reversescale": true,
         "showscale": false,
         "type": "contour",
         "x": [
          11.95,
          16,
          31,
          34,
          79,
          80,
          88,
          90,
          92,
          95,
          97,
          101.05
         ],
         "xaxis": "x46",
         "y": [
          0.55,
          1,
          2,
          4,
          5,
          7,
          8,
          10,
          10.45
         ],
         "yaxis": "y46",
         "z": [
          [
           null,
           null,
           null,
           null,
           null,
           null,
           null,
           null,
           null,
           null,
           null,
           null
          ],
          [
           null,
           null,
           null,
           null,
           null,
           null,
           0.7432538731074472,
           null,
           0.7207942901383018,
           null,
           null,
           null
          ],
          [
           null,
           null,
           null,
           0.738817257708709,
           null,
           null,
           null,
           null,
           null,
           null,
           null,
           null
          ],
          [
           null,
           0.7329162281678697,
           0.7906575120139706,
           null,
           null,
           null,
           null,
           null,
           null,
           null,
           null,
           null
          ],
          [
           null,
           null,
           null,
           null,
           null,
           0.7413939006072351,
           null,
           null,
           null,
           null,
           null,
           null
          ],
          [
           null,
           null,
           null,
           null,
           null,
           null,
           null,
           0.8018789923699052,
           null,
           null,
           null,
           null
          ],
          [
           null,
           null,
           null,
           null,
           null,
           null,
           null,
           null,
           null,
           0.7441534908376499,
           null,
           null
          ],
          [
           null,
           null,
           null,
           null,
           0.760395401057648,
           null,
           null,
           null,
           null,
           null,
           0.8218518136984446,
           null
          ],
          [
           null,
           null,
           null,
           null,
           null,
           null,
           null,
           null,
           null,
           null,
           null,
           null
          ]
         ]
        },
        {
         "marker": {
          "color": "black",
          "line": {
           "color": "Grey",
           "width": 0.5
          }
         },
         "mode": "markers",
         "showlegend": false,
         "type": "scatter",
         "x": [
          88,
          34,
          80,
          97,
          92,
          95,
          31,
          79,
          16,
          90
         ],
         "xaxis": "x46",
         "y": [
          1,
          2,
          5,
          10,
          1,
          8,
          4,
          10,
          4,
          7
         ],
         "yaxis": "y46"
        },
        {
         "colorbar": {
          "title": {
           "text": "Objective Value"
          }
         },
         "colorscale": [
          [
           0,
           "rgb(5,10,172)"
          ],
          [
           0.35,
           "rgb(40,60,190)"
          ],
          [
           0.5,
           "rgb(70,100,245)"
          ],
          [
           0.6,
           "rgb(90,120,245)"
          ],
          [
           0.7,
           "rgb(106,137,247)"
          ],
          [
           1,
           "rgb(220,220,220)"
          ]
         ],
         "connectgaps": true,
         "contours": {
          "coloring": "heatmap"
         },
         "hoverinfo": "none",
         "line": {
          "smoothing": 1.3
         },
         "reversescale": true,
         "showscale": false,
         "type": "contour",
         "x": [
          28.15,
          37,
          51,
          81,
          114,
          141,
          154,
          156,
          187,
          214,
          222.85
         ],
         "xaxis": "x5",
         "y": [
          0.40442728259101784,
          0.4271363733463229,
          0.47322294090686734,
          0.4936111842654619,
          0.502314474212375,
          0.5109126733153162,
          0.5274034664069657,
          0.5752867891211308,
          0.5951099932160482,
          0.8627622080115674,
          0.8813181884524238,
          0.9040272792077289
         ],
         "yaxis": "y5",
         "z": [
          [
           null,
           null,
           null,
           null,
           null,
           null,
           null,
           null,
           null,
           null,
           null
          ],
          [
           null,
           null,
           0.7906575120139706,
           null,
           null,
           null,
           null,
           null,
           null,
           null,
           null
          ],
          [
           null,
           null,
           null,
           null,
           0.7207942901383018,
           null,
           null,
           null,
           null,
           null,
           null
          ],
          [
           null,
           null,
           null,
           null,
           null,
           null,
           0.7432538731074472,
           null,
           null,
           null,
           null
          ],
          [
           null,
           null,
           null,
           null,
           null,
           null,
           null,
           0.8218518136984446,
           null,
           null,
           null
          ],
          [
           null,
           null,
           null,
           null,
           null,
           0.7441534908376499,
           null,
           null,
           null,
           null,
           null
          ],
          [
           null,
           null,
           null,
           null,
           null,
           null,
           null,
           null,
           null,
           0.738817257708709,
           null
          ],
          [
           null,
           0.7413939006072351,
           null,
           null,
           null,
           null,
           null,
           null,
           null,
           null,
           null
          ],
          [
           null,
           null,
           null,
           0.8018789923699052,
           null,
           null,
           null,
           null,
           null,
           null,
           null
          ],
          [
           null,
           null,
           null,
           null,
           null,
           null,
           null,
           null,
           0.7329162281678697,
           null,
           null
          ],
          [
           null,
           0.760395401057648,
           null,
           null,
           null,
           null,
           null,
           null,
           null,
           null,
           null
          ],
          [
           null,
           null,
           null,
           null,
           null,
           null,
           null,
           null,
           null,
           null,
           null
          ]
         ]
        },
        {
         "marker": {
          "color": "black",
          "line": {
           "color": "Grey",
           "width": 0.5
          }
         },
         "mode": "markers",
         "showlegend": false,
         "type": "scatter",
         "x": [
          154,
          214,
          37,
          156,
          114,
          141,
          51,
          37,
          187,
          81
         ],
         "xaxis": "x5",
         "y": [
          0.4936111842654619,
          0.5274034664069657,
          0.5752867891211308,
          0.502314474212375,
          0.47322294090686734,
          0.5109126733153162,
          0.4271363733463229,
          0.8813181884524238,
          0.8627622080115674,
          0.5951099932160482
         ],
         "yaxis": "y5"
        },
        {
         "colorbar": {
          "title": {
           "text": "Objective Value"
          }
         },
         "colorscale": [
          [
           0,
           "rgb(5,10,172)"
          ],
          [
           0.35,
           "rgb(40,60,190)"
          ],
          [
           0.5,
           "rgb(70,100,245)"
          ],
          [
           0.6,
           "rgb(90,120,245)"
          ],
          [
           0.7,
           "rgb(106,137,247)"
          ],
          [
           1,
           "rgb(220,220,220)"
          ]
         ],
         "connectgaps": true,
         "contours": {
          "coloring": "heatmap"
         },
         "hoverinfo": "none",
         "line": {
          "smoothing": 1.3
         },
         "reversescale": true,
         "showscale": false,
         "type": "contour",
         "x": [
          28.15,
          37,
          51,
          81,
          114,
          141,
          154,
          156,
          187,
          214,
          222.85
         ],
         "xaxis": "x12",
         "y": [
          248.5,
          259,
          260,
          277,
          342,
          357,
          380,
          443,
          449,
          459,
          469,
          479.5
         ],
         "yaxis": "y12",
         "z": [
          [
           null,
           null,
           null,
           null,
           null,
           null,
           null,
           null,
           null,
           null,
           null
          ],
          [
           null,
           0.760395401057648,
           null,
           null,
           null,
           null,
           null,
           null,
           null,
           null,
           null
          ],
          [
           null,
           0.7413939006072351,
           null,
           null,
           null,
           null,
           null,
           null,
           null,
           null,
           null
          ],
          [
           null,
           null,
           null,
           null,
           0.7207942901383018,
           null,
           null,
           null,
           null,
           null,
           null
          ],
          [
           null,
           null,
           null,
           0.8018789923699052,
           null,
           null,
           null,
           null,
           null,
           null,
           null
          ],
          [
           null,
           null,
           null,
           null,
           null,
           null,
           null,
           null,
           null,
           0.738817257708709,
           null
          ],
          [
           null,
           null,
           null,
           null,
           null,
           null,
           0.7432538731074472,
           null,
           null,
           null,
           null
          ],
          [
           null,
           null,
           null,
           null,
           null,
           null,
           null,
           0.8218518136984446,
           null,
           null,
           null
          ],
          [
           null,
           null,
           0.7906575120139706,
           null,
           null,
           null,
           null,
           null,
           null,
           null,
           null
          ],
          [
           null,
           null,
           null,
           null,
           null,
           null,
           null,
           null,
           0.7329162281678697,
           null,
           null
          ],
          [
           null,
           null,
           null,
           null,
           null,
           0.7441534908376499,
           null,
           null,
           null,
           null,
           null
          ],
          [
           null,
           null,
           null,
           null,
           null,
           null,
           null,
           null,
           null,
           null,
           null
          ]
         ]
        },
        {
         "marker": {
          "color": "black",
          "line": {
           "color": "Grey",
           "width": 0.5
          }
         },
         "mode": "markers",
         "showlegend": false,
         "type": "scatter",
         "x": [
          154,
          214,
          37,
          156,
          114,
          141,
          51,
          37,
          187,
          81
         ],
         "xaxis": "x12",
         "y": [
          380,
          357,
          260,
          443,
          277,
          469,
          449,
          259,
          459,
          342
         ],
         "yaxis": "y12"
        },
        {
         "colorbar": {
          "title": {
           "text": "Objective Value"
          }
         },
         "colorscale": [
          [
           0,
           "rgb(5,10,172)"
          ],
          [
           0.35,
           "rgb(40,60,190)"
          ],
          [
           0.5,
           "rgb(70,100,245)"
          ],
          [
           0.6,
           "rgb(90,120,245)"
          ],
          [
           0.7,
           "rgb(106,137,247)"
          ],
          [
           1,
           "rgb(220,220,220)"
          ]
         ],
         "connectgaps": true,
         "contours": {
          "coloring": "heatmap"
         },
         "hoverinfo": "none",
         "line": {
          "smoothing": 1.3
         },
         "reversescale": true,
         "showscale": false,
         "type": "contour",
         "x": [
          28.15,
          37,
          51,
          81,
          114,
          141,
          154,
          156,
          187,
          214,
          222.85
         ],
         "xaxis": "x19",
         "y": [
          0.04999999999999993,
          1,
          2,
          11,
          13,
          14,
          15,
          20,
          20.95
         ],
         "yaxis": "y19",
         "z": [
          [
           null,
           null,
           null,
           null,
           null,
           null,
           null,
           null,
           null,
           null,
           null
          ],
          [
           null,
           null,
           null,
           null,
           null,
           null,
           null,
           0.8218518136984446,
           null,
           null,
           null
          ],
          [
           null,
           null,
           0.7906575120139706,
           0.8018789923699052,
           null,
           null,
           null,
           null,
           null,
           null,
           null
          ],
          [
           null,
           0.760395401057648,
           null,
           null,
           null,
           0.7441534908376499,
           null,
           null,
           null,
           null,
           null
          ],
          [
           null,
           0.7413939006072351,
           null,
           null,
           null,
           null,
           null,
           null,
           null,
           null,
           null
          ],
          [
           null,
           null,
           null,
           null,
           0.7207942901383018,
           null,
           null,
           null,
           null,
           null,
           null
          ],
          [
           null,
           null,
           null,
           null,
           null,
           null,
           0.7432538731074472,
           null,
           0.7329162281678697,
           null,
           null
          ],
          [
           null,
           null,
           null,
           null,
           null,
           null,
           null,
           null,
           null,
           0.738817257708709,
           null
          ],
          [
           null,
           null,
           null,
           null,
           null,
           null,
           null,
           null,
           null,
           null,
           null
          ]
         ]
        },
        {
         "marker": {
          "color": "black",
          "line": {
           "color": "Grey",
           "width": 0.5
          }
         },
         "mode": "markers",
         "showlegend": false,
         "type": "scatter",
         "x": [
          154,
          214,
          37,
          156,
          114,
          141,
          51,
          37,
          187,
          81
         ],
         "xaxis": "x19",
         "y": [
          15,
          20,
          13,
          1,
          14,
          11,
          2,
          11,
          15,
          2
         ],
         "yaxis": "y19"
        },
        {
         "colorbar": {
          "title": {
           "text": "Objective Value"
          }
         },
         "colorscale": [
          [
           0,
           "rgb(5,10,172)"
          ],
          [
           0.35,
           "rgb(40,60,190)"
          ],
          [
           0.5,
           "rgb(70,100,245)"
          ],
          [
           0.6,
           "rgb(90,120,245)"
          ],
          [
           0.7,
           "rgb(106,137,247)"
          ],
          [
           1,
           "rgb(220,220,220)"
          ]
         ],
         "connectgaps": true,
         "contours": {
          "coloring": "heatmap"
         },
         "hoverinfo": "none",
         "line": {
          "smoothing": 1.3
         },
         "reversescale": true,
         "showscale": false,
         "type": "contour",
         "x": [
          28.15,
          37,
          51,
          81,
          114,
          141,
          154,
          156,
          187,
          214,
          222.85
         ],
         "xaxis": "x26",
         "y": [
          11.95,
          16,
          31,
          34,
          79,
          80,
          88,
          90,
          92,
          95,
          97,
          101.05
         ],
         "yaxis": "y26",
         "z": [
          [
           null,
           null,
           null,
           null,
           null,
           null,
           null,
           null,
           null,
           null,
           null
          ],
          [
           null,
           null,
           null,
           null,
           null,
           null,
           null,
           null,
           0.7329162281678697,
           null,
           null
          ],
          [
           null,
           null,
           0.7906575120139706,
           null,
           null,
           null,
           null,
           null,
           null,
           null,
           null
          ],
          [
           null,
           null,
           null,
           null,
           null,
           null,
           null,
           null,
           null,
           0.738817257708709,
           null
          ],
          [
           null,
           0.760395401057648,
           null,
           null,
           null,
           null,
           null,
           null,
           null,
           null,
           null
          ],
          [
           null,
           0.7413939006072351,
           null,
           null,
           null,
           null,
           null,
           null,
           null,
           null,
           null
          ],
          [
           null,
           null,
           null,
           null,
           null,
           null,
           0.7432538731074472,
           null,
           null,
           null,
           null
          ],
          [
           null,
           null,
           null,
           0.8018789923699052,
           null,
           null,
           null,
           null,
           null,
           null,
           null
          ],
          [
           null,
           null,
           null,
           null,
           0.7207942901383018,
           null,
           null,
           null,
           null,
           null,
           null
          ],
          [
           null,
           null,
           null,
           null,
           null,
           0.7441534908376499,
           null,
           null,
           null,
           null,
           null
          ],
          [
           null,
           null,
           null,
           null,
           null,
           null,
           null,
           0.8218518136984446,
           null,
           null,
           null
          ],
          [
           null,
           null,
           null,
           null,
           null,
           null,
           null,
           null,
           null,
           null,
           null
          ]
         ]
        },
        {
         "marker": {
          "color": "black",
          "line": {
           "color": "Grey",
           "width": 0.5
          }
         },
         "mode": "markers",
         "showlegend": false,
         "type": "scatter",
         "x": [
          154,
          214,
          37,
          156,
          114,
          141,
          51,
          37,
          187,
          81
         ],
         "xaxis": "x26",
         "y": [
          88,
          34,
          80,
          97,
          92,
          95,
          31,
          79,
          16,
          90
         ],
         "yaxis": "y26"
        },
        {
         "type": "scatter",
         "xaxis": "x33",
         "yaxis": "y33"
        },
        {
         "colorbar": {
          "title": {
           "text": "Objective Value"
          }
         },
         "colorscale": [
          [
           0,
           "rgb(5,10,172)"
          ],
          [
           0.35,
           "rgb(40,60,190)"
          ],
          [
           0.5,
           "rgb(70,100,245)"
          ],
          [
           0.6,
           "rgb(90,120,245)"
          ],
          [
           0.7,
           "rgb(106,137,247)"
          ],
          [
           1,
           "rgb(220,220,220)"
          ]
         ],
         "connectgaps": true,
         "contours": {
          "coloring": "heatmap"
         },
         "hoverinfo": "none",
         "line": {
          "smoothing": 1.3
         },
         "reversescale": true,
         "showscale": false,
         "type": "contour",
         "x": [
          28.15,
          37,
          51,
          81,
          114,
          141,
          154,
          156,
          187,
          214,
          222.85
         ],
         "xaxis": "x40",
         "y": [
          0.31387745887242086,
          0.3455361150896956,
          0.35183125621386324,
          0.35218545057583955,
          0.40919616423534183,
          0.42727747704497043,
          0.527731231534285,
          0.5564532903055841,
          0.6466238370778892,
          0.8107243248366449,
          0.9787092394351908,
          1.0103678956524655
         ],
         "yaxis": "y40",
         "z": [
          [
           null,
           null,
           null,
           null,
           null,
           null,
           null,
           null,
           null,
           null,
           null
          ],
          [
           null,
           null,
           null,
           null,
           null,
           null,
           null,
           0.8218518136984446,
           null,
           null,
           null
          ],
          [
           null,
           null,
           null,
           null,
           null,
           null,
           null,
           null,
           0.7329162281678697,
           null,
           null
          ],
          [
           null,
           0.760395401057648,
           null,
           null,
           null,
           null,
           null,
           null,
           null,
           null,
           null
          ],
          [
           null,
           null,
           null,
           null,
           null,
           null,
           0.7432538731074472,
           null,
           null,
           null,
           null
          ],
          [
           null,
           null,
           null,
           null,
           null,
           null,
           null,
           null,
           null,
           0.738817257708709,
           null
          ],
          [
           null,
           null,
           0.7906575120139706,
           null,
           null,
           null,
           null,
           null,
           null,
           null,
           null
          ],
          [
           null,
           0.7413939006072351,
           null,
           null,
           null,
           null,
           null,
           null,
           null,
           null,
           null
          ],
          [
           null,
           null,
           null,
           null,
           0.7207942901383018,
           null,
           null,
           null,
           null,
           null,
           null
          ],
          [
           null,
           null,
           null,
           0.8018789923699052,
           null,
           null,
           null,
           null,
           null,
           null,
           null
          ],
          [
           null,
           null,
           null,
           null,
           null,
           0.7441534908376499,
           null,
           null,
           null,
           null,
           null
          ],
          [
           null,
           null,
           null,
           null,
           null,
           null,
           null,
           null,
           null,
           null,
           null
          ]
         ]
        },
        {
         "marker": {
          "color": "black",
          "line": {
           "color": "Grey",
           "width": 0.5
          }
         },
         "mode": "markers",
         "showlegend": false,
         "type": "scatter",
         "x": [
          154,
          214,
          37,
          156,
          114,
          141,
          51,
          37,
          187,
          81
         ],
         "xaxis": "x40",
         "y": [
          0.40919616423534183,
          0.42727747704497043,
          0.5564532903055841,
          0.3455361150896956,
          0.6466238370778892,
          0.9787092394351908,
          0.527731231534285,
          0.35218545057583955,
          0.35183125621386324,
          0.8107243248366449
         ],
         "yaxis": "y40"
        },
        {
         "colorbar": {
          "title": {
           "text": "Objective Value"
          }
         },
         "colorscale": [
          [
           0,
           "rgb(5,10,172)"
          ],
          [
           0.35,
           "rgb(40,60,190)"
          ],
          [
           0.5,
           "rgb(70,100,245)"
          ],
          [
           0.6,
           "rgb(90,120,245)"
          ],
          [
           0.7,
           "rgb(106,137,247)"
          ],
          [
           1,
           "rgb(220,220,220)"
          ]
         ],
         "connectgaps": true,
         "contours": {
          "coloring": "heatmap"
         },
         "hoverinfo": "none",
         "line": {
          "smoothing": 1.3
         },
         "reversescale": true,
         "showscale": false,
         "type": "contour",
         "x": [
          28.15,
          37,
          51,
          81,
          114,
          141,
          154,
          156,
          187,
          214,
          222.85
         ],
         "xaxis": "x47",
         "y": [
          0.55,
          1,
          2,
          4,
          5,
          7,
          8,
          10,
          10.45
         ],
         "yaxis": "y47",
         "z": [
          [
           null,
           null,
           null,
           null,
           null,
           null,
           null,
           null,
           null,
           null,
           null
          ],
          [
           null,
           null,
           null,
           null,
           0.7207942901383018,
           null,
           0.7432538731074472,
           null,
           null,
           null,
           null
          ],
          [
           null,
           null,
           null,
           null,
           null,
           null,
           null,
           null,
           null,
           0.738817257708709,
           null
          ],
          [
           null,
           null,
           0.7906575120139706,
           null,
           null,
           null,
           null,
           null,
           0.7329162281678697,
           null,
           null
          ],
          [
           null,
           0.7413939006072351,
           null,
           null,
           null,
           null,
           null,
           null,
           null,
           null,
           null
          ],
          [
           null,
           null,
           null,
           0.8018789923699052,
           null,
           null,
           null,
           null,
           null,
           null,
           null
          ],
          [
           null,
           null,
           null,
           null,
           null,
           0.7441534908376499,
           null,
           null,
           null,
           null,
           null
          ],
          [
           null,
           0.760395401057648,
           null,
           null,
           null,
           null,
           null,
           0.8218518136984446,
           null,
           null,
           null
          ],
          [
           null,
           null,
           null,
           null,
           null,
           null,
           null,
           null,
           null,
           null,
           null
          ]
         ]
        },
        {
         "marker": {
          "color": "black",
          "line": {
           "color": "Grey",
           "width": 0.5
          }
         },
         "mode": "markers",
         "showlegend": false,
         "type": "scatter",
         "x": [
          154,
          214,
          37,
          156,
          114,
          141,
          51,
          37,
          187,
          81
         ],
         "xaxis": "x47",
         "y": [
          1,
          2,
          5,
          10,
          1,
          8,
          4,
          10,
          4,
          7
         ],
         "yaxis": "y47"
        },
        {
         "colorbar": {
          "title": {
           "text": "Objective Value"
          }
         },
         "colorscale": [
          [
           0,
           "rgb(5,10,172)"
          ],
          [
           0.35,
           "rgb(40,60,190)"
          ],
          [
           0.5,
           "rgb(70,100,245)"
          ],
          [
           0.6,
           "rgb(90,120,245)"
          ],
          [
           0.7,
           "rgb(106,137,247)"
          ],
          [
           1,
           "rgb(220,220,220)"
          ]
         ],
         "connectgaps": true,
         "contours": {
          "coloring": "heatmap"
         },
         "hoverinfo": "none",
         "line": {
          "smoothing": 1.3
         },
         "reversescale": true,
         "showscale": false,
         "type": "contour",
         "x": [
          0.31387745887242086,
          0.3455361150896956,
          0.35183125621386324,
          0.35218545057583955,
          0.40919616423534183,
          0.42727747704497043,
          0.527731231534285,
          0.5564532903055841,
          0.6466238370778892,
          0.8107243248366449,
          0.9787092394351908,
          1.0103678956524655
         ],
         "xaxis": "x6",
         "y": [
          0.40442728259101784,
          0.4271363733463229,
          0.47322294090686734,
          0.4936111842654619,
          0.502314474212375,
          0.5109126733153162,
          0.5274034664069657,
          0.5752867891211308,
          0.5951099932160482,
          0.8627622080115674,
          0.8813181884524238,
          0.9040272792077289
         ],
         "yaxis": "y6",
         "z": [
          [
           null,
           null,
           null,
           null,
           null,
           null,
           null,
           null,
           null,
           null,
           null,
           null
          ],
          [
           null,
           null,
           null,
           null,
           null,
           null,
           0.7906575120139706,
           null,
           null,
           null,
           null,
           null
          ],
          [
           null,
           null,
           null,
           null,
           null,
           null,
           null,
           null,
           0.7207942901383018,
           null,
           null,
           null
          ],
          [
           null,
           null,
           null,
           null,
           0.7432538731074472,
           null,
           null,
           null,
           null,
           null,
           null,
           null
          ],
          [
           null,
           0.8218518136984446,
           null,
           null,
           null,
           null,
           null,
           null,
           null,
           null,
           null,
           null
          ],
          [
           null,
           null,
           null,
           null,
           null,
           null,
           null,
           null,
           null,
           null,
           0.7441534908376499,
           null
          ],
          [
           null,
           null,
           null,
           null,
           null,
           0.738817257708709,
           null,
           null,
           null,
           null,
           null,
           null
          ],
          [
           null,
           null,
           null,
           null,
           null,
           null,
           null,
           0.7413939006072351,
           null,
           null,
           null,
           null
          ],
          [
           null,
           null,
           null,
           null,
           null,
           null,
           null,
           null,
           null,
           0.8018789923699052,
           null,
           null
          ],
          [
           null,
           null,
           0.7329162281678697,
           null,
           null,
           null,
           null,
           null,
           null,
           null,
           null,
           null
          ],
          [
           null,
           null,
           null,
           0.760395401057648,
           null,
           null,
           null,
           null,
           null,
           null,
           null,
           null
          ],
          [
           null,
           null,
           null,
           null,
           null,
           null,
           null,
           null,
           null,
           null,
           null,
           null
          ]
         ]
        },
        {
         "marker": {
          "color": "black",
          "line": {
           "color": "Grey",
           "width": 0.5
          }
         },
         "mode": "markers",
         "showlegend": false,
         "type": "scatter",
         "x": [
          0.40919616423534183,
          0.42727747704497043,
          0.5564532903055841,
          0.3455361150896956,
          0.6466238370778892,
          0.9787092394351908,
          0.527731231534285,
          0.35218545057583955,
          0.35183125621386324,
          0.8107243248366449
         ],
         "xaxis": "x6",
         "y": [
          0.4936111842654619,
          0.5274034664069657,
          0.5752867891211308,
          0.502314474212375,
          0.47322294090686734,
          0.5109126733153162,
          0.4271363733463229,
          0.8813181884524238,
          0.8627622080115674,
          0.5951099932160482
         ],
         "yaxis": "y6"
        },
        {
         "colorbar": {
          "title": {
           "text": "Objective Value"
          }
         },
         "colorscale": [
          [
           0,
           "rgb(5,10,172)"
          ],
          [
           0.35,
           "rgb(40,60,190)"
          ],
          [
           0.5,
           "rgb(70,100,245)"
          ],
          [
           0.6,
           "rgb(90,120,245)"
          ],
          [
           0.7,
           "rgb(106,137,247)"
          ],
          [
           1,
           "rgb(220,220,220)"
          ]
         ],
         "connectgaps": true,
         "contours": {
          "coloring": "heatmap"
         },
         "hoverinfo": "none",
         "line": {
          "smoothing": 1.3
         },
         "reversescale": true,
         "showscale": false,
         "type": "contour",
         "x": [
          0.31387745887242086,
          0.3455361150896956,
          0.35183125621386324,
          0.35218545057583955,
          0.40919616423534183,
          0.42727747704497043,
          0.527731231534285,
          0.5564532903055841,
          0.6466238370778892,
          0.8107243248366449,
          0.9787092394351908,
          1.0103678956524655
         ],
         "xaxis": "x13",
         "y": [
          248.5,
          259,
          260,
          277,
          342,
          357,
          380,
          443,
          449,
          459,
          469,
          479.5
         ],
         "yaxis": "y13",
         "z": [
          [
           null,
           null,
           null,
           null,
           null,
           null,
           null,
           null,
           null,
           null,
           null,
           null
          ],
          [
           null,
           null,
           null,
           0.760395401057648,
           null,
           null,
           null,
           null,
           null,
           null,
           null,
           null
          ],
          [
           null,
           null,
           null,
           null,
           null,
           null,
           null,
           0.7413939006072351,
           null,
           null,
           null,
           null
          ],
          [
           null,
           null,
           null,
           null,
           null,
           null,
           null,
           null,
           0.7207942901383018,
           null,
           null,
           null
          ],
          [
           null,
           null,
           null,
           null,
           null,
           null,
           null,
           null,
           null,
           0.8018789923699052,
           null,
           null
          ],
          [
           null,
           null,
           null,
           null,
           null,
           0.738817257708709,
           null,
           null,
           null,
           null,
           null,
           null
          ],
          [
           null,
           null,
           null,
           null,
           0.7432538731074472,
           null,
           null,
           null,
           null,
           null,
           null,
           null
          ],
          [
           null,
           0.8218518136984446,
           null,
           null,
           null,
           null,
           null,
           null,
           null,
           null,
           null,
           null
          ],
          [
           null,
           null,
           null,
           null,
           null,
           null,
           0.7906575120139706,
           null,
           null,
           null,
           null,
           null
          ],
          [
           null,
           null,
           0.7329162281678697,
           null,
           null,
           null,
           null,
           null,
           null,
           null,
           null,
           null
          ],
          [
           null,
           null,
           null,
           null,
           null,
           null,
           null,
           null,
           null,
           null,
           0.7441534908376499,
           null
          ],
          [
           null,
           null,
           null,
           null,
           null,
           null,
           null,
           null,
           null,
           null,
           null,
           null
          ]
         ]
        },
        {
         "marker": {
          "color": "black",
          "line": {
           "color": "Grey",
           "width": 0.5
          }
         },
         "mode": "markers",
         "showlegend": false,
         "type": "scatter",
         "x": [
          0.40919616423534183,
          0.42727747704497043,
          0.5564532903055841,
          0.3455361150896956,
          0.6466238370778892,
          0.9787092394351908,
          0.527731231534285,
          0.35218545057583955,
          0.35183125621386324,
          0.8107243248366449
         ],
         "xaxis": "x13",
         "y": [
          380,
          357,
          260,
          443,
          277,
          469,
          449,
          259,
          459,
          342
         ],
         "yaxis": "y13"
        },
        {
         "colorbar": {
          "title": {
           "text": "Objective Value"
          }
         },
         "colorscale": [
          [
           0,
           "rgb(5,10,172)"
          ],
          [
           0.35,
           "rgb(40,60,190)"
          ],
          [
           0.5,
           "rgb(70,100,245)"
          ],
          [
           0.6,
           "rgb(90,120,245)"
          ],
          [
           0.7,
           "rgb(106,137,247)"
          ],
          [
           1,
           "rgb(220,220,220)"
          ]
         ],
         "connectgaps": true,
         "contours": {
          "coloring": "heatmap"
         },
         "hoverinfo": "none",
         "line": {
          "smoothing": 1.3
         },
         "reversescale": true,
         "showscale": false,
         "type": "contour",
         "x": [
          0.31387745887242086,
          0.3455361150896956,
          0.35183125621386324,
          0.35218545057583955,
          0.40919616423534183,
          0.42727747704497043,
          0.527731231534285,
          0.5564532903055841,
          0.6466238370778892,
          0.8107243248366449,
          0.9787092394351908,
          1.0103678956524655
         ],
         "xaxis": "x20",
         "y": [
          0.04999999999999993,
          1,
          2,
          11,
          13,
          14,
          15,
          20,
          20.95
         ],
         "yaxis": "y20",
         "z": [
          [
           null,
           null,
           null,
           null,
           null,
           null,
           null,
           null,
           null,
           null,
           null,
           null
          ],
          [
           null,
           0.8218518136984446,
           null,
           null,
           null,
           null,
           null,
           null,
           null,
           null,
           null,
           null
          ],
          [
           null,
           null,
           null,
           null,
           null,
           null,
           0.7906575120139706,
           null,
           null,
           0.8018789923699052,
           null,
           null
          ],
          [
           null,
           null,
           null,
           0.760395401057648,
           null,
           null,
           null,
           null,
           null,
           null,
           0.7441534908376499,
           null
          ],
          [
           null,
           null,
           null,
           null,
           null,
           null,
           null,
           0.7413939006072351,
           null,
           null,
           null,
           null
          ],
          [
           null,
           null,
           null,
           null,
           null,
           null,
           null,
           null,
           0.7207942901383018,
           null,
           null,
           null
          ],
          [
           null,
           null,
           0.7329162281678697,
           null,
           0.7432538731074472,
           null,
           null,
           null,
           null,
           null,
           null,
           null
          ],
          [
           null,
           null,
           null,
           null,
           null,
           0.738817257708709,
           null,
           null,
           null,
           null,
           null,
           null
          ],
          [
           null,
           null,
           null,
           null,
           null,
           null,
           null,
           null,
           null,
           null,
           null,
           null
          ]
         ]
        },
        {
         "marker": {
          "color": "black",
          "line": {
           "color": "Grey",
           "width": 0.5
          }
         },
         "mode": "markers",
         "showlegend": false,
         "type": "scatter",
         "x": [
          0.40919616423534183,
          0.42727747704497043,
          0.5564532903055841,
          0.3455361150896956,
          0.6466238370778892,
          0.9787092394351908,
          0.527731231534285,
          0.35218545057583955,
          0.35183125621386324,
          0.8107243248366449
         ],
         "xaxis": "x20",
         "y": [
          15,
          20,
          13,
          1,
          14,
          11,
          2,
          11,
          15,
          2
         ],
         "yaxis": "y20"
        },
        {
         "colorbar": {
          "title": {
           "text": "Objective Value"
          }
         },
         "colorscale": [
          [
           0,
           "rgb(5,10,172)"
          ],
          [
           0.35,
           "rgb(40,60,190)"
          ],
          [
           0.5,
           "rgb(70,100,245)"
          ],
          [
           0.6,
           "rgb(90,120,245)"
          ],
          [
           0.7,
           "rgb(106,137,247)"
          ],
          [
           1,
           "rgb(220,220,220)"
          ]
         ],
         "connectgaps": true,
         "contours": {
          "coloring": "heatmap"
         },
         "hoverinfo": "none",
         "line": {
          "smoothing": 1.3
         },
         "reversescale": true,
         "showscale": false,
         "type": "contour",
         "x": [
          0.31387745887242086,
          0.3455361150896956,
          0.35183125621386324,
          0.35218545057583955,
          0.40919616423534183,
          0.42727747704497043,
          0.527731231534285,
          0.5564532903055841,
          0.6466238370778892,
          0.8107243248366449,
          0.9787092394351908,
          1.0103678956524655
         ],
         "xaxis": "x27",
         "y": [
          11.95,
          16,
          31,
          34,
          79,
          80,
          88,
          90,
          92,
          95,
          97,
          101.05
         ],
         "yaxis": "y27",
         "z": [
          [
           null,
           null,
           null,
           null,
           null,
           null,
           null,
           null,
           null,
           null,
           null,
           null
          ],
          [
           null,
           null,
           0.7329162281678697,
           null,
           null,
           null,
           null,
           null,
           null,
           null,
           null,
           null
          ],
          [
           null,
           null,
           null,
           null,
           null,
           null,
           0.7906575120139706,
           null,
           null,
           null,
           null,
           null
          ],
          [
           null,
           null,
           null,
           null,
           null,
           0.738817257708709,
           null,
           null,
           null,
           null,
           null,
           null
          ],
          [
           null,
           null,
           null,
           0.760395401057648,
           null,
           null,
           null,
           null,
           null,
           null,
           null,
           null
          ],
          [
           null,
           null,
           null,
           null,
           null,
           null,
           null,
           0.7413939006072351,
           null,
           null,
           null,
           null
          ],
          [
           null,
           null,
           null,
           null,
           0.7432538731074472,
           null,
           null,
           null,
           null,
           null,
           null,
           null
          ],
          [
           null,
           null,
           null,
           null,
           null,
           null,
           null,
           null,
           null,
           0.8018789923699052,
           null,
           null
          ],
          [
           null,
           null,
           null,
           null,
           null,
           null,
           null,
           null,
           0.7207942901383018,
           null,
           null,
           null
          ],
          [
           null,
           null,
           null,
           null,
           null,
           null,
           null,
           null,
           null,
           null,
           0.7441534908376499,
           null
          ],
          [
           null,
           0.8218518136984446,
           null,
           null,
           null,
           null,
           null,
           null,
           null,
           null,
           null,
           null
          ],
          [
           null,
           null,
           null,
           null,
           null,
           null,
           null,
           null,
           null,
           null,
           null,
           null
          ]
         ]
        },
        {
         "marker": {
          "color": "black",
          "line": {
           "color": "Grey",
           "width": 0.5
          }
         },
         "mode": "markers",
         "showlegend": false,
         "type": "scatter",
         "x": [
          0.40919616423534183,
          0.42727747704497043,
          0.5564532903055841,
          0.3455361150896956,
          0.6466238370778892,
          0.9787092394351908,
          0.527731231534285,
          0.35218545057583955,
          0.35183125621386324,
          0.8107243248366449
         ],
         "xaxis": "x27",
         "y": [
          88,
          34,
          80,
          97,
          92,
          95,
          31,
          79,
          16,
          90
         ],
         "yaxis": "y27"
        },
        {
         "colorbar": {
          "title": {
           "text": "Objective Value"
          }
         },
         "colorscale": [
          [
           0,
           "rgb(5,10,172)"
          ],
          [
           0.35,
           "rgb(40,60,190)"
          ],
          [
           0.5,
           "rgb(70,100,245)"
          ],
          [
           0.6,
           "rgb(90,120,245)"
          ],
          [
           0.7,
           "rgb(106,137,247)"
          ],
          [
           1,
           "rgb(220,220,220)"
          ]
         ],
         "connectgaps": true,
         "contours": {
          "coloring": "heatmap"
         },
         "hoverinfo": "none",
         "line": {
          "smoothing": 1.3
         },
         "reversescale": true,
         "showscale": false,
         "type": "contour",
         "x": [
          0.31387745887242086,
          0.3455361150896956,
          0.35183125621386324,
          0.35218545057583955,
          0.40919616423534183,
          0.42727747704497043,
          0.527731231534285,
          0.5564532903055841,
          0.6466238370778892,
          0.8107243248366449,
          0.9787092394351908,
          1.0103678956524655
         ],
         "xaxis": "x34",
         "y": [
          28.15,
          37,
          51,
          81,
          114,
          141,
          154,
          156,
          187,
          214,
          222.85
         ],
         "yaxis": "y34",
         "z": [
          [
           null,
           null,
           null,
           null,
           null,
           null,
           null,
           null,
           null,
           null,
           null,
           null
          ],
          [
           null,
           null,
           null,
           0.760395401057648,
           null,
           null,
           null,
           0.7413939006072351,
           null,
           null,
           null,
           null
          ],
          [
           null,
           null,
           null,
           null,
           null,
           null,
           0.7906575120139706,
           null,
           null,
           null,
           null,
           null
          ],
          [
           null,
           null,
           null,
           null,
           null,
           null,
           null,
           null,
           null,
           0.8018789923699052,
           null,
           null
          ],
          [
           null,
           null,
           null,
           null,
           null,
           null,
           null,
           null,
           0.7207942901383018,
           null,
           null,
           null
          ],
          [
           null,
           null,
           null,
           null,
           null,
           null,
           null,
           null,
           null,
           null,
           0.7441534908376499,
           null
          ],
          [
           null,
           null,
           null,
           null,
           0.7432538731074472,
           null,
           null,
           null,
           null,
           null,
           null,
           null
          ],
          [
           null,
           0.8218518136984446,
           null,
           null,
           null,
           null,
           null,
           null,
           null,
           null,
           null,
           null
          ],
          [
           null,
           null,
           0.7329162281678697,
           null,
           null,
           null,
           null,
           null,
           null,
           null,
           null,
           null
          ],
          [
           null,
           null,
           null,
           null,
           null,
           0.738817257708709,
           null,
           null,
           null,
           null,
           null,
           null
          ],
          [
           null,
           null,
           null,
           null,
           null,
           null,
           null,
           null,
           null,
           null,
           null,
           null
          ]
         ]
        },
        {
         "marker": {
          "color": "black",
          "line": {
           "color": "Grey",
           "width": 0.5
          }
         },
         "mode": "markers",
         "showlegend": false,
         "type": "scatter",
         "x": [
          0.40919616423534183,
          0.42727747704497043,
          0.5564532903055841,
          0.3455361150896956,
          0.6466238370778892,
          0.9787092394351908,
          0.527731231534285,
          0.35218545057583955,
          0.35183125621386324,
          0.8107243248366449
         ],
         "xaxis": "x34",
         "y": [
          154,
          214,
          37,
          156,
          114,
          141,
          51,
          37,
          187,
          81
         ],
         "yaxis": "y34"
        },
        {
         "type": "scatter",
         "xaxis": "x41",
         "yaxis": "y41"
        },
        {
         "colorbar": {
          "title": {
           "text": "Objective Value"
          }
         },
         "colorscale": [
          [
           0,
           "rgb(5,10,172)"
          ],
          [
           0.35,
           "rgb(40,60,190)"
          ],
          [
           0.5,
           "rgb(70,100,245)"
          ],
          [
           0.6,
           "rgb(90,120,245)"
          ],
          [
           0.7,
           "rgb(106,137,247)"
          ],
          [
           1,
           "rgb(220,220,220)"
          ]
         ],
         "connectgaps": true,
         "contours": {
          "coloring": "heatmap"
         },
         "hoverinfo": "none",
         "line": {
          "smoothing": 1.3
         },
         "reversescale": true,
         "showscale": false,
         "type": "contour",
         "x": [
          0.31387745887242086,
          0.3455361150896956,
          0.35183125621386324,
          0.35218545057583955,
          0.40919616423534183,
          0.42727747704497043,
          0.527731231534285,
          0.5564532903055841,
          0.6466238370778892,
          0.8107243248366449,
          0.9787092394351908,
          1.0103678956524655
         ],
         "xaxis": "x48",
         "y": [
          0.55,
          1,
          2,
          4,
          5,
          7,
          8,
          10,
          10.45
         ],
         "yaxis": "y48",
         "z": [
          [
           null,
           null,
           null,
           null,
           null,
           null,
           null,
           null,
           null,
           null,
           null,
           null
          ],
          [
           null,
           null,
           null,
           null,
           0.7432538731074472,
           null,
           null,
           null,
           0.7207942901383018,
           null,
           null,
           null
          ],
          [
           null,
           null,
           null,
           null,
           null,
           0.738817257708709,
           null,
           null,
           null,
           null,
           null,
           null
          ],
          [
           null,
           null,
           0.7329162281678697,
           null,
           null,
           null,
           0.7906575120139706,
           null,
           null,
           null,
           null,
           null
          ],
          [
           null,
           null,
           null,
           null,
           null,
           null,
           null,
           0.7413939006072351,
           null,
           null,
           null,
           null
          ],
          [
           null,
           null,
           null,
           null,
           null,
           null,
           null,
           null,
           null,
           0.8018789923699052,
           null,
           null
          ],
          [
           null,
           null,
           null,
           null,
           null,
           null,
           null,
           null,
           null,
           null,
           0.7441534908376499,
           null
          ],
          [
           null,
           0.8218518136984446,
           null,
           0.760395401057648,
           null,
           null,
           null,
           null,
           null,
           null,
           null,
           null
          ],
          [
           null,
           null,
           null,
           null,
           null,
           null,
           null,
           null,
           null,
           null,
           null,
           null
          ]
         ]
        },
        {
         "marker": {
          "color": "black",
          "line": {
           "color": "Grey",
           "width": 0.5
          }
         },
         "mode": "markers",
         "showlegend": false,
         "type": "scatter",
         "x": [
          0.40919616423534183,
          0.42727747704497043,
          0.5564532903055841,
          0.3455361150896956,
          0.6466238370778892,
          0.9787092394351908,
          0.527731231534285,
          0.35218545057583955,
          0.35183125621386324,
          0.8107243248366449
         ],
         "xaxis": "x48",
         "y": [
          1,
          2,
          5,
          10,
          1,
          8,
          4,
          10,
          4,
          7
         ],
         "yaxis": "y48"
        },
        {
         "colorbar": {
          "title": {
           "text": "Objective Value"
          }
         },
         "colorscale": [
          [
           0,
           "rgb(5,10,172)"
          ],
          [
           0.35,
           "rgb(40,60,190)"
          ],
          [
           0.5,
           "rgb(70,100,245)"
          ],
          [
           0.6,
           "rgb(90,120,245)"
          ],
          [
           0.7,
           "rgb(106,137,247)"
          ],
          [
           1,
           "rgb(220,220,220)"
          ]
         ],
         "connectgaps": true,
         "contours": {
          "coloring": "heatmap"
         },
         "hoverinfo": "none",
         "line": {
          "smoothing": 1.3
         },
         "reversescale": true,
         "showscale": false,
         "type": "contour",
         "x": [
          0.55,
          1,
          2,
          4,
          5,
          7,
          8,
          10,
          10.45
         ],
         "xaxis": "x7",
         "y": [
          0.40442728259101784,
          0.4271363733463229,
          0.47322294090686734,
          0.4936111842654619,
          0.502314474212375,
          0.5109126733153162,
          0.5274034664069657,
          0.5752867891211308,
          0.5951099932160482,
          0.8627622080115674,
          0.8813181884524238,
          0.9040272792077289
         ],
         "yaxis": "y7",
         "z": [
          [
           null,
           null,
           null,
           null,
           null,
           null,
           null,
           null,
           null
          ],
          [
           null,
           null,
           null,
           0.7906575120139706,
           null,
           null,
           null,
           null,
           null
          ],
          [
           null,
           0.7207942901383018,
           null,
           null,
           null,
           null,
           null,
           null,
           null
          ],
          [
           null,
           0.7432538731074472,
           null,
           null,
           null,
           null,
           null,
           null,
           null
          ],
          [
           null,
           null,
           null,
           null,
           null,
           null,
           null,
           0.8218518136984446,
           null
          ],
          [
           null,
           null,
           null,
           null,
           null,
           null,
           0.7441534908376499,
           null,
           null
          ],
          [
           null,
           null,
           0.738817257708709,
           null,
           null,
           null,
           null,
           null,
           null
          ],
          [
           null,
           null,
           null,
           null,
           0.7413939006072351,
           null,
           null,
           null,
           null
          ],
          [
           null,
           null,
           null,
           null,
           null,
           0.8018789923699052,
           null,
           null,
           null
          ],
          [
           null,
           null,
           null,
           0.7329162281678697,
           null,
           null,
           null,
           null,
           null
          ],
          [
           null,
           null,
           null,
           null,
           null,
           null,
           null,
           0.760395401057648,
           null
          ],
          [
           null,
           null,
           null,
           null,
           null,
           null,
           null,
           null,
           null
          ]
         ]
        },
        {
         "marker": {
          "color": "black",
          "line": {
           "color": "Grey",
           "width": 0.5
          }
         },
         "mode": "markers",
         "showlegend": false,
         "type": "scatter",
         "x": [
          1,
          2,
          5,
          10,
          1,
          8,
          4,
          10,
          4,
          7
         ],
         "xaxis": "x7",
         "y": [
          0.4936111842654619,
          0.5274034664069657,
          0.5752867891211308,
          0.502314474212375,
          0.47322294090686734,
          0.5109126733153162,
          0.4271363733463229,
          0.8813181884524238,
          0.8627622080115674,
          0.5951099932160482
         ],
         "yaxis": "y7"
        },
        {
         "colorbar": {
          "title": {
           "text": "Objective Value"
          }
         },
         "colorscale": [
          [
           0,
           "rgb(5,10,172)"
          ],
          [
           0.35,
           "rgb(40,60,190)"
          ],
          [
           0.5,
           "rgb(70,100,245)"
          ],
          [
           0.6,
           "rgb(90,120,245)"
          ],
          [
           0.7,
           "rgb(106,137,247)"
          ],
          [
           1,
           "rgb(220,220,220)"
          ]
         ],
         "connectgaps": true,
         "contours": {
          "coloring": "heatmap"
         },
         "hoverinfo": "none",
         "line": {
          "smoothing": 1.3
         },
         "reversescale": true,
         "showscale": false,
         "type": "contour",
         "x": [
          0.55,
          1,
          2,
          4,
          5,
          7,
          8,
          10,
          10.45
         ],
         "xaxis": "x14",
         "y": [
          248.5,
          259,
          260,
          277,
          342,
          357,
          380,
          443,
          449,
          459,
          469,
          479.5
         ],
         "yaxis": "y14",
         "z": [
          [
           null,
           null,
           null,
           null,
           null,
           null,
           null,
           null,
           null
          ],
          [
           null,
           null,
           null,
           null,
           null,
           null,
           null,
           0.760395401057648,
           null
          ],
          [
           null,
           null,
           null,
           null,
           0.7413939006072351,
           null,
           null,
           null,
           null
          ],
          [
           null,
           0.7207942901383018,
           null,
           null,
           null,
           null,
           null,
           null,
           null
          ],
          [
           null,
           null,
           null,
           null,
           null,
           0.8018789923699052,
           null,
           null,
           null
          ],
          [
           null,
           null,
           0.738817257708709,
           null,
           null,
           null,
           null,
           null,
           null
          ],
          [
           null,
           0.7432538731074472,
           null,
           null,
           null,
           null,
           null,
           null,
           null
          ],
          [
           null,
           null,
           null,
           null,
           null,
           null,
           null,
           0.8218518136984446,
           null
          ],
          [
           null,
           null,
           null,
           0.7906575120139706,
           null,
           null,
           null,
           null,
           null
          ],
          [
           null,
           null,
           null,
           0.7329162281678697,
           null,
           null,
           null,
           null,
           null
          ],
          [
           null,
           null,
           null,
           null,
           null,
           null,
           0.7441534908376499,
           null,
           null
          ],
          [
           null,
           null,
           null,
           null,
           null,
           null,
           null,
           null,
           null
          ]
         ]
        },
        {
         "marker": {
          "color": "black",
          "line": {
           "color": "Grey",
           "width": 0.5
          }
         },
         "mode": "markers",
         "showlegend": false,
         "type": "scatter",
         "x": [
          1,
          2,
          5,
          10,
          1,
          8,
          4,
          10,
          4,
          7
         ],
         "xaxis": "x14",
         "y": [
          380,
          357,
          260,
          443,
          277,
          469,
          449,
          259,
          459,
          342
         ],
         "yaxis": "y14"
        },
        {
         "colorbar": {
          "title": {
           "text": "Objective Value"
          }
         },
         "colorscale": [
          [
           0,
           "rgb(5,10,172)"
          ],
          [
           0.35,
           "rgb(40,60,190)"
          ],
          [
           0.5,
           "rgb(70,100,245)"
          ],
          [
           0.6,
           "rgb(90,120,245)"
          ],
          [
           0.7,
           "rgb(106,137,247)"
          ],
          [
           1,
           "rgb(220,220,220)"
          ]
         ],
         "connectgaps": true,
         "contours": {
          "coloring": "heatmap"
         },
         "hoverinfo": "none",
         "line": {
          "smoothing": 1.3
         },
         "reversescale": true,
         "showscale": false,
         "type": "contour",
         "x": [
          0.55,
          1,
          2,
          4,
          5,
          7,
          8,
          10,
          10.45
         ],
         "xaxis": "x21",
         "y": [
          0.04999999999999993,
          1,
          2,
          11,
          13,
          14,
          15,
          20,
          20.95
         ],
         "yaxis": "y21",
         "z": [
          [
           null,
           null,
           null,
           null,
           null,
           null,
           null,
           null,
           null
          ],
          [
           null,
           null,
           null,
           null,
           null,
           null,
           null,
           0.8218518136984446,
           null
          ],
          [
           null,
           null,
           null,
           0.7906575120139706,
           null,
           0.8018789923699052,
           null,
           null,
           null
          ],
          [
           null,
           null,
           null,
           null,
           null,
           null,
           0.7441534908376499,
           0.760395401057648,
           null
          ],
          [
           null,
           null,
           null,
           null,
           0.7413939006072351,
           null,
           null,
           null,
           null
          ],
          [
           null,
           0.7207942901383018,
           null,
           null,
           null,
           null,
           null,
           null,
           null
          ],
          [
           null,
           0.7432538731074472,
           null,
           0.7329162281678697,
           null,
           null,
           null,
           null,
           null
          ],
          [
           null,
           null,
           0.738817257708709,
           null,
           null,
           null,
           null,
           null,
           null
          ],
          [
           null,
           null,
           null,
           null,
           null,
           null,
           null,
           null,
           null
          ]
         ]
        },
        {
         "marker": {
          "color": "black",
          "line": {
           "color": "Grey",
           "width": 0.5
          }
         },
         "mode": "markers",
         "showlegend": false,
         "type": "scatter",
         "x": [
          1,
          2,
          5,
          10,
          1,
          8,
          4,
          10,
          4,
          7
         ],
         "xaxis": "x21",
         "y": [
          15,
          20,
          13,
          1,
          14,
          11,
          2,
          11,
          15,
          2
         ],
         "yaxis": "y21"
        },
        {
         "colorbar": {
          "title": {
           "text": "Objective Value"
          }
         },
         "colorscale": [
          [
           0,
           "rgb(5,10,172)"
          ],
          [
           0.35,
           "rgb(40,60,190)"
          ],
          [
           0.5,
           "rgb(70,100,245)"
          ],
          [
           0.6,
           "rgb(90,120,245)"
          ],
          [
           0.7,
           "rgb(106,137,247)"
          ],
          [
           1,
           "rgb(220,220,220)"
          ]
         ],
         "connectgaps": true,
         "contours": {
          "coloring": "heatmap"
         },
         "hoverinfo": "none",
         "line": {
          "smoothing": 1.3
         },
         "reversescale": true,
         "showscale": false,
         "type": "contour",
         "x": [
          0.55,
          1,
          2,
          4,
          5,
          7,
          8,
          10,
          10.45
         ],
         "xaxis": "x28",
         "y": [
          11.95,
          16,
          31,
          34,
          79,
          80,
          88,
          90,
          92,
          95,
          97,
          101.05
         ],
         "yaxis": "y28",
         "z": [
          [
           null,
           null,
           null,
           null,
           null,
           null,
           null,
           null,
           null
          ],
          [
           null,
           null,
           null,
           0.7329162281678697,
           null,
           null,
           null,
           null,
           null
          ],
          [
           null,
           null,
           null,
           0.7906575120139706,
           null,
           null,
           null,
           null,
           null
          ],
          [
           null,
           null,
           0.738817257708709,
           null,
           null,
           null,
           null,
           null,
           null
          ],
          [
           null,
           null,
           null,
           null,
           null,
           null,
           null,
           0.760395401057648,
           null
          ],
          [
           null,
           null,
           null,
           null,
           0.7413939006072351,
           null,
           null,
           null,
           null
          ],
          [
           null,
           0.7432538731074472,
           null,
           null,
           null,
           null,
           null,
           null,
           null
          ],
          [
           null,
           null,
           null,
           null,
           null,
           0.8018789923699052,
           null,
           null,
           null
          ],
          [
           null,
           0.7207942901383018,
           null,
           null,
           null,
           null,
           null,
           null,
           null
          ],
          [
           null,
           null,
           null,
           null,
           null,
           null,
           0.7441534908376499,
           null,
           null
          ],
          [
           null,
           null,
           null,
           null,
           null,
           null,
           null,
           0.8218518136984446,
           null
          ],
          [
           null,
           null,
           null,
           null,
           null,
           null,
           null,
           null,
           null
          ]
         ]
        },
        {
         "marker": {
          "color": "black",
          "line": {
           "color": "Grey",
           "width": 0.5
          }
         },
         "mode": "markers",
         "showlegend": false,
         "type": "scatter",
         "x": [
          1,
          2,
          5,
          10,
          1,
          8,
          4,
          10,
          4,
          7
         ],
         "xaxis": "x28",
         "y": [
          88,
          34,
          80,
          97,
          92,
          95,
          31,
          79,
          16,
          90
         ],
         "yaxis": "y28"
        },
        {
         "colorbar": {
          "title": {
           "text": "Objective Value"
          }
         },
         "colorscale": [
          [
           0,
           "rgb(5,10,172)"
          ],
          [
           0.35,
           "rgb(40,60,190)"
          ],
          [
           0.5,
           "rgb(70,100,245)"
          ],
          [
           0.6,
           "rgb(90,120,245)"
          ],
          [
           0.7,
           "rgb(106,137,247)"
          ],
          [
           1,
           "rgb(220,220,220)"
          ]
         ],
         "connectgaps": true,
         "contours": {
          "coloring": "heatmap"
         },
         "hoverinfo": "none",
         "line": {
          "smoothing": 1.3
         },
         "reversescale": true,
         "showscale": false,
         "type": "contour",
         "x": [
          0.55,
          1,
          2,
          4,
          5,
          7,
          8,
          10,
          10.45
         ],
         "xaxis": "x35",
         "y": [
          28.15,
          37,
          51,
          81,
          114,
          141,
          154,
          156,
          187,
          214,
          222.85
         ],
         "yaxis": "y35",
         "z": [
          [
           null,
           null,
           null,
           null,
           null,
           null,
           null,
           null,
           null
          ],
          [
           null,
           null,
           null,
           null,
           0.7413939006072351,
           null,
           null,
           0.760395401057648,
           null
          ],
          [
           null,
           null,
           null,
           0.7906575120139706,
           null,
           null,
           null,
           null,
           null
          ],
          [
           null,
           null,
           null,
           null,
           null,
           0.8018789923699052,
           null,
           null,
           null
          ],
          [
           null,
           0.7207942901383018,
           null,
           null,
           null,
           null,
           null,
           null,
           null
          ],
          [
           null,
           null,
           null,
           null,
           null,
           null,
           0.7441534908376499,
           null,
           null
          ],
          [
           null,
           0.7432538731074472,
           null,
           null,
           null,
           null,
           null,
           null,
           null
          ],
          [
           null,
           null,
           null,
           null,
           null,
           null,
           null,
           0.8218518136984446,
           null
          ],
          [
           null,
           null,
           null,
           0.7329162281678697,
           null,
           null,
           null,
           null,
           null
          ],
          [
           null,
           null,
           0.738817257708709,
           null,
           null,
           null,
           null,
           null,
           null
          ],
          [
           null,
           null,
           null,
           null,
           null,
           null,
           null,
           null,
           null
          ]
         ]
        },
        {
         "marker": {
          "color": "black",
          "line": {
           "color": "Grey",
           "width": 0.5
          }
         },
         "mode": "markers",
         "showlegend": false,
         "type": "scatter",
         "x": [
          1,
          2,
          5,
          10,
          1,
          8,
          4,
          10,
          4,
          7
         ],
         "xaxis": "x35",
         "y": [
          154,
          214,
          37,
          156,
          114,
          141,
          51,
          37,
          187,
          81
         ],
         "yaxis": "y35"
        },
        {
         "colorbar": {
          "title": {
           "text": "Objective Value"
          }
         },
         "colorscale": [
          [
           0,
           "rgb(5,10,172)"
          ],
          [
           0.35,
           "rgb(40,60,190)"
          ],
          [
           0.5,
           "rgb(70,100,245)"
          ],
          [
           0.6,
           "rgb(90,120,245)"
          ],
          [
           0.7,
           "rgb(106,137,247)"
          ],
          [
           1,
           "rgb(220,220,220)"
          ]
         ],
         "connectgaps": true,
         "contours": {
          "coloring": "heatmap"
         },
         "hoverinfo": "none",
         "line": {
          "smoothing": 1.3
         },
         "reversescale": true,
         "showscale": false,
         "type": "contour",
         "x": [
          0.55,
          1,
          2,
          4,
          5,
          7,
          8,
          10,
          10.45
         ],
         "xaxis": "x42",
         "y": [
          0.31387745887242086,
          0.3455361150896956,
          0.35183125621386324,
          0.35218545057583955,
          0.40919616423534183,
          0.42727747704497043,
          0.527731231534285,
          0.5564532903055841,
          0.6466238370778892,
          0.8107243248366449,
          0.9787092394351908,
          1.0103678956524655
         ],
         "yaxis": "y42",
         "z": [
          [
           null,
           null,
           null,
           null,
           null,
           null,
           null,
           null,
           null
          ],
          [
           null,
           null,
           null,
           null,
           null,
           null,
           null,
           0.8218518136984446,
           null
          ],
          [
           null,
           null,
           null,
           0.7329162281678697,
           null,
           null,
           null,
           null,
           null
          ],
          [
           null,
           null,
           null,
           null,
           null,
           null,
           null,
           0.760395401057648,
           null
          ],
          [
           null,
           0.7432538731074472,
           null,
           null,
           null,
           null,
           null,
           null,
           null
          ],
          [
           null,
           null,
           0.738817257708709,
           null,
           null,
           null,
           null,
           null,
           null
          ],
          [
           null,
           null,
           null,
           0.7906575120139706,
           null,
           null,
           null,
           null,
           null
          ],
          [
           null,
           null,
           null,
           null,
           0.7413939006072351,
           null,
           null,
           null,
           null
          ],
          [
           null,
           0.7207942901383018,
           null,
           null,
           null,
           null,
           null,
           null,
           null
          ],
          [
           null,
           null,
           null,
           null,
           null,
           0.8018789923699052,
           null,
           null,
           null
          ],
          [
           null,
           null,
           null,
           null,
           null,
           null,
           0.7441534908376499,
           null,
           null
          ],
          [
           null,
           null,
           null,
           null,
           null,
           null,
           null,
           null,
           null
          ]
         ]
        },
        {
         "marker": {
          "color": "black",
          "line": {
           "color": "Grey",
           "width": 0.5
          }
         },
         "mode": "markers",
         "showlegend": false,
         "type": "scatter",
         "x": [
          1,
          2,
          5,
          10,
          1,
          8,
          4,
          10,
          4,
          7
         ],
         "xaxis": "x42",
         "y": [
          0.40919616423534183,
          0.42727747704497043,
          0.5564532903055841,
          0.3455361150896956,
          0.6466238370778892,
          0.9787092394351908,
          0.527731231534285,
          0.35218545057583955,
          0.35183125621386324,
          0.8107243248366449
         ],
         "yaxis": "y42"
        },
        {
         "type": "scatter",
         "xaxis": "x49",
         "yaxis": "y49"
        }
       ],
       "layout": {
        "template": {
         "data": {
          "bar": [
           {
            "error_x": {
             "color": "#2a3f5f"
            },
            "error_y": {
             "color": "#2a3f5f"
            },
            "marker": {
             "line": {
              "color": "#E5ECF6",
              "width": 0.5
             },
             "pattern": {
              "fillmode": "overlay",
              "size": 10,
              "solidity": 0.2
             }
            },
            "type": "bar"
           }
          ],
          "barpolar": [
           {
            "marker": {
             "line": {
              "color": "#E5ECF6",
              "width": 0.5
             },
             "pattern": {
              "fillmode": "overlay",
              "size": 10,
              "solidity": 0.2
             }
            },
            "type": "barpolar"
           }
          ],
          "carpet": [
           {
            "aaxis": {
             "endlinecolor": "#2a3f5f",
             "gridcolor": "white",
             "linecolor": "white",
             "minorgridcolor": "white",
             "startlinecolor": "#2a3f5f"
            },
            "baxis": {
             "endlinecolor": "#2a3f5f",
             "gridcolor": "white",
             "linecolor": "white",
             "minorgridcolor": "white",
             "startlinecolor": "#2a3f5f"
            },
            "type": "carpet"
           }
          ],
          "choropleth": [
           {
            "colorbar": {
             "outlinewidth": 0,
             "ticks": ""
            },
            "type": "choropleth"
           }
          ],
          "contour": [
           {
            "colorbar": {
             "outlinewidth": 0,
             "ticks": ""
            },
            "colorscale": [
             [
              0,
              "#0d0887"
             ],
             [
              0.1111111111111111,
              "#46039f"
             ],
             [
              0.2222222222222222,
              "#7201a8"
             ],
             [
              0.3333333333333333,
              "#9c179e"
             ],
             [
              0.4444444444444444,
              "#bd3786"
             ],
             [
              0.5555555555555556,
              "#d8576b"
             ],
             [
              0.6666666666666666,
              "#ed7953"
             ],
             [
              0.7777777777777778,
              "#fb9f3a"
             ],
             [
              0.8888888888888888,
              "#fdca26"
             ],
             [
              1,
              "#f0f921"
             ]
            ],
            "type": "contour"
           }
          ],
          "contourcarpet": [
           {
            "colorbar": {
             "outlinewidth": 0,
             "ticks": ""
            },
            "type": "contourcarpet"
           }
          ],
          "heatmap": [
           {
            "colorbar": {
             "outlinewidth": 0,
             "ticks": ""
            },
            "colorscale": [
             [
              0,
              "#0d0887"
             ],
             [
              0.1111111111111111,
              "#46039f"
             ],
             [
              0.2222222222222222,
              "#7201a8"
             ],
             [
              0.3333333333333333,
              "#9c179e"
             ],
             [
              0.4444444444444444,
              "#bd3786"
             ],
             [
              0.5555555555555556,
              "#d8576b"
             ],
             [
              0.6666666666666666,
              "#ed7953"
             ],
             [
              0.7777777777777778,
              "#fb9f3a"
             ],
             [
              0.8888888888888888,
              "#fdca26"
             ],
             [
              1,
              "#f0f921"
             ]
            ],
            "type": "heatmap"
           }
          ],
          "heatmapgl": [
           {
            "colorbar": {
             "outlinewidth": 0,
             "ticks": ""
            },
            "colorscale": [
             [
              0,
              "#0d0887"
             ],
             [
              0.1111111111111111,
              "#46039f"
             ],
             [
              0.2222222222222222,
              "#7201a8"
             ],
             [
              0.3333333333333333,
              "#9c179e"
             ],
             [
              0.4444444444444444,
              "#bd3786"
             ],
             [
              0.5555555555555556,
              "#d8576b"
             ],
             [
              0.6666666666666666,
              "#ed7953"
             ],
             [
              0.7777777777777778,
              "#fb9f3a"
             ],
             [
              0.8888888888888888,
              "#fdca26"
             ],
             [
              1,
              "#f0f921"
             ]
            ],
            "type": "heatmapgl"
           }
          ],
          "histogram": [
           {
            "marker": {
             "pattern": {
              "fillmode": "overlay",
              "size": 10,
              "solidity": 0.2
             }
            },
            "type": "histogram"
           }
          ],
          "histogram2d": [
           {
            "colorbar": {
             "outlinewidth": 0,
             "ticks": ""
            },
            "colorscale": [
             [
              0,
              "#0d0887"
             ],
             [
              0.1111111111111111,
              "#46039f"
             ],
             [
              0.2222222222222222,
              "#7201a8"
             ],
             [
              0.3333333333333333,
              "#9c179e"
             ],
             [
              0.4444444444444444,
              "#bd3786"
             ],
             [
              0.5555555555555556,
              "#d8576b"
             ],
             [
              0.6666666666666666,
              "#ed7953"
             ],
             [
              0.7777777777777778,
              "#fb9f3a"
             ],
             [
              0.8888888888888888,
              "#fdca26"
             ],
             [
              1,
              "#f0f921"
             ]
            ],
            "type": "histogram2d"
           }
          ],
          "histogram2dcontour": [
           {
            "colorbar": {
             "outlinewidth": 0,
             "ticks": ""
            },
            "colorscale": [
             [
              0,
              "#0d0887"
             ],
             [
              0.1111111111111111,
              "#46039f"
             ],
             [
              0.2222222222222222,
              "#7201a8"
             ],
             [
              0.3333333333333333,
              "#9c179e"
             ],
             [
              0.4444444444444444,
              "#bd3786"
             ],
             [
              0.5555555555555556,
              "#d8576b"
             ],
             [
              0.6666666666666666,
              "#ed7953"
             ],
             [
              0.7777777777777778,
              "#fb9f3a"
             ],
             [
              0.8888888888888888,
              "#fdca26"
             ],
             [
              1,
              "#f0f921"
             ]
            ],
            "type": "histogram2dcontour"
           }
          ],
          "mesh3d": [
           {
            "colorbar": {
             "outlinewidth": 0,
             "ticks": ""
            },
            "type": "mesh3d"
           }
          ],
          "parcoords": [
           {
            "line": {
             "colorbar": {
              "outlinewidth": 0,
              "ticks": ""
             }
            },
            "type": "parcoords"
           }
          ],
          "pie": [
           {
            "automargin": true,
            "type": "pie"
           }
          ],
          "scatter": [
           {
            "marker": {
             "colorbar": {
              "outlinewidth": 0,
              "ticks": ""
             }
            },
            "type": "scatter"
           }
          ],
          "scatter3d": [
           {
            "line": {
             "colorbar": {
              "outlinewidth": 0,
              "ticks": ""
             }
            },
            "marker": {
             "colorbar": {
              "outlinewidth": 0,
              "ticks": ""
             }
            },
            "type": "scatter3d"
           }
          ],
          "scattercarpet": [
           {
            "marker": {
             "colorbar": {
              "outlinewidth": 0,
              "ticks": ""
             }
            },
            "type": "scattercarpet"
           }
          ],
          "scattergeo": [
           {
            "marker": {
             "colorbar": {
              "outlinewidth": 0,
              "ticks": ""
             }
            },
            "type": "scattergeo"
           }
          ],
          "scattergl": [
           {
            "marker": {
             "colorbar": {
              "outlinewidth": 0,
              "ticks": ""
             }
            },
            "type": "scattergl"
           }
          ],
          "scattermapbox": [
           {
            "marker": {
             "colorbar": {
              "outlinewidth": 0,
              "ticks": ""
             }
            },
            "type": "scattermapbox"
           }
          ],
          "scatterpolar": [
           {
            "marker": {
             "colorbar": {
              "outlinewidth": 0,
              "ticks": ""
             }
            },
            "type": "scatterpolar"
           }
          ],
          "scatterpolargl": [
           {
            "marker": {
             "colorbar": {
              "outlinewidth": 0,
              "ticks": ""
             }
            },
            "type": "scatterpolargl"
           }
          ],
          "scatterternary": [
           {
            "marker": {
             "colorbar": {
              "outlinewidth": 0,
              "ticks": ""
             }
            },
            "type": "scatterternary"
           }
          ],
          "surface": [
           {
            "colorbar": {
             "outlinewidth": 0,
             "ticks": ""
            },
            "colorscale": [
             [
              0,
              "#0d0887"
             ],
             [
              0.1111111111111111,
              "#46039f"
             ],
             [
              0.2222222222222222,
              "#7201a8"
             ],
             [
              0.3333333333333333,
              "#9c179e"
             ],
             [
              0.4444444444444444,
              "#bd3786"
             ],
             [
              0.5555555555555556,
              "#d8576b"
             ],
             [
              0.6666666666666666,
              "#ed7953"
             ],
             [
              0.7777777777777778,
              "#fb9f3a"
             ],
             [
              0.8888888888888888,
              "#fdca26"
             ],
             [
              1,
              "#f0f921"
             ]
            ],
            "type": "surface"
           }
          ],
          "table": [
           {
            "cells": {
             "fill": {
              "color": "#EBF0F8"
             },
             "line": {
              "color": "white"
             }
            },
            "header": {
             "fill": {
              "color": "#C8D4E3"
             },
             "line": {
              "color": "white"
             }
            },
            "type": "table"
           }
          ]
         },
         "layout": {
          "annotationdefaults": {
           "arrowcolor": "#2a3f5f",
           "arrowhead": 0,
           "arrowwidth": 1
          },
          "autotypenumbers": "strict",
          "coloraxis": {
           "colorbar": {
            "outlinewidth": 0,
            "ticks": ""
           }
          },
          "colorscale": {
           "diverging": [
            [
             0,
             "#8e0152"
            ],
            [
             0.1,
             "#c51b7d"
            ],
            [
             0.2,
             "#de77ae"
            ],
            [
             0.3,
             "#f1b6da"
            ],
            [
             0.4,
             "#fde0ef"
            ],
            [
             0.5,
             "#f7f7f7"
            ],
            [
             0.6,
             "#e6f5d0"
            ],
            [
             0.7,
             "#b8e186"
            ],
            [
             0.8,
             "#7fbc41"
            ],
            [
             0.9,
             "#4d9221"
            ],
            [
             1,
             "#276419"
            ]
           ],
           "sequential": [
            [
             0,
             "#0d0887"
            ],
            [
             0.1111111111111111,
             "#46039f"
            ],
            [
             0.2222222222222222,
             "#7201a8"
            ],
            [
             0.3333333333333333,
             "#9c179e"
            ],
            [
             0.4444444444444444,
             "#bd3786"
            ],
            [
             0.5555555555555556,
             "#d8576b"
            ],
            [
             0.6666666666666666,
             "#ed7953"
            ],
            [
             0.7777777777777778,
             "#fb9f3a"
            ],
            [
             0.8888888888888888,
             "#fdca26"
            ],
            [
             1,
             "#f0f921"
            ]
           ],
           "sequentialminus": [
            [
             0,
             "#0d0887"
            ],
            [
             0.1111111111111111,
             "#46039f"
            ],
            [
             0.2222222222222222,
             "#7201a8"
            ],
            [
             0.3333333333333333,
             "#9c179e"
            ],
            [
             0.4444444444444444,
             "#bd3786"
            ],
            [
             0.5555555555555556,
             "#d8576b"
            ],
            [
             0.6666666666666666,
             "#ed7953"
            ],
            [
             0.7777777777777778,
             "#fb9f3a"
            ],
            [
             0.8888888888888888,
             "#fdca26"
            ],
            [
             1,
             "#f0f921"
            ]
           ]
          },
          "colorway": [
           "#636efa",
           "#EF553B",
           "#00cc96",
           "#ab63fa",
           "#FFA15A",
           "#19d3f3",
           "#FF6692",
           "#B6E880",
           "#FF97FF",
           "#FECB52"
          ],
          "font": {
           "color": "#2a3f5f"
          },
          "geo": {
           "bgcolor": "white",
           "lakecolor": "white",
           "landcolor": "#E5ECF6",
           "showlakes": true,
           "showland": true,
           "subunitcolor": "white"
          },
          "hoverlabel": {
           "align": "left"
          },
          "hovermode": "closest",
          "mapbox": {
           "style": "light"
          },
          "paper_bgcolor": "white",
          "plot_bgcolor": "#E5ECF6",
          "polar": {
           "angularaxis": {
            "gridcolor": "white",
            "linecolor": "white",
            "ticks": ""
           },
           "bgcolor": "#E5ECF6",
           "radialaxis": {
            "gridcolor": "white",
            "linecolor": "white",
            "ticks": ""
           }
          },
          "scene": {
           "xaxis": {
            "backgroundcolor": "#E5ECF6",
            "gridcolor": "white",
            "gridwidth": 2,
            "linecolor": "white",
            "showbackground": true,
            "ticks": "",
            "zerolinecolor": "white"
           },
           "yaxis": {
            "backgroundcolor": "#E5ECF6",
            "gridcolor": "white",
            "gridwidth": 2,
            "linecolor": "white",
            "showbackground": true,
            "ticks": "",
            "zerolinecolor": "white"
           },
           "zaxis": {
            "backgroundcolor": "#E5ECF6",
            "gridcolor": "white",
            "gridwidth": 2,
            "linecolor": "white",
            "showbackground": true,
            "ticks": "",
            "zerolinecolor": "white"
           }
          },
          "shapedefaults": {
           "line": {
            "color": "#2a3f5f"
           }
          },
          "ternary": {
           "aaxis": {
            "gridcolor": "white",
            "linecolor": "white",
            "ticks": ""
           },
           "baxis": {
            "gridcolor": "white",
            "linecolor": "white",
            "ticks": ""
           },
           "bgcolor": "#E5ECF6",
           "caxis": {
            "gridcolor": "white",
            "linecolor": "white",
            "ticks": ""
           }
          },
          "title": {
           "x": 0.05
          },
          "xaxis": {
           "automargin": true,
           "gridcolor": "white",
           "linecolor": "white",
           "ticks": "",
           "title": {
            "standoff": 15
           },
           "zerolinecolor": "white",
           "zerolinewidth": 2
          },
          "yaxis": {
           "automargin": true,
           "gridcolor": "white",
           "linecolor": "white",
           "ticks": "",
           "title": {
            "standoff": 15
           },
           "zerolinecolor": "white",
           "zerolinewidth": 2
          }
         }
        },
        "title": {
         "text": "Contour Plot"
        },
        "xaxis": {
         "anchor": "y",
         "domain": [
          0,
          0.1183673469387755
         ],
         "matches": "x43",
         "range": [
          0.40442728259101784,
          0.9040272792077289
         ],
         "showticklabels": false
        },
        "xaxis10": {
         "anchor": "y10",
         "domain": [
          0.29387755102040813,
          0.4122448979591836
         ],
         "matches": "x45",
         "range": [
          0.04999999999999993,
          20.95
         ],
         "showticklabels": false
        },
        "xaxis11": {
         "anchor": "y11",
         "domain": [
          0.4408163265306122,
          0.5591836734693877
         ],
         "matches": "x46",
         "range": [
          11.95,
          101.05
         ],
         "showticklabels": false
        },
        "xaxis12": {
         "anchor": "y12",
         "domain": [
          0.5877551020408163,
          0.7061224489795918
         ],
         "matches": "x47",
         "range": [
          28.15,
          222.85
         ],
         "showticklabels": false
        },
        "xaxis13": {
         "anchor": "y13",
         "domain": [
          0.7346938775510204,
          0.8530612244897959
         ],
         "matches": "x48",
         "range": [
          0.31387745887242086,
          1.0103678956524655
         ],
         "showticklabels": false
        },
        "xaxis14": {
         "anchor": "y14",
         "domain": [
          0.8816326530612244,
          0.9999999999999999
         ],
         "matches": "x49",
         "range": [
          0.55,
          10.45
         ],
         "showticklabels": false
        },
        "xaxis15": {
         "anchor": "y15",
         "domain": [
          0,
          0.1183673469387755
         ],
         "matches": "x43",
         "range": [
          0.40442728259101784,
          0.9040272792077289
         ],
         "showticklabels": false
        },
        "xaxis16": {
         "anchor": "y16",
         "domain": [
          0.14693877551020407,
          0.26530612244897955
         ],
         "matches": "x44",
         "range": [
          248.5,
          479.5
         ],
         "showticklabels": false
        },
        "xaxis17": {
         "anchor": "y17",
         "domain": [
          0.29387755102040813,
          0.4122448979591836
         ],
         "matches": "x45",
         "range": [
          0.04999999999999993,
          20.95
         ],
         "showticklabels": false
        },
        "xaxis18": {
         "anchor": "y18",
         "domain": [
          0.4408163265306122,
          0.5591836734693877
         ],
         "matches": "x46",
         "range": [
          11.95,
          101.05
         ],
         "showticklabels": false
        },
        "xaxis19": {
         "anchor": "y19",
         "domain": [
          0.5877551020408163,
          0.7061224489795918
         ],
         "matches": "x47",
         "range": [
          28.15,
          222.85
         ],
         "showticklabels": false
        },
        "xaxis2": {
         "anchor": "y2",
         "domain": [
          0.14693877551020407,
          0.26530612244897955
         ],
         "matches": "x44",
         "range": [
          248.5,
          479.5
         ],
         "showticklabels": false
        },
        "xaxis20": {
         "anchor": "y20",
         "domain": [
          0.7346938775510204,
          0.8530612244897959
         ],
         "matches": "x48",
         "range": [
          0.31387745887242086,
          1.0103678956524655
         ],
         "showticklabels": false
        },
        "xaxis21": {
         "anchor": "y21",
         "domain": [
          0.8816326530612244,
          0.9999999999999999
         ],
         "matches": "x49",
         "range": [
          0.55,
          10.45
         ],
         "showticklabels": false
        },
        "xaxis22": {
         "anchor": "y22",
         "domain": [
          0,
          0.1183673469387755
         ],
         "matches": "x43",
         "range": [
          0.40442728259101784,
          0.9040272792077289
         ],
         "showticklabels": false
        },
        "xaxis23": {
         "anchor": "y23",
         "domain": [
          0.14693877551020407,
          0.26530612244897955
         ],
         "matches": "x44",
         "range": [
          248.5,
          479.5
         ],
         "showticklabels": false
        },
        "xaxis24": {
         "anchor": "y24",
         "domain": [
          0.29387755102040813,
          0.4122448979591836
         ],
         "matches": "x45",
         "range": [
          0.04999999999999993,
          20.95
         ],
         "showticklabels": false
        },
        "xaxis25": {
         "anchor": "y25",
         "domain": [
          0.4408163265306122,
          0.5591836734693877
         ],
         "matches": "x46",
         "range": [
          11.95,
          101.05
         ],
         "showticklabels": false
        },
        "xaxis26": {
         "anchor": "y26",
         "domain": [
          0.5877551020408163,
          0.7061224489795918
         ],
         "matches": "x47",
         "range": [
          28.15,
          222.85
         ],
         "showticklabels": false
        },
        "xaxis27": {
         "anchor": "y27",
         "domain": [
          0.7346938775510204,
          0.8530612244897959
         ],
         "matches": "x48",
         "range": [
          0.31387745887242086,
          1.0103678956524655
         ],
         "showticklabels": false
        },
        "xaxis28": {
         "anchor": "y28",
         "domain": [
          0.8816326530612244,
          0.9999999999999999
         ],
         "matches": "x49",
         "range": [
          0.55,
          10.45
         ],
         "showticklabels": false
        },
        "xaxis29": {
         "anchor": "y29",
         "domain": [
          0,
          0.1183673469387755
         ],
         "matches": "x43",
         "range": [
          0.40442728259101784,
          0.9040272792077289
         ],
         "showticklabels": false
        },
        "xaxis3": {
         "anchor": "y3",
         "domain": [
          0.29387755102040813,
          0.4122448979591836
         ],
         "matches": "x45",
         "range": [
          0.04999999999999993,
          20.95
         ],
         "showticklabels": false
        },
        "xaxis30": {
         "anchor": "y30",
         "domain": [
          0.14693877551020407,
          0.26530612244897955
         ],
         "matches": "x44",
         "range": [
          248.5,
          479.5
         ],
         "showticklabels": false
        },
        "xaxis31": {
         "anchor": "y31",
         "domain": [
          0.29387755102040813,
          0.4122448979591836
         ],
         "matches": "x45",
         "range": [
          0.04999999999999993,
          20.95
         ],
         "showticklabels": false
        },
        "xaxis32": {
         "anchor": "y32",
         "domain": [
          0.4408163265306122,
          0.5591836734693877
         ],
         "matches": "x46",
         "range": [
          11.95,
          101.05
         ],
         "showticklabels": false
        },
        "xaxis33": {
         "anchor": "y33",
         "domain": [
          0.5877551020408163,
          0.7061224489795918
         ],
         "matches": "x47",
         "range": [
          28.15,
          222.85
         ],
         "showticklabels": false
        },
        "xaxis34": {
         "anchor": "y34",
         "domain": [
          0.7346938775510204,
          0.8530612244897959
         ],
         "matches": "x48",
         "range": [
          0.31387745887242086,
          1.0103678956524655
         ],
         "showticklabels": false
        },
        "xaxis35": {
         "anchor": "y35",
         "domain": [
          0.8816326530612244,
          0.9999999999999999
         ],
         "matches": "x49",
         "range": [
          0.55,
          10.45
         ],
         "showticklabels": false
        },
        "xaxis36": {
         "anchor": "y36",
         "domain": [
          0,
          0.1183673469387755
         ],
         "matches": "x43",
         "range": [
          0.40442728259101784,
          0.9040272792077289
         ],
         "showticklabels": false
        },
        "xaxis37": {
         "anchor": "y37",
         "domain": [
          0.14693877551020407,
          0.26530612244897955
         ],
         "matches": "x44",
         "range": [
          248.5,
          479.5
         ],
         "showticklabels": false
        },
        "xaxis38": {
         "anchor": "y38",
         "domain": [
          0.29387755102040813,
          0.4122448979591836
         ],
         "matches": "x45",
         "range": [
          0.04999999999999993,
          20.95
         ],
         "showticklabels": false
        },
        "xaxis39": {
         "anchor": "y39",
         "domain": [
          0.4408163265306122,
          0.5591836734693877
         ],
         "matches": "x46",
         "range": [
          11.95,
          101.05
         ],
         "showticklabels": false
        },
        "xaxis4": {
         "anchor": "y4",
         "domain": [
          0.4408163265306122,
          0.5591836734693877
         ],
         "matches": "x46",
         "range": [
          11.95,
          101.05
         ],
         "showticklabels": false
        },
        "xaxis40": {
         "anchor": "y40",
         "domain": [
          0.5877551020408163,
          0.7061224489795918
         ],
         "matches": "x47",
         "range": [
          28.15,
          222.85
         ],
         "showticklabels": false
        },
        "xaxis41": {
         "anchor": "y41",
         "domain": [
          0.7346938775510204,
          0.8530612244897959
         ],
         "matches": "x48",
         "range": [
          0.31387745887242086,
          1.0103678956524655
         ],
         "showticklabels": false
        },
        "xaxis42": {
         "anchor": "y42",
         "domain": [
          0.8816326530612244,
          0.9999999999999999
         ],
         "matches": "x49",
         "range": [
          0.55,
          10.45
         ],
         "showticklabels": false
        },
        "xaxis43": {
         "anchor": "y43",
         "domain": [
          0,
          0.1183673469387755
         ],
         "range": [
          0.40442728259101784,
          0.9040272792077289
         ],
         "title": {
          "text": "colsample_bytree"
         }
        },
        "xaxis44": {
         "anchor": "y44",
         "domain": [
          0.14693877551020407,
          0.26530612244897955
         ],
         "range": [
          248.5,
          479.5
         ],
         "title": {
          "text": "max_bin"
         }
        },
        "xaxis45": {
         "anchor": "y45",
         "domain": [
          0.29387755102040813,
          0.4122448979591836
         ],
         "range": [
          0.04999999999999993,
          20.95
         ],
         "title": {
          "text": "max_depth"
         }
        },
        "xaxis46": {
         "anchor": "y46",
         "domain": [
          0.4408163265306122,
          0.5591836734693877
         ],
         "range": [
          11.95,
          101.05
         ],
         "title": {
          "text": "min_child_samples"
         }
        },
        "xaxis47": {
         "anchor": "y47",
         "domain": [
          0.5877551020408163,
          0.7061224489795918
         ],
         "range": [
          28.15,
          222.85
         ],
         "title": {
          "text": "num_leaves"
         }
        },
        "xaxis48": {
         "anchor": "y48",
         "domain": [
          0.7346938775510204,
          0.8530612244897959
         ],
         "range": [
          0.31387745887242086,
          1.0103678956524655
         ],
         "title": {
          "text": "subsample"
         }
        },
        "xaxis49": {
         "anchor": "y49",
         "domain": [
          0.8816326530612244,
          0.9999999999999999
         ],
         "range": [
          0.55,
          10.45
         ],
         "title": {
          "text": "subsample_freq"
         }
        },
        "xaxis5": {
         "anchor": "y5",
         "domain": [
          0.5877551020408163,
          0.7061224489795918
         ],
         "matches": "x47",
         "range": [
          28.15,
          222.85
         ],
         "showticklabels": false
        },
        "xaxis6": {
         "anchor": "y6",
         "domain": [
          0.7346938775510204,
          0.8530612244897959
         ],
         "matches": "x48",
         "range": [
          0.31387745887242086,
          1.0103678956524655
         ],
         "showticklabels": false
        },
        "xaxis7": {
         "anchor": "y7",
         "domain": [
          0.8816326530612244,
          0.9999999999999999
         ],
         "matches": "x49",
         "range": [
          0.55,
          10.45
         ],
         "showticklabels": false
        },
        "xaxis8": {
         "anchor": "y8",
         "domain": [
          0,
          0.1183673469387755
         ],
         "matches": "x43",
         "range": [
          0.40442728259101784,
          0.9040272792077289
         ],
         "showticklabels": false
        },
        "xaxis9": {
         "anchor": "y9",
         "domain": [
          0.14693877551020407,
          0.26530612244897955
         ],
         "matches": "x44",
         "range": [
          248.5,
          479.5
         ],
         "showticklabels": false
        },
        "yaxis": {
         "anchor": "x",
         "domain": [
          0.8938775510204082,
          1
         ],
         "range": [
          0.40442728259101784,
          0.9040272792077289
         ],
         "title": {
          "text": "colsample_bytree"
         }
        },
        "yaxis10": {
         "anchor": "x10",
         "domain": [
          0.7448979591836735,
          0.8510204081632654
         ],
         "matches": "y8",
         "range": [
          248.5,
          479.5
         ],
         "showticklabels": false
        },
        "yaxis11": {
         "anchor": "x11",
         "domain": [
          0.7448979591836735,
          0.8510204081632654
         ],
         "matches": "y8",
         "range": [
          248.5,
          479.5
         ],
         "showticklabels": false
        },
        "yaxis12": {
         "anchor": "x12",
         "domain": [
          0.7448979591836735,
          0.8510204081632654
         ],
         "matches": "y8",
         "range": [
          248.5,
          479.5
         ],
         "showticklabels": false
        },
        "yaxis13": {
         "anchor": "x13",
         "domain": [
          0.7448979591836735,
          0.8510204081632654
         ],
         "matches": "y8",
         "range": [
          248.5,
          479.5
         ],
         "showticklabels": false
        },
        "yaxis14": {
         "anchor": "x14",
         "domain": [
          0.7448979591836735,
          0.8510204081632654
         ],
         "matches": "y8",
         "range": [
          248.5,
          479.5
         ],
         "showticklabels": false
        },
        "yaxis15": {
         "anchor": "x15",
         "domain": [
          0.5959183673469388,
          0.7020408163265307
         ],
         "range": [
          0.04999999999999993,
          20.95
         ],
         "title": {
          "text": "max_depth"
         }
        },
        "yaxis16": {
         "anchor": "x16",
         "domain": [
          0.5959183673469388,
          0.7020408163265307
         ],
         "matches": "y15",
         "range": [
          0.04999999999999993,
          20.95
         ],
         "showticklabels": false
        },
        "yaxis17": {
         "anchor": "x17",
         "domain": [
          0.5959183673469388,
          0.7020408163265307
         ],
         "matches": "y15",
         "range": [
          0.04999999999999993,
          20.95
         ],
         "showticklabels": false
        },
        "yaxis18": {
         "anchor": "x18",
         "domain": [
          0.5959183673469388,
          0.7020408163265307
         ],
         "matches": "y15",
         "range": [
          0.04999999999999993,
          20.95
         ],
         "showticklabels": false
        },
        "yaxis19": {
         "anchor": "x19",
         "domain": [
          0.5959183673469388,
          0.7020408163265307
         ],
         "matches": "y15",
         "range": [
          0.04999999999999993,
          20.95
         ],
         "showticklabels": false
        },
        "yaxis2": {
         "anchor": "x2",
         "domain": [
          0.8938775510204082,
          1
         ],
         "matches": "y",
         "range": [
          0.40442728259101784,
          0.9040272792077289
         ],
         "showticklabels": false
        },
        "yaxis20": {
         "anchor": "x20",
         "domain": [
          0.5959183673469388,
          0.7020408163265307
         ],
         "matches": "y15",
         "range": [
          0.04999999999999993,
          20.95
         ],
         "showticklabels": false
        },
        "yaxis21": {
         "anchor": "x21",
         "domain": [
          0.5959183673469388,
          0.7020408163265307
         ],
         "matches": "y15",
         "range": [
          0.04999999999999993,
          20.95
         ],
         "showticklabels": false
        },
        "yaxis22": {
         "anchor": "x22",
         "domain": [
          0.4469387755102041,
          0.553061224489796
         ],
         "range": [
          11.95,
          101.05
         ],
         "title": {
          "text": "min_child_samples"
         }
        },
        "yaxis23": {
         "anchor": "x23",
         "domain": [
          0.4469387755102041,
          0.553061224489796
         ],
         "matches": "y22",
         "range": [
          11.95,
          101.05
         ],
         "showticklabels": false
        },
        "yaxis24": {
         "anchor": "x24",
         "domain": [
          0.4469387755102041,
          0.553061224489796
         ],
         "matches": "y22",
         "range": [
          11.95,
          101.05
         ],
         "showticklabels": false
        },
        "yaxis25": {
         "anchor": "x25",
         "domain": [
          0.4469387755102041,
          0.553061224489796
         ],
         "matches": "y22",
         "range": [
          11.95,
          101.05
         ],
         "showticklabels": false
        },
        "yaxis26": {
         "anchor": "x26",
         "domain": [
          0.4469387755102041,
          0.553061224489796
         ],
         "matches": "y22",
         "range": [
          11.95,
          101.05
         ],
         "showticklabels": false
        },
        "yaxis27": {
         "anchor": "x27",
         "domain": [
          0.4469387755102041,
          0.553061224489796
         ],
         "matches": "y22",
         "range": [
          11.95,
          101.05
         ],
         "showticklabels": false
        },
        "yaxis28": {
         "anchor": "x28",
         "domain": [
          0.4469387755102041,
          0.553061224489796
         ],
         "matches": "y22",
         "range": [
          11.95,
          101.05
         ],
         "showticklabels": false
        },
        "yaxis29": {
         "anchor": "x29",
         "domain": [
          0.2979591836734694,
          0.40408163265306124
         ],
         "range": [
          28.15,
          222.85
         ],
         "title": {
          "text": "num_leaves"
         }
        },
        "yaxis3": {
         "anchor": "x3",
         "domain": [
          0.8938775510204082,
          1
         ],
         "matches": "y",
         "range": [
          0.40442728259101784,
          0.9040272792077289
         ],
         "showticklabels": false
        },
        "yaxis30": {
         "anchor": "x30",
         "domain": [
          0.2979591836734694,
          0.40408163265306124
         ],
         "matches": "y29",
         "range": [
          28.15,
          222.85
         ],
         "showticklabels": false
        },
        "yaxis31": {
         "anchor": "x31",
         "domain": [
          0.2979591836734694,
          0.40408163265306124
         ],
         "matches": "y29",
         "range": [
          28.15,
          222.85
         ],
         "showticklabels": false
        },
        "yaxis32": {
         "anchor": "x32",
         "domain": [
          0.2979591836734694,
          0.40408163265306124
         ],
         "matches": "y29",
         "range": [
          28.15,
          222.85
         ],
         "showticklabels": false
        },
        "yaxis33": {
         "anchor": "x33",
         "domain": [
          0.2979591836734694,
          0.40408163265306124
         ],
         "matches": "y29",
         "range": [
          28.15,
          222.85
         ],
         "showticklabels": false
        },
        "yaxis34": {
         "anchor": "x34",
         "domain": [
          0.2979591836734694,
          0.40408163265306124
         ],
         "matches": "y29",
         "range": [
          28.15,
          222.85
         ],
         "showticklabels": false
        },
        "yaxis35": {
         "anchor": "x35",
         "domain": [
          0.2979591836734694,
          0.40408163265306124
         ],
         "matches": "y29",
         "range": [
          28.15,
          222.85
         ],
         "showticklabels": false
        },
        "yaxis36": {
         "anchor": "x36",
         "domain": [
          0.1489795918367347,
          0.25510204081632654
         ],
         "range": [
          0.31387745887242086,
          1.0103678956524655
         ],
         "title": {
          "text": "subsample"
         }
        },
        "yaxis37": {
         "anchor": "x37",
         "domain": [
          0.1489795918367347,
          0.25510204081632654
         ],
         "matches": "y36",
         "range": [
          0.31387745887242086,
          1.0103678956524655
         ],
         "showticklabels": false
        },
        "yaxis38": {
         "anchor": "x38",
         "domain": [
          0.1489795918367347,
          0.25510204081632654
         ],
         "matches": "y36",
         "range": [
          0.31387745887242086,
          1.0103678956524655
         ],
         "showticklabels": false
        },
        "yaxis39": {
         "anchor": "x39",
         "domain": [
          0.1489795918367347,
          0.25510204081632654
         ],
         "matches": "y36",
         "range": [
          0.31387745887242086,
          1.0103678956524655
         ],
         "showticklabels": false
        },
        "yaxis4": {
         "anchor": "x4",
         "domain": [
          0.8938775510204082,
          1
         ],
         "matches": "y",
         "range": [
          0.40442728259101784,
          0.9040272792077289
         ],
         "showticklabels": false
        },
        "yaxis40": {
         "anchor": "x40",
         "domain": [
          0.1489795918367347,
          0.25510204081632654
         ],
         "matches": "y36",
         "range": [
          0.31387745887242086,
          1.0103678956524655
         ],
         "showticklabels": false
        },
        "yaxis41": {
         "anchor": "x41",
         "domain": [
          0.1489795918367347,
          0.25510204081632654
         ],
         "matches": "y36",
         "range": [
          0.31387745887242086,
          1.0103678956524655
         ],
         "showticklabels": false
        },
        "yaxis42": {
         "anchor": "x42",
         "domain": [
          0.1489795918367347,
          0.25510204081632654
         ],
         "matches": "y36",
         "range": [
          0.31387745887242086,
          1.0103678956524655
         ],
         "showticklabels": false
        },
        "yaxis43": {
         "anchor": "x43",
         "domain": [
          0,
          0.10612244897959185
         ],
         "range": [
          0.55,
          10.45
         ],
         "title": {
          "text": "subsample_freq"
         }
        },
        "yaxis44": {
         "anchor": "x44",
         "domain": [
          0,
          0.10612244897959185
         ],
         "matches": "y43",
         "range": [
          0.55,
          10.45
         ],
         "showticklabels": false
        },
        "yaxis45": {
         "anchor": "x45",
         "domain": [
          0,
          0.10612244897959185
         ],
         "matches": "y43",
         "range": [
          0.55,
          10.45
         ],
         "showticklabels": false
        },
        "yaxis46": {
         "anchor": "x46",
         "domain": [
          0,
          0.10612244897959185
         ],
         "matches": "y43",
         "range": [
          0.55,
          10.45
         ],
         "showticklabels": false
        },
        "yaxis47": {
         "anchor": "x47",
         "domain": [
          0,
          0.10612244897959185
         ],
         "matches": "y43",
         "range": [
          0.55,
          10.45
         ],
         "showticklabels": false
        },
        "yaxis48": {
         "anchor": "x48",
         "domain": [
          0,
          0.10612244897959185
         ],
         "matches": "y43",
         "range": [
          0.55,
          10.45
         ],
         "showticklabels": false
        },
        "yaxis49": {
         "anchor": "x49",
         "domain": [
          0,
          0.10612244897959185
         ],
         "matches": "y43",
         "range": [
          0.55,
          10.45
         ],
         "showticklabels": false
        },
        "yaxis5": {
         "anchor": "x5",
         "domain": [
          0.8938775510204082,
          1
         ],
         "matches": "y",
         "range": [
          0.40442728259101784,
          0.9040272792077289
         ],
         "showticklabels": false
        },
        "yaxis6": {
         "anchor": "x6",
         "domain": [
          0.8938775510204082,
          1
         ],
         "matches": "y",
         "range": [
          0.40442728259101784,
          0.9040272792077289
         ],
         "showticklabels": false
        },
        "yaxis7": {
         "anchor": "x7",
         "domain": [
          0.8938775510204082,
          1
         ],
         "matches": "y",
         "range": [
          0.40442728259101784,
          0.9040272792077289
         ],
         "showticklabels": false
        },
        "yaxis8": {
         "anchor": "x8",
         "domain": [
          0.7448979591836735,
          0.8510204081632654
         ],
         "range": [
          248.5,
          479.5
         ],
         "title": {
          "text": "max_bin"
         }
        },
        "yaxis9": {
         "anchor": "x9",
         "domain": [
          0.7448979591836735,
          0.8510204081632654
         ],
         "matches": "y8",
         "range": [
          248.5,
          479.5
         ],
         "showticklabels": false
        }
       }
      }
     },
     "metadata": {}
    }
   ],
   "metadata": {}
  },
  {
   "cell_type": "code",
   "execution_count": 20,
   "source": [
    "# 하이퍼파라미터 중요도\r\n",
    "optuna.visualization.plot_param_importances(study)"
   ],
   "outputs": [
    {
     "output_type": "display_data",
     "data": {
      "application/vnd.plotly.v1+json": {
       "config": {
        "plotlyServerURL": "https://plot.ly"
       },
       "data": [
        {
         "cliponaxis": false,
         "hovertemplate": [
          "num_leaves (IntUniformDistribution): 0.0014528770349990182<extra></extra>",
          "subsample_freq (IntUniformDistribution): 0.005896615342134645<extra></extra>",
          "min_child_samples (IntUniformDistribution): 0.01887020474363693<extra></extra>",
          "reg_lambda (UniformDistribution): 0.03231024405541676<extra></extra>",
          "max_bin (IntUniformDistribution): 0.04445698980140517<extra></extra>",
          "colsample_bytree (UniformDistribution): 0.05486601969360147<extra></extra>",
          "subsample (UniformDistribution): 0.06100745933707787<extra></extra>",
          "reg_alpha (UniformDistribution): 0.09879821477982859<extra></extra>",
          "max_depth (IntUniformDistribution): 0.6823413752118996<extra></extra>"
         ],
         "marker": {
          "color": "rgb(66,146,198)"
         },
         "orientation": "h",
         "text": [
          "0.0014528770349990182",
          "0.005896615342134645",
          "0.01887020474363693",
          "0.03231024405541676",
          "0.04445698980140517",
          "0.05486601969360147",
          "0.06100745933707787",
          "0.09879821477982859",
          "0.6823413752118996"
         ],
         "textposition": "outside",
         "texttemplate": "%{text:.2f}",
         "type": "bar",
         "x": [
          0.0014528770349990182,
          0.005896615342134645,
          0.01887020474363693,
          0.03231024405541676,
          0.04445698980140517,
          0.05486601969360147,
          0.06100745933707787,
          0.09879821477982859,
          0.6823413752118996
         ],
         "y": [
          "num_leaves",
          "subsample_freq",
          "min_child_samples",
          "reg_lambda",
          "max_bin",
          "colsample_bytree",
          "subsample",
          "reg_alpha",
          "max_depth"
         ]
        }
       ],
       "layout": {
        "showlegend": false,
        "template": {
         "data": {
          "bar": [
           {
            "error_x": {
             "color": "#2a3f5f"
            },
            "error_y": {
             "color": "#2a3f5f"
            },
            "marker": {
             "line": {
              "color": "#E5ECF6",
              "width": 0.5
             },
             "pattern": {
              "fillmode": "overlay",
              "size": 10,
              "solidity": 0.2
             }
            },
            "type": "bar"
           }
          ],
          "barpolar": [
           {
            "marker": {
             "line": {
              "color": "#E5ECF6",
              "width": 0.5
             },
             "pattern": {
              "fillmode": "overlay",
              "size": 10,
              "solidity": 0.2
             }
            },
            "type": "barpolar"
           }
          ],
          "carpet": [
           {
            "aaxis": {
             "endlinecolor": "#2a3f5f",
             "gridcolor": "white",
             "linecolor": "white",
             "minorgridcolor": "white",
             "startlinecolor": "#2a3f5f"
            },
            "baxis": {
             "endlinecolor": "#2a3f5f",
             "gridcolor": "white",
             "linecolor": "white",
             "minorgridcolor": "white",
             "startlinecolor": "#2a3f5f"
            },
            "type": "carpet"
           }
          ],
          "choropleth": [
           {
            "colorbar": {
             "outlinewidth": 0,
             "ticks": ""
            },
            "type": "choropleth"
           }
          ],
          "contour": [
           {
            "colorbar": {
             "outlinewidth": 0,
             "ticks": ""
            },
            "colorscale": [
             [
              0,
              "#0d0887"
             ],
             [
              0.1111111111111111,
              "#46039f"
             ],
             [
              0.2222222222222222,
              "#7201a8"
             ],
             [
              0.3333333333333333,
              "#9c179e"
             ],
             [
              0.4444444444444444,
              "#bd3786"
             ],
             [
              0.5555555555555556,
              "#d8576b"
             ],
             [
              0.6666666666666666,
              "#ed7953"
             ],
             [
              0.7777777777777778,
              "#fb9f3a"
             ],
             [
              0.8888888888888888,
              "#fdca26"
             ],
             [
              1,
              "#f0f921"
             ]
            ],
            "type": "contour"
           }
          ],
          "contourcarpet": [
           {
            "colorbar": {
             "outlinewidth": 0,
             "ticks": ""
            },
            "type": "contourcarpet"
           }
          ],
          "heatmap": [
           {
            "colorbar": {
             "outlinewidth": 0,
             "ticks": ""
            },
            "colorscale": [
             [
              0,
              "#0d0887"
             ],
             [
              0.1111111111111111,
              "#46039f"
             ],
             [
              0.2222222222222222,
              "#7201a8"
             ],
             [
              0.3333333333333333,
              "#9c179e"
             ],
             [
              0.4444444444444444,
              "#bd3786"
             ],
             [
              0.5555555555555556,
              "#d8576b"
             ],
             [
              0.6666666666666666,
              "#ed7953"
             ],
             [
              0.7777777777777778,
              "#fb9f3a"
             ],
             [
              0.8888888888888888,
              "#fdca26"
             ],
             [
              1,
              "#f0f921"
             ]
            ],
            "type": "heatmap"
           }
          ],
          "heatmapgl": [
           {
            "colorbar": {
             "outlinewidth": 0,
             "ticks": ""
            },
            "colorscale": [
             [
              0,
              "#0d0887"
             ],
             [
              0.1111111111111111,
              "#46039f"
             ],
             [
              0.2222222222222222,
              "#7201a8"
             ],
             [
              0.3333333333333333,
              "#9c179e"
             ],
             [
              0.4444444444444444,
              "#bd3786"
             ],
             [
              0.5555555555555556,
              "#d8576b"
             ],
             [
              0.6666666666666666,
              "#ed7953"
             ],
             [
              0.7777777777777778,
              "#fb9f3a"
             ],
             [
              0.8888888888888888,
              "#fdca26"
             ],
             [
              1,
              "#f0f921"
             ]
            ],
            "type": "heatmapgl"
           }
          ],
          "histogram": [
           {
            "marker": {
             "pattern": {
              "fillmode": "overlay",
              "size": 10,
              "solidity": 0.2
             }
            },
            "type": "histogram"
           }
          ],
          "histogram2d": [
           {
            "colorbar": {
             "outlinewidth": 0,
             "ticks": ""
            },
            "colorscale": [
             [
              0,
              "#0d0887"
             ],
             [
              0.1111111111111111,
              "#46039f"
             ],
             [
              0.2222222222222222,
              "#7201a8"
             ],
             [
              0.3333333333333333,
              "#9c179e"
             ],
             [
              0.4444444444444444,
              "#bd3786"
             ],
             [
              0.5555555555555556,
              "#d8576b"
             ],
             [
              0.6666666666666666,
              "#ed7953"
             ],
             [
              0.7777777777777778,
              "#fb9f3a"
             ],
             [
              0.8888888888888888,
              "#fdca26"
             ],
             [
              1,
              "#f0f921"
             ]
            ],
            "type": "histogram2d"
           }
          ],
          "histogram2dcontour": [
           {
            "colorbar": {
             "outlinewidth": 0,
             "ticks": ""
            },
            "colorscale": [
             [
              0,
              "#0d0887"
             ],
             [
              0.1111111111111111,
              "#46039f"
             ],
             [
              0.2222222222222222,
              "#7201a8"
             ],
             [
              0.3333333333333333,
              "#9c179e"
             ],
             [
              0.4444444444444444,
              "#bd3786"
             ],
             [
              0.5555555555555556,
              "#d8576b"
             ],
             [
              0.6666666666666666,
              "#ed7953"
             ],
             [
              0.7777777777777778,
              "#fb9f3a"
             ],
             [
              0.8888888888888888,
              "#fdca26"
             ],
             [
              1,
              "#f0f921"
             ]
            ],
            "type": "histogram2dcontour"
           }
          ],
          "mesh3d": [
           {
            "colorbar": {
             "outlinewidth": 0,
             "ticks": ""
            },
            "type": "mesh3d"
           }
          ],
          "parcoords": [
           {
            "line": {
             "colorbar": {
              "outlinewidth": 0,
              "ticks": ""
             }
            },
            "type": "parcoords"
           }
          ],
          "pie": [
           {
            "automargin": true,
            "type": "pie"
           }
          ],
          "scatter": [
           {
            "marker": {
             "colorbar": {
              "outlinewidth": 0,
              "ticks": ""
             }
            },
            "type": "scatter"
           }
          ],
          "scatter3d": [
           {
            "line": {
             "colorbar": {
              "outlinewidth": 0,
              "ticks": ""
             }
            },
            "marker": {
             "colorbar": {
              "outlinewidth": 0,
              "ticks": ""
             }
            },
            "type": "scatter3d"
           }
          ],
          "scattercarpet": [
           {
            "marker": {
             "colorbar": {
              "outlinewidth": 0,
              "ticks": ""
             }
            },
            "type": "scattercarpet"
           }
          ],
          "scattergeo": [
           {
            "marker": {
             "colorbar": {
              "outlinewidth": 0,
              "ticks": ""
             }
            },
            "type": "scattergeo"
           }
          ],
          "scattergl": [
           {
            "marker": {
             "colorbar": {
              "outlinewidth": 0,
              "ticks": ""
             }
            },
            "type": "scattergl"
           }
          ],
          "scattermapbox": [
           {
            "marker": {
             "colorbar": {
              "outlinewidth": 0,
              "ticks": ""
             }
            },
            "type": "scattermapbox"
           }
          ],
          "scatterpolar": [
           {
            "marker": {
             "colorbar": {
              "outlinewidth": 0,
              "ticks": ""
             }
            },
            "type": "scatterpolar"
           }
          ],
          "scatterpolargl": [
           {
            "marker": {
             "colorbar": {
              "outlinewidth": 0,
              "ticks": ""
             }
            },
            "type": "scatterpolargl"
           }
          ],
          "scatterternary": [
           {
            "marker": {
             "colorbar": {
              "outlinewidth": 0,
              "ticks": ""
             }
            },
            "type": "scatterternary"
           }
          ],
          "surface": [
           {
            "colorbar": {
             "outlinewidth": 0,
             "ticks": ""
            },
            "colorscale": [
             [
              0,
              "#0d0887"
             ],
             [
              0.1111111111111111,
              "#46039f"
             ],
             [
              0.2222222222222222,
              "#7201a8"
             ],
             [
              0.3333333333333333,
              "#9c179e"
             ],
             [
              0.4444444444444444,
              "#bd3786"
             ],
             [
              0.5555555555555556,
              "#d8576b"
             ],
             [
              0.6666666666666666,
              "#ed7953"
             ],
             [
              0.7777777777777778,
              "#fb9f3a"
             ],
             [
              0.8888888888888888,
              "#fdca26"
             ],
             [
              1,
              "#f0f921"
             ]
            ],
            "type": "surface"
           }
          ],
          "table": [
           {
            "cells": {
             "fill": {
              "color": "#EBF0F8"
             },
             "line": {
              "color": "white"
             }
            },
            "header": {
             "fill": {
              "color": "#C8D4E3"
             },
             "line": {
              "color": "white"
             }
            },
            "type": "table"
           }
          ]
         },
         "layout": {
          "annotationdefaults": {
           "arrowcolor": "#2a3f5f",
           "arrowhead": 0,
           "arrowwidth": 1
          },
          "autotypenumbers": "strict",
          "coloraxis": {
           "colorbar": {
            "outlinewidth": 0,
            "ticks": ""
           }
          },
          "colorscale": {
           "diverging": [
            [
             0,
             "#8e0152"
            ],
            [
             0.1,
             "#c51b7d"
            ],
            [
             0.2,
             "#de77ae"
            ],
            [
             0.3,
             "#f1b6da"
            ],
            [
             0.4,
             "#fde0ef"
            ],
            [
             0.5,
             "#f7f7f7"
            ],
            [
             0.6,
             "#e6f5d0"
            ],
            [
             0.7,
             "#b8e186"
            ],
            [
             0.8,
             "#7fbc41"
            ],
            [
             0.9,
             "#4d9221"
            ],
            [
             1,
             "#276419"
            ]
           ],
           "sequential": [
            [
             0,
             "#0d0887"
            ],
            [
             0.1111111111111111,
             "#46039f"
            ],
            [
             0.2222222222222222,
             "#7201a8"
            ],
            [
             0.3333333333333333,
             "#9c179e"
            ],
            [
             0.4444444444444444,
             "#bd3786"
            ],
            [
             0.5555555555555556,
             "#d8576b"
            ],
            [
             0.6666666666666666,
             "#ed7953"
            ],
            [
             0.7777777777777778,
             "#fb9f3a"
            ],
            [
             0.8888888888888888,
             "#fdca26"
            ],
            [
             1,
             "#f0f921"
            ]
           ],
           "sequentialminus": [
            [
             0,
             "#0d0887"
            ],
            [
             0.1111111111111111,
             "#46039f"
            ],
            [
             0.2222222222222222,
             "#7201a8"
            ],
            [
             0.3333333333333333,
             "#9c179e"
            ],
            [
             0.4444444444444444,
             "#bd3786"
            ],
            [
             0.5555555555555556,
             "#d8576b"
            ],
            [
             0.6666666666666666,
             "#ed7953"
            ],
            [
             0.7777777777777778,
             "#fb9f3a"
            ],
            [
             0.8888888888888888,
             "#fdca26"
            ],
            [
             1,
             "#f0f921"
            ]
           ]
          },
          "colorway": [
           "#636efa",
           "#EF553B",
           "#00cc96",
           "#ab63fa",
           "#FFA15A",
           "#19d3f3",
           "#FF6692",
           "#B6E880",
           "#FF97FF",
           "#FECB52"
          ],
          "font": {
           "color": "#2a3f5f"
          },
          "geo": {
           "bgcolor": "white",
           "lakecolor": "white",
           "landcolor": "#E5ECF6",
           "showlakes": true,
           "showland": true,
           "subunitcolor": "white"
          },
          "hoverlabel": {
           "align": "left"
          },
          "hovermode": "closest",
          "mapbox": {
           "style": "light"
          },
          "paper_bgcolor": "white",
          "plot_bgcolor": "#E5ECF6",
          "polar": {
           "angularaxis": {
            "gridcolor": "white",
            "linecolor": "white",
            "ticks": ""
           },
           "bgcolor": "#E5ECF6",
           "radialaxis": {
            "gridcolor": "white",
            "linecolor": "white",
            "ticks": ""
           }
          },
          "scene": {
           "xaxis": {
            "backgroundcolor": "#E5ECF6",
            "gridcolor": "white",
            "gridwidth": 2,
            "linecolor": "white",
            "showbackground": true,
            "ticks": "",
            "zerolinecolor": "white"
           },
           "yaxis": {
            "backgroundcolor": "#E5ECF6",
            "gridcolor": "white",
            "gridwidth": 2,
            "linecolor": "white",
            "showbackground": true,
            "ticks": "",
            "zerolinecolor": "white"
           },
           "zaxis": {
            "backgroundcolor": "#E5ECF6",
            "gridcolor": "white",
            "gridwidth": 2,
            "linecolor": "white",
            "showbackground": true,
            "ticks": "",
            "zerolinecolor": "white"
           }
          },
          "shapedefaults": {
           "line": {
            "color": "#2a3f5f"
           }
          },
          "ternary": {
           "aaxis": {
            "gridcolor": "white",
            "linecolor": "white",
            "ticks": ""
           },
           "baxis": {
            "gridcolor": "white",
            "linecolor": "white",
            "ticks": ""
           },
           "bgcolor": "#E5ECF6",
           "caxis": {
            "gridcolor": "white",
            "linecolor": "white",
            "ticks": ""
           }
          },
          "title": {
           "x": 0.05
          },
          "xaxis": {
           "automargin": true,
           "gridcolor": "white",
           "linecolor": "white",
           "ticks": "",
           "title": {
            "standoff": 15
           },
           "zerolinecolor": "white",
           "zerolinewidth": 2
          },
          "yaxis": {
           "automargin": true,
           "gridcolor": "white",
           "linecolor": "white",
           "ticks": "",
           "title": {
            "standoff": 15
           },
           "zerolinecolor": "white",
           "zerolinewidth": 2
          }
         }
        },
        "title": {
         "text": "Hyperparameter Importances"
        },
        "xaxis": {
         "title": {
          "text": "Importance for Objective Value"
         }
        },
        "yaxis": {
         "title": {
          "text": "Hyperparameter"
         }
        }
       }
      }
     },
     "metadata": {}
    }
   ],
   "metadata": {}
  },
  {
   "cell_type": "code",
   "execution_count": null,
   "source": [
    "d"
   ],
   "outputs": [],
   "metadata": {}
  }
 ],
 "metadata": {
  "orig_nbformat": 4,
  "language_info": {
   "name": "python",
   "version": "3.8.5",
   "mimetype": "text/x-python",
   "codemirror_mode": {
    "name": "ipython",
    "version": 3
   },
   "pygments_lexer": "ipython3",
   "nbconvert_exporter": "python",
   "file_extension": ".py"
  },
  "kernelspec": {
   "name": "python3",
   "display_name": "Python 3.8.5 64-bit ('base': conda)"
  },
  "interpreter": {
   "hash": "b3ba2566441a7c06988d0923437866b63cedc61552a5af99d1f4fb67d367b25f"
  }
 },
 "nbformat": 4,
 "nbformat_minor": 2
}